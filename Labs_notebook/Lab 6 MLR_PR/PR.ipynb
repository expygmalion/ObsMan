{
 "cells": [
  {
   "cell_type": "code",
   "execution_count": 2,
   "id": "ed35b4a7",
   "metadata": {},
   "outputs": [],
   "source": [
    "import numpy as np\n",
    "import pandas as pd\n",
    "import seaborn as sns\n",
    "import matplotlib.pyplot as plt\n",
    "from sklearn import linear_model\n",
    "from sklearn import metrics\n",
    "from sklearn.model_selection import train_test_split\n",
    "from sklearn.preprocessing import LabelEncoder\n",
    "\n",
    "# for polynomial features\n",
    "from sklearn.preprocessing import PolynomialFeatures"
   ]
  },
  {
   "cell_type": "markdown",
   "id": "df154a57",
   "metadata": {},
   "source": [
    "Load players data"
   ]
  },
  {
   "cell_type": "code",
   "execution_count": 3,
   "id": "7a0bf2d6",
   "metadata": {
    "scrolled": false
   },
   "outputs": [
    {
     "data": {
      "text/html": [
       "<div>\n",
       "<style scoped>\n",
       "    .dataframe tbody tr th:only-of-type {\n",
       "        vertical-align: middle;\n",
       "    }\n",
       "\n",
       "    .dataframe tbody tr th {\n",
       "        vertical-align: top;\n",
       "    }\n",
       "\n",
       "    .dataframe thead th {\n",
       "        text-align: right;\n",
       "    }\n",
       "</style>\n",
       "<table border=\"1\" class=\"dataframe\">\n",
       "  <thead>\n",
       "    <tr style=\"text-align: right;\">\n",
       "      <th></th>\n",
       "      <th>Name</th>\n",
       "      <th>Age</th>\n",
       "      <th>Nationality</th>\n",
       "      <th>Overall</th>\n",
       "      <th>Potential</th>\n",
       "      <th>Club</th>\n",
       "      <th>Position</th>\n",
       "      <th>Crossing</th>\n",
       "      <th>Finishing</th>\n",
       "      <th>HeadingAccuracy</th>\n",
       "      <th>...</th>\n",
       "      <th>Penalties</th>\n",
       "      <th>Composure</th>\n",
       "      <th>Marking</th>\n",
       "      <th>StandingTackle</th>\n",
       "      <th>SlidingTackle</th>\n",
       "      <th>GKDiving</th>\n",
       "      <th>GKHandling</th>\n",
       "      <th>GKKicking</th>\n",
       "      <th>GKPositioning</th>\n",
       "      <th>Value</th>\n",
       "    </tr>\n",
       "  </thead>\n",
       "  <tbody>\n",
       "    <tr>\n",
       "      <th>0</th>\n",
       "      <td>L. Messi</td>\n",
       "      <td>31</td>\n",
       "      <td>Argentina</td>\n",
       "      <td>94</td>\n",
       "      <td>94</td>\n",
       "      <td>FC Barcelona</td>\n",
       "      <td>RF</td>\n",
       "      <td>84.0</td>\n",
       "      <td>95.0</td>\n",
       "      <td>70.0</td>\n",
       "      <td>...</td>\n",
       "      <td>75.0</td>\n",
       "      <td>96.0</td>\n",
       "      <td>33.0</td>\n",
       "      <td>28.0</td>\n",
       "      <td>26.0</td>\n",
       "      <td>6.0</td>\n",
       "      <td>11.0</td>\n",
       "      <td>15.0</td>\n",
       "      <td>14.0</td>\n",
       "      <td>110.5</td>\n",
       "    </tr>\n",
       "    <tr>\n",
       "      <th>1</th>\n",
       "      <td>Cristiano Ronaldo</td>\n",
       "      <td>33</td>\n",
       "      <td>Portugal</td>\n",
       "      <td>94</td>\n",
       "      <td>94</td>\n",
       "      <td>Juventus</td>\n",
       "      <td>ST</td>\n",
       "      <td>84.0</td>\n",
       "      <td>94.0</td>\n",
       "      <td>89.0</td>\n",
       "      <td>...</td>\n",
       "      <td>85.0</td>\n",
       "      <td>95.0</td>\n",
       "      <td>28.0</td>\n",
       "      <td>31.0</td>\n",
       "      <td>23.0</td>\n",
       "      <td>7.0</td>\n",
       "      <td>11.0</td>\n",
       "      <td>15.0</td>\n",
       "      <td>14.0</td>\n",
       "      <td>77.0</td>\n",
       "    </tr>\n",
       "    <tr>\n",
       "      <th>2</th>\n",
       "      <td>Neymar Jr</td>\n",
       "      <td>26</td>\n",
       "      <td>Brazil</td>\n",
       "      <td>92</td>\n",
       "      <td>93</td>\n",
       "      <td>Paris Saint-Germain</td>\n",
       "      <td>LW</td>\n",
       "      <td>79.0</td>\n",
       "      <td>87.0</td>\n",
       "      <td>62.0</td>\n",
       "      <td>...</td>\n",
       "      <td>81.0</td>\n",
       "      <td>94.0</td>\n",
       "      <td>27.0</td>\n",
       "      <td>24.0</td>\n",
       "      <td>33.0</td>\n",
       "      <td>9.0</td>\n",
       "      <td>9.0</td>\n",
       "      <td>15.0</td>\n",
       "      <td>15.0</td>\n",
       "      <td>118.5</td>\n",
       "    </tr>\n",
       "    <tr>\n",
       "      <th>3</th>\n",
       "      <td>De Gea</td>\n",
       "      <td>27</td>\n",
       "      <td>Spain</td>\n",
       "      <td>91</td>\n",
       "      <td>93</td>\n",
       "      <td>Manchester United</td>\n",
       "      <td>GK</td>\n",
       "      <td>17.0</td>\n",
       "      <td>13.0</td>\n",
       "      <td>21.0</td>\n",
       "      <td>...</td>\n",
       "      <td>40.0</td>\n",
       "      <td>68.0</td>\n",
       "      <td>15.0</td>\n",
       "      <td>21.0</td>\n",
       "      <td>13.0</td>\n",
       "      <td>90.0</td>\n",
       "      <td>85.0</td>\n",
       "      <td>87.0</td>\n",
       "      <td>88.0</td>\n",
       "      <td>72.0</td>\n",
       "    </tr>\n",
       "    <tr>\n",
       "      <th>4</th>\n",
       "      <td>K. De Bruyne</td>\n",
       "      <td>27</td>\n",
       "      <td>Belgium</td>\n",
       "      <td>91</td>\n",
       "      <td>92</td>\n",
       "      <td>Manchester City</td>\n",
       "      <td>RCM</td>\n",
       "      <td>93.0</td>\n",
       "      <td>82.0</td>\n",
       "      <td>55.0</td>\n",
       "      <td>...</td>\n",
       "      <td>79.0</td>\n",
       "      <td>88.0</td>\n",
       "      <td>68.0</td>\n",
       "      <td>58.0</td>\n",
       "      <td>51.0</td>\n",
       "      <td>15.0</td>\n",
       "      <td>13.0</td>\n",
       "      <td>5.0</td>\n",
       "      <td>10.0</td>\n",
       "      <td>102.0</td>\n",
       "    </tr>\n",
       "  </tbody>\n",
       "</table>\n",
       "<p>5 rows × 41 columns</p>\n",
       "</div>"
      ],
      "text/plain": [
       "                Name  Age Nationality  Overall  Potential  \\\n",
       "0           L. Messi   31   Argentina       94         94   \n",
       "1  Cristiano Ronaldo   33    Portugal       94         94   \n",
       "2          Neymar Jr   26      Brazil       92         93   \n",
       "3             De Gea   27       Spain       91         93   \n",
       "4       K. De Bruyne   27     Belgium       91         92   \n",
       "\n",
       "                  Club Position  Crossing  Finishing  HeadingAccuracy  ...  \\\n",
       "0         FC Barcelona       RF      84.0       95.0             70.0  ...   \n",
       "1             Juventus       ST      84.0       94.0             89.0  ...   \n",
       "2  Paris Saint-Germain       LW      79.0       87.0             62.0  ...   \n",
       "3    Manchester United       GK      17.0       13.0             21.0  ...   \n",
       "4      Manchester City      RCM      93.0       82.0             55.0  ...   \n",
       "\n",
       "   Penalties  Composure  Marking  StandingTackle  SlidingTackle  GKDiving  \\\n",
       "0       75.0       96.0     33.0            28.0           26.0       6.0   \n",
       "1       85.0       95.0     28.0            31.0           23.0       7.0   \n",
       "2       81.0       94.0     27.0            24.0           33.0       9.0   \n",
       "3       40.0       68.0     15.0            21.0           13.0      90.0   \n",
       "4       79.0       88.0     68.0            58.0           51.0      15.0   \n",
       "\n",
       "   GKHandling  GKKicking  GKPositioning  Value  \n",
       "0        11.0       15.0           14.0  110.5  \n",
       "1        11.0       15.0           14.0   77.0  \n",
       "2         9.0       15.0           15.0  118.5  \n",
       "3        85.0       87.0           88.0   72.0  \n",
       "4        13.0        5.0           10.0  102.0  \n",
       "\n",
       "[5 rows x 41 columns]"
      ]
     },
     "execution_count": 3,
     "metadata": {},
     "output_type": "execute_result"
    }
   ],
   "source": [
    "data = pd.read_excel('fifa22.xlsx')\n",
    "data.head()"
   ]
  },
  {
   "cell_type": "markdown",
   "id": "5c3ad3ef",
   "metadata": {},
   "source": [
    "# Preprocessing"
   ]
  },
  {
   "cell_type": "code",
   "execution_count": 4,
   "id": "966f9d0a",
   "metadata": {
    "scrolled": true
   },
   "outputs": [
    {
     "data": {
      "text/plain": [
       "Name                0\n",
       "Age                 0\n",
       "Nationality         0\n",
       "Overall             0\n",
       "Potential           0\n",
       "Club                0\n",
       "Position           48\n",
       "Crossing           48\n",
       "Finishing          48\n",
       "HeadingAccuracy    48\n",
       "ShortPassing       48\n",
       "Volleys            48\n",
       "Dribbling          48\n",
       "Curve              48\n",
       "FKAccuracy         48\n",
       "LongPassing        48\n",
       "BallControl        48\n",
       "Acceleration       48\n",
       "SprintSpeed        48\n",
       "Agility            48\n",
       "Reactions          48\n",
       "Balance            48\n",
       "ShotPower          48\n",
       "Jumping            48\n",
       "Stamina            48\n",
       "Strength           48\n",
       "LongShots          48\n",
       "Aggression         48\n",
       "Interceptions      48\n",
       "Positioning        48\n",
       "Vision             48\n",
       "Penalties          48\n",
       "Composure          48\n",
       "Marking            48\n",
       "StandingTackle     48\n",
       "SlidingTackle      48\n",
       "GKDiving           48\n",
       "GKHandling         48\n",
       "GKKicking          48\n",
       "GKPositioning      48\n",
       "Value               0\n",
       "dtype: int64"
      ]
     },
     "execution_count": 4,
     "metadata": {},
     "output_type": "execute_result"
    }
   ],
   "source": [
    "data.isnull().sum()"
   ]
  },
  {
   "cell_type": "markdown",
   "id": "19293726",
   "metadata": {},
   "source": [
    "Drop the rows that contain missing values\n",
    "\n",
    "how='any': If any value is missing (NaN) in a row, that row will be dropped.\n",
    "\n",
    "how='all': only rows where all values are missing would be dropped."
   ]
  },
  {
   "cell_type": "code",
   "execution_count": 5,
   "id": "169813e7",
   "metadata": {},
   "outputs": [],
   "source": [
    "data.dropna(how='any', inplace=True)"
   ]
  },
  {
   "cell_type": "code",
   "execution_count": 6,
   "id": "41e9509d",
   "metadata": {},
   "outputs": [
    {
     "data": {
      "text/plain": [
       "0"
      ]
     },
     "execution_count": 6,
     "metadata": {},
     "output_type": "execute_result"
    }
   ],
   "source": [
    "data.isnull().sum().sum()"
   ]
  },
  {
   "cell_type": "code",
   "execution_count": 64,
   "id": "59a524d4",
   "metadata": {},
   "outputs": [],
   "source": [
    "X = data.iloc[:,1:40] #Features\n",
    "Y = data['Value'] #Label"
   ]
  },
  {
   "cell_type": "code",
   "execution_count": 65,
   "id": "8ff110bb",
   "metadata": {},
   "outputs": [],
   "source": [
    "def Feature_Encoder(X, cols):\n",
    "    for c in cols:\n",
    "        lbl = LabelEncoder()\n",
    "        lbl.fit(list(X[c].values)) # nationality, club, position (convert them to numbers 0- nclass-1)\n",
    "        X[c] = lbl.transform(list(X[c].values))\n",
    "    return X"
   ]
  },
  {
   "cell_type": "code",
   "execution_count": 66,
   "id": "55ecc1af",
   "metadata": {},
   "outputs": [
    {
     "data": {
      "text/plain": [
       "0    Argentina\n",
       "1     Portugal\n",
       "2       Brazil\n",
       "3        Spain\n",
       "Name: Nationality, dtype: object"
      ]
     },
     "execution_count": 66,
     "metadata": {},
     "output_type": "execute_result"
    }
   ],
   "source": [
    "X['Nationality'][:4]"
   ]
  },
  {
   "cell_type": "code",
   "execution_count": 67,
   "id": "a6494ca7",
   "metadata": {},
   "outputs": [],
   "source": [
    "cols=('Nationality','Club','Position')\n",
    "\n",
    "X = Feature_Encoder(X, cols);"
   ]
  },
  {
   "cell_type": "code",
   "execution_count": 68,
   "id": "1a8f05d7",
   "metadata": {},
   "outputs": [
    {
     "data": {
      "text/plain": [
       "0      6\n",
       "1    122\n",
       "2     20\n",
       "3    138\n",
       "Name: Nationality, dtype: int32"
      ]
     },
     "execution_count": 68,
     "metadata": {},
     "output_type": "execute_result"
    }
   ],
   "source": [
    "X['Nationality'][:4]"
   ]
  },
  {
   "cell_type": "markdown",
   "id": "83d850d6",
   "metadata": {},
   "source": [
    "Split the data to training and testing sets"
   ]
  },
  {
   "cell_type": "code",
   "execution_count": 69,
   "id": "00d6e34d",
   "metadata": {},
   "outputs": [
    {
     "data": {
      "text/plain": [
       "(17907, 39)"
      ]
     },
     "execution_count": 69,
     "metadata": {},
     "output_type": "execute_result"
    }
   ],
   "source": [
    "X.shape"
   ]
  },
  {
   "cell_type": "code",
   "execution_count": 97,
   "id": "ef3fdbd0",
   "metadata": {},
   "outputs": [
    {
     "name": "stderr",
     "output_type": "stream",
     "text": [
      "C:\\Users\\MohamedMosa\\AppData\\Local\\Temp\\ipykernel_6808\\3711735049.py:2: FutureWarning: The default value of numeric_only in DataFrame.corr is deprecated. In a future version, it will default to False. Select only valid columns or specify the value of numeric_only to silence this warning.\n",
      "  corr = data.corr()\n"
     ]
    },
    {
     "data": {
      "image/png": "[encoded data removed]",
      "text/plain": [
       "<Figure size 1200x800 with 2 Axes>"
      ]
     },
     "metadata": {},
     "output_type": "display_data"
    }
   ],
   "source": [
    "#Get the correlation between the features\n",
    "corr = data.corr()\n",
    "\n",
    "#Top 50% Correlation training features with the Value\n",
    "top_feature = corr.index[abs(corr['Value']) > 0.5]\n",
    "\n",
    "#Correlation plot\n",
    "plt.subplots(figsize=(12, 8))\n",
    "top_corr = data[top_feature].corr()\n",
    "sns.heatmap(top_corr, annot=True)\n",
    "plt.show()"
   ]
  },
  {
   "cell_type": "code",
   "execution_count": 98,
   "id": "0e0b5458",
   "metadata": {},
   "outputs": [
    {
     "data": {
      "text/plain": [
       "Index(['Overall', 'Potential', 'Reactions', 'Value'], dtype='object')"
      ]
     },
     "execution_count": 98,
     "metadata": {},
     "output_type": "execute_result"
    }
   ],
   "source": [
    "top_feature"
   ]
  },
  {
   "cell_type": "code",
   "execution_count": 99,
   "id": "86538064",
   "metadata": {},
   "outputs": [],
   "source": [
    "#top_feature = top_feature.drop('Value')  # remove target itself\n",
    "\n",
    "# Filter only those top features in X\n",
    "#X = X[top_feature]"
   ]
  },
  {
   "cell_type": "code",
   "execution_count": 100,
   "id": "187466a0",
   "metadata": {
    "scrolled": true
   },
   "outputs": [
    {
     "data": {
      "text/plain": [
       "(17907, 8)"
      ]
     },
     "execution_count": 100,
     "metadata": {},
     "output_type": "execute_result"
    }
   ],
   "source": [
    "X.shape"
   ]
  },
  {
   "cell_type": "code",
   "execution_count": 93,
   "id": "61934d25",
   "metadata": {
    "scrolled": true
   },
   "outputs": [
    {
     "data": {
      "text/plain": [
       "((12534, 8), (5373, 8))"
      ]
     },
     "execution_count": 93,
     "metadata": {},
     "output_type": "execute_result"
    }
   ],
   "source": [
    "X_train, X_test, y_train, y_test = train_test_split(X, Y, test_size = 0.30, shuffle=True) # random_state\n",
    "\n",
    "X_train.shape, X_test.shape"
   ]
  },
  {
   "cell_type": "markdown",
   "id": "18e31a5e",
   "metadata": {},
   "source": [
    "# Model"
   ]
  },
  {
   "cell_type": "code",
   "execution_count": 94,
   "id": "8a1aa87b",
   "metadata": {},
   "outputs": [],
   "source": [
    "poly_features = PolynomialFeatures(degree=3)\n",
    "\n",
    "# transforms the existing features to higher degree features.\n",
    "X_train_poly = poly_features.fit_transform(X_train)"
   ]
  },
  {
   "cell_type": "code",
   "execution_count": 95,
   "id": "ae746fe0",
   "metadata": {},
   "outputs": [
    {
     "data": {
      "text/plain": [
       "(12534, 165)"
      ]
     },
     "execution_count": 95,
     "metadata": {},
     "output_type": "execute_result"
    }
   ],
   "source": [
    "X_train_poly.shape"
   ]
  },
  {
   "cell_type": "code",
   "execution_count": 96,
   "id": "1e25e1df",
   "metadata": {},
   "outputs": [
    {
     "data": {
      "text/html": [
       "<style>#sk-container-id-7 {color: black;background-color: white;}#sk-container-id-7 pre{padding: 0;}#sk-container-id-7 div.sk-toggleable {background-color: white;}#sk-container-id-7 label.sk-toggleable__label {cursor: pointer;display: block;width: 100%;margin-bottom: 0;padding: 0.3em;box-sizing: border-box;text-align: center;}#sk-container-id-7 label.sk-toggleable__label-arrow:before {content: \"▸\";float: left;margin-right: 0.25em;color: #696969;}#sk-container-id-7 label.sk-toggleable__label-arrow:hover:before {color: black;}#sk-container-id-7 div.sk-estimator:hover label.sk-toggleable__label-arrow:before {color: black;}#sk-container-id-7 div.sk-toggleable__content {max-height: 0;max-width: 0;overflow: hidden;text-align: left;background-color: #f0f8ff;}#sk-container-id-7 div.sk-toggleable__content pre {margin: 0.2em;color: black;border-radius: 0.25em;background-color: #f0f8ff;}#sk-container-id-7 input.sk-toggleable__control:checked~div.sk-toggleable__content {max-height: 200px;max-width: 100%;overflow: auto;}#sk-container-id-7 input.sk-toggleable__control:checked~label.sk-toggleable__label-arrow:before {content: \"▾\";}#sk-container-id-7 div.sk-estimator input.sk-toggleable__control:checked~label.sk-toggleable__label {background-color: #d4ebff;}#sk-container-id-7 div.sk-label input.sk-toggleable__control:checked~label.sk-toggleable__label {background-color: #d4ebff;}#sk-container-id-7 input.sk-hidden--visually {border: 0;clip: rect(1px 1px 1px 1px);clip: rect(1px, 1px, 1px, 1px);height: 1px;margin: -1px;overflow: hidden;padding: 0;position: absolute;width: 1px;}#sk-container-id-7 div.sk-estimator {font-family: monospace;background-color: #f0f8ff;border: 1px dotted black;border-radius: 0.25em;box-sizing: border-box;margin-bottom: 0.5em;}#sk-container-id-7 div.sk-estimator:hover {background-color: #d4ebff;}#sk-container-id-7 div.sk-parallel-item::after {content: \"\";width: 100%;border-bottom: 1px solid gray;flex-grow: 1;}#sk-container-id-7 div.sk-label:hover label.sk-toggleable__label {background-color: #d4ebff;}#sk-container-id-7 div.sk-serial::before {content: \"\";position: absolute;border-left: 1px solid gray;box-sizing: border-box;top: 0;bottom: 0;left: 50%;z-index: 0;}#sk-container-id-7 div.sk-serial {display: flex;flex-direction: column;align-items: center;background-color: white;padding-right: 0.2em;padding-left: 0.2em;position: relative;}#sk-container-id-7 div.sk-item {position: relative;z-index: 1;}#sk-container-id-7 div.sk-parallel {display: flex;align-items: stretch;justify-content: center;background-color: white;position: relative;}#sk-container-id-7 div.sk-item::before, #sk-container-id-7 div.sk-parallel-item::before {content: \"\";position: absolute;border-left: 1px solid gray;box-sizing: border-box;top: 0;bottom: 0;left: 50%;z-index: -1;}#sk-container-id-7 div.sk-parallel-item {display: flex;flex-direction: column;z-index: 1;position: relative;background-color: white;}#sk-container-id-7 div.sk-parallel-item:first-child::after {align-self: flex-end;width: 50%;}#sk-container-id-7 div.sk-parallel-item:last-child::after {align-self: flex-start;width: 50%;}#sk-container-id-7 div.sk-parallel-item:only-child::after {width: 0;}#sk-container-id-7 div.sk-dashed-wrapped {border: 1px dashed gray;margin: 0 0.4em 0.5em 0.4em;box-sizing: border-box;padding-bottom: 0.4em;background-color: white;}#sk-container-id-7 div.sk-label label {font-family: monospace;font-weight: bold;display: inline-block;line-height: 1.2em;}#sk-container-id-7 div.sk-label-container {text-align: center;}#sk-container-id-7 div.sk-container {/* jupyter's `normalize.less` sets `[hidden] { display: none; }` but bootstrap.min.css set `[hidden] { display: none !important; }` so we also need the `!important` here to be able to override the default hidden behavior on the sphinx rendered scikit-learn.org. See: https://github.com/scikit-learn/scikit-learn/issues/21755 */display: inline-block !important;position: relative;}#sk-container-id-7 div.sk-text-repr-fallback {display: none;}</style><div id=\"sk-container-id-7\" class=\"sk-top-container\"><div class=\"sk-text-repr-fallback\"><pre>LinearRegression()</pre><b>In a Jupyter environment, please rerun this cell to show the HTML representation or trust the notebook. <br />On GitHub, the HTML representation is unable to render, please try loading this page with nbviewer.org.</b></div><div class=\"sk-container\" hidden><div class=\"sk-item\"><div class=\"sk-estimator sk-toggleable\"><input class=\"sk-toggleable__control sk-hidden--visually\" id=\"sk-estimator-id-7\" type=\"checkbox\" checked><label for=\"sk-estimator-id-7\" class=\"sk-toggleable__label sk-toggleable__label-arrow\">LinearRegression</label><div class=\"sk-toggleable__content\"><pre>LinearRegression()</pre></div></div></div></div></div>"
      ],
      "text/plain": [
       "LinearRegression()"
      ]
     },
     "execution_count": 96,
     "metadata": {},
     "output_type": "execute_result"
    }
   ],
   "source": [
    "cls = linear_model.LinearRegression()\n",
    "\n",
    "# fit the transformed features to Linear Regression\n",
    "cls.fit(X_train_poly, y_train)"
   ]
  },
  {
   "cell_type": "markdown",
   "id": "47ddf5be",
   "metadata": {},
   "source": [
    "# Evaluation"
   ]
  },
  {
   "cell_type": "code",
   "execution_count": 85,
   "id": "f6470019",
   "metadata": {},
   "outputs": [],
   "source": [
    "prediction = cls.predict(poly_features.fit_transform(X_test))"
   ]
  },
  {
   "cell_type": "code",
   "execution_count": 86,
   "id": "042c02d4",
   "metadata": {},
   "outputs": [
    {
     "name": "stdout",
     "output_type": "stream",
     "text": [
      "(0.5061105590112902, 0.35)\n",
      "(1.8911525574432062, 2.8)\n",
      "(0.6857933019549591, 0.9)\n",
      "(0.08960365905397794, 0.1)\n",
      "(3.1175796013558283, 3.2)\n",
      "(0.06728696909510745, 0.8)\n",
      "(1.5703297739929667, 1.9)\n",
      "(0.9618792172035455, 0.425)\n",
      "(1.1402004531645389, 1.2)\n",
      "(9.701022720191645, 9.5)\n"
     ]
    }
   ],
   "source": [
    "for i in zip(prediction[:10], y_test[:10]):\n",
    "    print(i)"
   ]
  },
  {
   "cell_type": "code",
   "execution_count": 87,
   "id": "fa63dc39",
   "metadata": {},
   "outputs": [
    {
     "name": "stdout",
     "output_type": "stream",
     "text": [
      "Co-efficient of linear regression [ 4.52819875e-10  2.16482338e+01  1.44390316e+01 -2.55896420e-02\n",
      " -9.89274759e-01  1.14474647e+00  2.08556641e+00  2.12101776e+00\n",
      " -9.80146595e-01 -1.97889797e-01 -2.51186577e-01 -8.67832590e-03\n",
      "  2.54966281e-02 -5.54074901e-02 -1.92840907e-02 -3.36115409e-02\n",
      "  4.15289083e-02 -7.87949841e-02 -1.64076198e-03  8.35286154e-04\n",
      "  9.99215749e-03 -3.82618915e-02 -1.91817617e-02 -3.83218835e-04\n",
      "  1.38159750e-03  2.32006298e-03  2.20683855e-03  1.07244843e-02\n",
      "  6.34789311e-03 -7.97990188e-03 -2.82393111e-03  8.21228193e-03\n",
      "  3.83654766e-03 -7.77947269e-03  2.67371845e-03 -3.96862236e-03\n",
      "  5.57970541e-03  3.43599133e-03 -4.79506194e-03 -2.14186203e-03\n",
      "  3.74354383e-03 -2.29066986e-02 -1.26777209e-02  2.43091103e-03\n",
      "  1.11271360e-02 -2.11996061e-05  2.70434725e-03 -2.29136922e-05\n",
      " -1.54220591e-04  6.55545440e-04  1.01522890e-04  8.80062304e-05\n",
      " -3.67546555e-04 -6.47717149e-04 -6.05641215e-05  1.92250076e-04\n",
      " -2.80920136e-04  2.55291234e-04  1.75029354e-04  9.36837475e-05\n",
      " -7.26588432e-05  1.11573703e-04 -1.38465555e-05  2.29430144e-04\n",
      " -1.16056468e-04  2.04401945e-04  2.09644890e-06 -1.47939928e-04\n",
      " -3.09032748e-04  2.63402316e-05 -4.97405098e-05  1.02231991e-04\n",
      " -1.65172772e-04 -8.79636569e-06  5.26501947e-05 -4.35360438e-05\n",
      "  4.11886491e-05  8.87569077e-05  1.61675938e-04 -2.27533471e-05\n",
      " -1.69056636e-04  5.20601817e-04  1.18871592e-04 -9.36139945e-05\n",
      "  5.53017556e-05  1.19522334e-04  2.07798880e-05 -1.23386156e-04\n",
      "  2.60075913e-05 -9.45690935e-05  2.16676360e-05 -1.83858899e-04\n",
      "  7.66786056e-06 -1.44677609e-05  5.74575420e-05 -5.22180651e-05\n",
      "  2.92275878e-05  4.50600179e-05 -6.31766062e-06  2.42718693e-05\n",
      "  2.54997584e-05 -1.98118830e-05 -3.01448821e-05  1.34959313e-05\n",
      " -4.63386385e-05  2.32688723e-04  5.26524051e-05 -2.51276756e-06\n",
      "  1.40293024e-05 -4.15738705e-05  5.91413451e-06  6.05549633e-05\n",
      "  5.79189033e-05 -1.61010807e-05  2.15738750e-05  3.77908031e-06\n",
      " -2.96592179e-06 -7.45745512e-05 -5.59105854e-06  2.12911767e-05\n",
      " -6.08648531e-05 -4.36455138e-05  4.67936166e-05 -4.32399569e-05\n",
      " -8.31467402e-05  6.46253101e-05 -1.24461149e-04 -2.55889942e-05\n",
      " -1.93357639e-05  3.03171897e-05  1.49336235e-05 -6.31365593e-05\n",
      " -4.17955635e-06 -7.89839497e-06  1.20387886e-05  6.23438425e-05\n",
      "  4.24574464e-05 -2.61621035e-06  2.84149370e-05  9.74679667e-05\n",
      "  1.22631351e-05  7.94979510e-05  4.64931098e-05 -1.95449210e-05\n",
      " -5.88406098e-05 -9.44890184e-06 -1.98481460e-05 -2.38633815e-05\n",
      " -3.16884820e-06  4.18443818e-05 -3.14569111e-05  2.35827517e-05\n",
      " -6.98458088e-06  2.42639877e-05  2.23529925e-05  9.20811907e-06\n",
      " -1.69560481e-05  5.21218943e-06 -1.87710379e-05 -3.38214119e-05\n",
      "  3.50162523e-05 -4.96173402e-06 -5.88047530e-06  2.11079287e-05\n",
      " -2.88686291e-05]\n",
      "Intercept of linear regression model -823.8788796912417\n",
      "Mean Square Error 1.9792390946562932\n"
     ]
    }
   ],
   "source": [
    "print('Co-efficient of linear regression',cls.coef_)\n",
    "print('Intercept of linear regression model',cls.intercept_)\n",
    "print('Mean Square Error', metrics.mean_squared_error(np.asarray(y_test), prediction))"
   ]
  },
  {
   "cell_type": "code",
   "execution_count": 88,
   "id": "c57ceee9",
   "metadata": {
    "scrolled": true
   },
   "outputs": [
    {
     "name": "stdout",
     "output_type": "stream",
     "text": [
      "True value for the first player in the test set in millions is : 0.35\n",
      "Predicted value for the first player in the test set in millions is : 0.5061105590112902\n"
     ]
    }
   ],
   "source": [
    "true_player_value = np.asarray(y_test)[0]\n",
    "predicted_player_value = prediction[0]\n",
    "\n",
    "print('True value for the first player in the test set in millions is : ' + str(true_player_value))\n",
    "print('Predicted value for the first player in the test set in millions is : ' + str(predicted_player_value))"
   ]
  },
  {
   "cell_type": "code",
   "execution_count": null,
   "id": "01e94e9a",
   "metadata": {},
   "outputs": [],
   "source": []
  }
 ],
 "metadata": {
  "kernelspec": {
   "display_name": "Python 3 (ipykernel)",
   "language": "python",
   "name": "python3"
  },
  "language_info": {
   "codemirror_mode": {
    "name": "ipython",
    "version": 3
   },
   "file_extension": ".py",
   "mimetype": "text/x-python",
   "name": "python",
   "nbconvert_exporter": "python",
   "pygments_lexer": "ipython3",
   "version": "3.9.12"
  }
 },
 "nbformat": 4,
 "nbformat_minor": 5
}
