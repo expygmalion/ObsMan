{
  "cells": [
    {
      "cell_type": "code",
      "execution_count": 106,
      "metadata": {
        "id": "uVPqHWFcorKl"
      },
      "outputs": [],
      "source": [
        "import pandas as pd\n",
        "import matplotlib.pyplot as plt\n",
        "import seaborn as sns\n",
        "import sklearn as sk\n",
        "\n",
        "# Load train and test datasets\n",
        "train_df = pd.read_csv('train_dataset.csv')\n",
        "test_df = pd.read_csv('test_dataset.csv')"
      ]
    },
    {
      "cell_type": "code",
      "execution_count": 107,
      "metadata": {
        "colab": {
          "base_uri": "https://localhost:8080/",
          "height": 478
        },
        "id": "qphWstDzpSaF",
        "outputId": "bf9cdd5b-ee83-4d6f-c74a-4312ed70fc8e"
      },
      "outputs": [
        {
          "name": "stdout",
          "output_type": "stream",
          "text": [
            "Train shape: (1900, 17)\n",
            "Test shape: (211, 17)\n"
          ]
        }
      ],
      "source": [
        "print(\"Train shape:\", train_df.shape)\n",
        "print(\"Test shape:\", test_df.shape)\n"
      ]
    },
    {
      "cell_type": "code",
      "execution_count": 108,
      "metadata": {},
      "outputs": [
        {
          "data": {
            "text/html": [
              "<div>\n",
              "<style scoped>\n",
              "    .dataframe tbody tr th:only-of-type {\n",
              "        vertical-align: middle;\n",
              "    }\n",
              "\n",
              "    .dataframe tbody tr th {\n",
              "        vertical-align: top;\n",
              "    }\n",
              "\n",
              "    .dataframe thead th {\n",
              "        text-align: right;\n",
              "    }\n",
              "</style>\n",
              "<table border=\"1\" class=\"dataframe\">\n",
              "  <thead>\n",
              "    <tr style=\"text-align: right;\">\n",
              "      <th></th>\n",
              "      <th>Gender</th>\n",
              "      <th>Age</th>\n",
              "      <th>Height</th>\n",
              "      <th>Weight</th>\n",
              "      <th>family_history_with_overweight</th>\n",
              "      <th>FAVC</th>\n",
              "      <th>FCVC</th>\n",
              "      <th>NCP</th>\n",
              "      <th>CAEC</th>\n",
              "      <th>SMOKE</th>\n",
              "      <th>CH2O</th>\n",
              "      <th>SCC</th>\n",
              "      <th>FAF</th>\n",
              "      <th>TUE</th>\n",
              "      <th>CALC</th>\n",
              "      <th>MTRANS</th>\n",
              "      <th>NObeyesdad</th>\n",
              "    </tr>\n",
              "  </thead>\n",
              "  <tbody>\n",
              "    <tr>\n",
              "      <th>0</th>\n",
              "      <td>Male</td>\n",
              "      <td>35</td>\n",
              "      <td>1.71</td>\n",
              "      <td>84.72</td>\n",
              "      <td>yes</td>\n",
              "      <td>yes</td>\n",
              "      <td>2.88</td>\n",
              "      <td>3.0</td>\n",
              "      <td>Sometimes</td>\n",
              "      <td>no</td>\n",
              "      <td>3.00</td>\n",
              "      <td>no</td>\n",
              "      <td>2.00</td>\n",
              "      <td>0.832</td>\n",
              "      <td>no</td>\n",
              "      <td>Automobile</td>\n",
              "      <td>Overweight_Level_II</td>\n",
              "    </tr>\n",
              "    <tr>\n",
              "      <th>1</th>\n",
              "      <td>Male</td>\n",
              "      <td>19</td>\n",
              "      <td>1.75</td>\n",
              "      <td>100.00</td>\n",
              "      <td>yes</td>\n",
              "      <td>yes</td>\n",
              "      <td>2.00</td>\n",
              "      <td>3.0</td>\n",
              "      <td>Frequently</td>\n",
              "      <td>no</td>\n",
              "      <td>2.00</td>\n",
              "      <td>no</td>\n",
              "      <td>2.00</td>\n",
              "      <td>0.000</td>\n",
              "      <td>no</td>\n",
              "      <td>Public_Transportation</td>\n",
              "      <td>Obesity_Type_I</td>\n",
              "    </tr>\n",
              "    <tr>\n",
              "      <th>2</th>\n",
              "      <td>Male</td>\n",
              "      <td>19</td>\n",
              "      <td>1.85</td>\n",
              "      <td>65.00</td>\n",
              "      <td>yes</td>\n",
              "      <td>no</td>\n",
              "      <td>2.00</td>\n",
              "      <td>3.0</td>\n",
              "      <td>Sometimes</td>\n",
              "      <td>no</td>\n",
              "      <td>3.00</td>\n",
              "      <td>no</td>\n",
              "      <td>2.00</td>\n",
              "      <td>1.000</td>\n",
              "      <td>Sometimes</td>\n",
              "      <td>Bike</td>\n",
              "      <td>Normal_Weight</td>\n",
              "    </tr>\n",
              "    <tr>\n",
              "      <th>3</th>\n",
              "      <td>Male</td>\n",
              "      <td>31</td>\n",
              "      <td>1.78</td>\n",
              "      <td>120.64</td>\n",
              "      <td>yes</td>\n",
              "      <td>yes</td>\n",
              "      <td>2.50</td>\n",
              "      <td>3.0</td>\n",
              "      <td>Sometimes</td>\n",
              "      <td>no</td>\n",
              "      <td>2.04</td>\n",
              "      <td>no</td>\n",
              "      <td>0.84</td>\n",
              "      <td>0.490</td>\n",
              "      <td>Sometimes</td>\n",
              "      <td>Automobile</td>\n",
              "      <td>Obesity_Type_II</td>\n",
              "    </tr>\n",
              "    <tr>\n",
              "      <th>4</th>\n",
              "      <td>Male</td>\n",
              "      <td>25</td>\n",
              "      <td>1.80</td>\n",
              "      <td>120.90</td>\n",
              "      <td>yes</td>\n",
              "      <td>yes</td>\n",
              "      <td>2.20</td>\n",
              "      <td>3.0</td>\n",
              "      <td>Sometimes</td>\n",
              "      <td>no</td>\n",
              "      <td>2.51</td>\n",
              "      <td>no</td>\n",
              "      <td>1.66</td>\n",
              "      <td>0.128</td>\n",
              "      <td>Sometimes</td>\n",
              "      <td>Public_Transportation</td>\n",
              "      <td>Obesity_Type_II</td>\n",
              "    </tr>\n",
              "    <tr>\n",
              "      <th>...</th>\n",
              "      <td>...</td>\n",
              "      <td>...</td>\n",
              "      <td>...</td>\n",
              "      <td>...</td>\n",
              "      <td>...</td>\n",
              "      <td>...</td>\n",
              "      <td>...</td>\n",
              "      <td>...</td>\n",
              "      <td>...</td>\n",
              "      <td>...</td>\n",
              "      <td>...</td>\n",
              "      <td>...</td>\n",
              "      <td>...</td>\n",
              "      <td>...</td>\n",
              "      <td>...</td>\n",
              "      <td>...</td>\n",
              "      <td>...</td>\n",
              "    </tr>\n",
              "    <tr>\n",
              "      <th>206</th>\n",
              "      <td>Female</td>\n",
              "      <td>26</td>\n",
              "      <td>1.67</td>\n",
              "      <td>104.59</td>\n",
              "      <td>yes</td>\n",
              "      <td>yes</td>\n",
              "      <td>3.00</td>\n",
              "      <td>3.0</td>\n",
              "      <td>Sometimes</td>\n",
              "      <td>no</td>\n",
              "      <td>1.57</td>\n",
              "      <td>no</td>\n",
              "      <td>0.21</td>\n",
              "      <td>0.882</td>\n",
              "      <td>Sometimes</td>\n",
              "      <td>Public_Transportation</td>\n",
              "      <td>Obesity_Type_III</td>\n",
              "    </tr>\n",
              "    <tr>\n",
              "      <th>207</th>\n",
              "      <td>Male</td>\n",
              "      <td>20</td>\n",
              "      <td>1.87</td>\n",
              "      <td>75.00</td>\n",
              "      <td>no</td>\n",
              "      <td>yes</td>\n",
              "      <td>2.00</td>\n",
              "      <td>3.0</td>\n",
              "      <td>Frequently</td>\n",
              "      <td>no</td>\n",
              "      <td>1.00</td>\n",
              "      <td>no</td>\n",
              "      <td>1.00</td>\n",
              "      <td>1.000</td>\n",
              "      <td>Sometimes</td>\n",
              "      <td>Public_Transportation</td>\n",
              "      <td>Normal_Weight</td>\n",
              "    </tr>\n",
              "    <tr>\n",
              "      <th>208</th>\n",
              "      <td>Male</td>\n",
              "      <td>27</td>\n",
              "      <td>1.77</td>\n",
              "      <td>118.15</td>\n",
              "      <td>yes</td>\n",
              "      <td>no</td>\n",
              "      <td>2.18</td>\n",
              "      <td>3.0</td>\n",
              "      <td>Sometimes</td>\n",
              "      <td>no</td>\n",
              "      <td>2.28</td>\n",
              "      <td>no</td>\n",
              "      <td>0.68</td>\n",
              "      <td>0.000</td>\n",
              "      <td>Sometimes</td>\n",
              "      <td>Automobile</td>\n",
              "      <td>Obesity_Type_II</td>\n",
              "    </tr>\n",
              "    <tr>\n",
              "      <th>209</th>\n",
              "      <td>Male</td>\n",
              "      <td>31</td>\n",
              "      <td>1.89</td>\n",
              "      <td>129.35</td>\n",
              "      <td>yes</td>\n",
              "      <td>yes</td>\n",
              "      <td>2.50</td>\n",
              "      <td>3.0</td>\n",
              "      <td>Sometimes</td>\n",
              "      <td>yes</td>\n",
              "      <td>1.13</td>\n",
              "      <td>no</td>\n",
              "      <td>0.95</td>\n",
              "      <td>1.023</td>\n",
              "      <td>Sometimes</td>\n",
              "      <td>Public_Transportation</td>\n",
              "      <td>Obesity_Type_II</td>\n",
              "    </tr>\n",
              "    <tr>\n",
              "      <th>210</th>\n",
              "      <td>Male</td>\n",
              "      <td>21</td>\n",
              "      <td>1.79</td>\n",
              "      <td>105.00</td>\n",
              "      <td>yes</td>\n",
              "      <td>yes</td>\n",
              "      <td>2.00</td>\n",
              "      <td>3.0</td>\n",
              "      <td>Always</td>\n",
              "      <td>no</td>\n",
              "      <td>1.00</td>\n",
              "      <td>no</td>\n",
              "      <td>0.00</td>\n",
              "      <td>0.000</td>\n",
              "      <td>Sometimes</td>\n",
              "      <td>Public_Transportation</td>\n",
              "      <td>Obesity_Type_I</td>\n",
              "    </tr>\n",
              "  </tbody>\n",
              "</table>\n",
              "<p>211 rows × 17 columns</p>\n",
              "</div>"
            ],
            "text/plain": [
              "     Gender  Age  Height  Weight family_history_with_overweight FAVC  FCVC  \\\n",
              "0      Male   35    1.71   84.72                            yes  yes  2.88   \n",
              "1      Male   19    1.75  100.00                            yes  yes  2.00   \n",
              "2      Male   19    1.85   65.00                            yes   no  2.00   \n",
              "3      Male   31    1.78  120.64                            yes  yes  2.50   \n",
              "4      Male   25    1.80  120.90                            yes  yes  2.20   \n",
              "..      ...  ...     ...     ...                            ...  ...   ...   \n",
              "206  Female   26    1.67  104.59                            yes  yes  3.00   \n",
              "207    Male   20    1.87   75.00                             no  yes  2.00   \n",
              "208    Male   27    1.77  118.15                            yes   no  2.18   \n",
              "209    Male   31    1.89  129.35                            yes  yes  2.50   \n",
              "210    Male   21    1.79  105.00                            yes  yes  2.00   \n",
              "\n",
              "     NCP        CAEC SMOKE  CH2O SCC   FAF    TUE       CALC  \\\n",
              "0    3.0   Sometimes    no  3.00  no  2.00  0.832         no   \n",
              "1    3.0  Frequently    no  2.00  no  2.00  0.000         no   \n",
              "2    3.0   Sometimes    no  3.00  no  2.00  1.000  Sometimes   \n",
              "3    3.0   Sometimes    no  2.04  no  0.84  0.490  Sometimes   \n",
              "4    3.0   Sometimes    no  2.51  no  1.66  0.128  Sometimes   \n",
              "..   ...         ...   ...   ...  ..   ...    ...        ...   \n",
              "206  3.0   Sometimes    no  1.57  no  0.21  0.882  Sometimes   \n",
              "207  3.0  Frequently    no  1.00  no  1.00  1.000  Sometimes   \n",
              "208  3.0   Sometimes    no  2.28  no  0.68  0.000  Sometimes   \n",
              "209  3.0   Sometimes   yes  1.13  no  0.95  1.023  Sometimes   \n",
              "210  3.0      Always    no  1.00  no  0.00  0.000  Sometimes   \n",
              "\n",
              "                    MTRANS           NObeyesdad  \n",
              "0               Automobile  Overweight_Level_II  \n",
              "1    Public_Transportation       Obesity_Type_I  \n",
              "2                     Bike        Normal_Weight  \n",
              "3               Automobile      Obesity_Type_II  \n",
              "4    Public_Transportation      Obesity_Type_II  \n",
              "..                     ...                  ...  \n",
              "206  Public_Transportation     Obesity_Type_III  \n",
              "207  Public_Transportation        Normal_Weight  \n",
              "208             Automobile      Obesity_Type_II  \n",
              "209  Public_Transportation      Obesity_Type_II  \n",
              "210  Public_Transportation       Obesity_Type_I  \n",
              "\n",
              "[211 rows x 17 columns]"
            ]
          },
          "execution_count": 108,
          "metadata": {},
          "output_type": "execute_result"
        }
      ],
      "source": [
        "test_df"
      ]
    },
    {
      "cell_type": "code",
      "execution_count": 109,
      "metadata": {
        "colab": {
          "base_uri": "https://localhost:8080/"
        },
        "id": "qkpEf979qGXI",
        "outputId": "07a30dd4-5c1a-4dad-889d-2de7568e6a96"
      },
      "outputs": [
        {
          "name": "stdout",
          "output_type": "stream",
          "text": [
            "<class 'pandas.core.frame.DataFrame'>\n",
            "RangeIndex: 1900 entries, 0 to 1899\n",
            "Data columns (total 17 columns):\n",
            " #   Column                          Non-Null Count  Dtype  \n",
            "---  ------                          --------------  -----  \n",
            " 0   Gender                          1900 non-null   object \n",
            " 1   Age                             1900 non-null   int64  \n",
            " 2   Height                          1900 non-null   float64\n",
            " 3   Weight                          1900 non-null   float64\n",
            " 4   family_history_with_overweight  1900 non-null   object \n",
            " 5   FAVC                            1900 non-null   object \n",
            " 6   FCVC                            1888 non-null   float64\n",
            " 7   NCP                             1900 non-null   float64\n",
            " 8   CAEC                            1900 non-null   object \n",
            " 9   SMOKE                           1900 non-null   object \n",
            " 10  CH2O                            1900 non-null   float64\n",
            " 11  SCC                             1900 non-null   object \n",
            " 12  FAF                             1900 non-null   float64\n",
            " 13  TUE                             1900 non-null   float64\n",
            " 14  CALC                            1872 non-null   object \n",
            " 15  MTRANS                          1900 non-null   object \n",
            " 16  NObeyesdad                      1900 non-null   object \n",
            "dtypes: float64(7), int64(1), object(9)\n",
            "memory usage: 252.5+ KB\n"
          ]
        }
      ],
      "source": [
        "train_df.info()"
      ]
    },
    {
      "cell_type": "code",
      "execution_count": 110,
      "metadata": {
        "colab": {
          "base_uri": "https://localhost:8080/",
          "height": 617
        },
        "id": "2lK0O-7DwSKk",
        "outputId": "1d102372-0e6e-4155-b815-e6fb0e27a0ed"
      },
      "outputs": [
        {
          "data": {
            "text/plain": [
              "Gender                            0\n",
              "Age                               0\n",
              "Height                            0\n",
              "Weight                            0\n",
              "family_history_with_overweight    0\n",
              "FAVC                              0\n",
              "FCVC                              0\n",
              "NCP                               0\n",
              "CAEC                              0\n",
              "SMOKE                             0\n",
              "CH2O                              0\n",
              "SCC                               0\n",
              "FAF                               0\n",
              "TUE                               0\n",
              "CALC                              0\n",
              "MTRANS                            0\n",
              "NObeyesdad                        0\n",
              "dtype: int64"
            ]
          },
          "execution_count": 110,
          "metadata": {},
          "output_type": "execute_result"
        }
      ],
      "source": [
        "test_df.isnull().sum()"
      ]
    },
    {
      "cell_type": "code",
      "execution_count": 111,
      "metadata": {
        "colab": {
          "base_uri": "https://localhost:8080/",
          "height": 617
        },
        "id": "n6TjkG_Twvep",
        "outputId": "d08c92a9-65eb-41f1-e21d-7df1a43736b4"
      },
      "outputs": [
        {
          "data": {
            "text/plain": [
              "Gender                             0\n",
              "Age                                0\n",
              "Height                             0\n",
              "Weight                             0\n",
              "family_history_with_overweight     0\n",
              "FAVC                               0\n",
              "FCVC                              12\n",
              "NCP                                0\n",
              "CAEC                               0\n",
              "SMOKE                              0\n",
              "CH2O                               0\n",
              "SCC                                0\n",
              "FAF                                0\n",
              "TUE                                0\n",
              "CALC                              28\n",
              "MTRANS                             0\n",
              "NObeyesdad                         0\n",
              "dtype: int64"
            ]
          },
          "execution_count": 111,
          "metadata": {},
          "output_type": "execute_result"
        }
      ],
      "source": [
        "train_df.isnull().sum()"
      ]
    },
    {
      "cell_type": "markdown",
      "metadata": {},
      "source": [
        "## Checking Correlation"
      ]
    },
    {
      "cell_type": "code",
      "execution_count": 112,
      "metadata": {},
      "outputs": [
        {
          "data": {
            "image/png": "[encoded data removed]",
            "text/plain": [
              "<Figure size 1000x800 with 1 Axes>"
            ]
          },
          "metadata": {},
          "output_type": "display_data"
        },
        {
          "data": {
            "text/html": [
              "<div>\n",
              "<style scoped>\n",
              "    .dataframe tbody tr th:only-of-type {\n",
              "        vertical-align: middle;\n",
              "    }\n",
              "\n",
              "    .dataframe tbody tr th {\n",
              "        vertical-align: top;\n",
              "    }\n",
              "\n",
              "    .dataframe thead th {\n",
              "        text-align: right;\n",
              "    }\n",
              "</style>\n",
              "<table border=\"1\" class=\"dataframe\">\n",
              "  <thead>\n",
              "    <tr style=\"text-align: right;\">\n",
              "      <th></th>\n",
              "      <th>Age</th>\n",
              "      <th>Height</th>\n",
              "      <th>Weight</th>\n",
              "      <th>FCVC</th>\n",
              "      <th>NCP</th>\n",
              "      <th>CH2O</th>\n",
              "      <th>FAF</th>\n",
              "      <th>TUE</th>\n",
              "      <th>target_numeric</th>\n",
              "      <th>Gender_Female</th>\n",
              "      <th>...</th>\n",
              "      <th>SCC_yes</th>\n",
              "      <th>CALC_Always</th>\n",
              "      <th>CALC_Frequently</th>\n",
              "      <th>CALC_Sometimes</th>\n",
              "      <th>CALC_no</th>\n",
              "      <th>MTRANS_Automobile</th>\n",
              "      <th>MTRANS_Bike</th>\n",
              "      <th>MTRANS_Motorbike</th>\n",
              "      <th>MTRANS_Public_Transportation</th>\n",
              "      <th>MTRANS_Walking</th>\n",
              "    </tr>\n",
              "  </thead>\n",
              "  <tbody>\n",
              "    <tr>\n",
              "      <th>0</th>\n",
              "      <td>18</td>\n",
              "      <td>1.82</td>\n",
              "      <td>142.10</td>\n",
              "      <td>3.00</td>\n",
              "      <td>3.00</td>\n",
              "      <td>2.71</td>\n",
              "      <td>2.00</td>\n",
              "      <td>0.814</td>\n",
              "      <td>0</td>\n",
              "      <td>True</td>\n",
              "      <td>...</td>\n",
              "      <td>False</td>\n",
              "      <td>False</td>\n",
              "      <td>False</td>\n",
              "      <td>True</td>\n",
              "      <td>False</td>\n",
              "      <td>False</td>\n",
              "      <td>False</td>\n",
              "      <td>False</td>\n",
              "      <td>True</td>\n",
              "      <td>False</td>\n",
              "    </tr>\n",
              "    <tr>\n",
              "      <th>1</th>\n",
              "      <td>32</td>\n",
              "      <td>1.84</td>\n",
              "      <td>98.26</td>\n",
              "      <td>2.33</td>\n",
              "      <td>1.82</td>\n",
              "      <td>2.56</td>\n",
              "      <td>1.33</td>\n",
              "      <td>0.481</td>\n",
              "      <td>1</td>\n",
              "      <td>False</td>\n",
              "      <td>...</td>\n",
              "      <td>False</td>\n",
              "      <td>False</td>\n",
              "      <td>False</td>\n",
              "      <td>True</td>\n",
              "      <td>False</td>\n",
              "      <td>True</td>\n",
              "      <td>False</td>\n",
              "      <td>False</td>\n",
              "      <td>False</td>\n",
              "      <td>False</td>\n",
              "    </tr>\n",
              "    <tr>\n",
              "      <th>2</th>\n",
              "      <td>24</td>\n",
              "      <td>1.76</td>\n",
              "      <td>117.33</td>\n",
              "      <td>1.54</td>\n",
              "      <td>3.00</td>\n",
              "      <td>2.00</td>\n",
              "      <td>1.63</td>\n",
              "      <td>0.631</td>\n",
              "      <td>2</td>\n",
              "      <td>False</td>\n",
              "      <td>...</td>\n",
              "      <td>False</td>\n",
              "      <td>False</td>\n",
              "      <td>False</td>\n",
              "      <td>False</td>\n",
              "      <td>False</td>\n",
              "      <td>False</td>\n",
              "      <td>False</td>\n",
              "      <td>False</td>\n",
              "      <td>True</td>\n",
              "      <td>False</td>\n",
              "    </tr>\n",
              "    <tr>\n",
              "      <th>3</th>\n",
              "      <td>26</td>\n",
              "      <td>1.62</td>\n",
              "      <td>110.68</td>\n",
              "      <td>3.00</td>\n",
              "      <td>3.00</td>\n",
              "      <td>2.69</td>\n",
              "      <td>0.00</td>\n",
              "      <td>0.425</td>\n",
              "      <td>0</td>\n",
              "      <td>True</td>\n",
              "      <td>...</td>\n",
              "      <td>False</td>\n",
              "      <td>False</td>\n",
              "      <td>False</td>\n",
              "      <td>False</td>\n",
              "      <td>False</td>\n",
              "      <td>False</td>\n",
              "      <td>False</td>\n",
              "      <td>False</td>\n",
              "      <td>True</td>\n",
              "      <td>False</td>\n",
              "    </tr>\n",
              "    <tr>\n",
              "      <th>4</th>\n",
              "      <td>32</td>\n",
              "      <td>1.78</td>\n",
              "      <td>121.20</td>\n",
              "      <td>2.76</td>\n",
              "      <td>3.00</td>\n",
              "      <td>2.16</td>\n",
              "      <td>0.43</td>\n",
              "      <td>0.716</td>\n",
              "      <td>2</td>\n",
              "      <td>False</td>\n",
              "      <td>...</td>\n",
              "      <td>False</td>\n",
              "      <td>False</td>\n",
              "      <td>False</td>\n",
              "      <td>False</td>\n",
              "      <td>False</td>\n",
              "      <td>True</td>\n",
              "      <td>False</td>\n",
              "      <td>False</td>\n",
              "      <td>False</td>\n",
              "      <td>False</td>\n",
              "    </tr>\n",
              "    <tr>\n",
              "      <th>...</th>\n",
              "      <td>...</td>\n",
              "      <td>...</td>\n",
              "      <td>...</td>\n",
              "      <td>...</td>\n",
              "      <td>...</td>\n",
              "      <td>...</td>\n",
              "      <td>...</td>\n",
              "      <td>...</td>\n",
              "      <td>...</td>\n",
              "      <td>...</td>\n",
              "      <td>...</td>\n",
              "      <td>...</td>\n",
              "      <td>...</td>\n",
              "      <td>...</td>\n",
              "      <td>...</td>\n",
              "      <td>...</td>\n",
              "      <td>...</td>\n",
              "      <td>...</td>\n",
              "      <td>...</td>\n",
              "      <td>...</td>\n",
              "      <td>...</td>\n",
              "    </tr>\n",
              "    <tr>\n",
              "      <th>1895</th>\n",
              "      <td>47</td>\n",
              "      <td>1.64</td>\n",
              "      <td>81.98</td>\n",
              "      <td>2.04</td>\n",
              "      <td>1.42</td>\n",
              "      <td>1.83</td>\n",
              "      <td>0.00</td>\n",
              "      <td>0.000</td>\n",
              "      <td>4</td>\n",
              "      <td>True</td>\n",
              "      <td>...</td>\n",
              "      <td>False</td>\n",
              "      <td>False</td>\n",
              "      <td>False</td>\n",
              "      <td>False</td>\n",
              "      <td>True</td>\n",
              "      <td>True</td>\n",
              "      <td>False</td>\n",
              "      <td>False</td>\n",
              "      <td>False</td>\n",
              "      <td>False</td>\n",
              "    </tr>\n",
              "    <tr>\n",
              "      <th>1896</th>\n",
              "      <td>24</td>\n",
              "      <td>1.61</td>\n",
              "      <td>99.96</td>\n",
              "      <td>3.00</td>\n",
              "      <td>1.42</td>\n",
              "      <td>1.00</td>\n",
              "      <td>1.19</td>\n",
              "      <td>1.384</td>\n",
              "      <td>2</td>\n",
              "      <td>False</td>\n",
              "      <td>...</td>\n",
              "      <td>False</td>\n",
              "      <td>False</td>\n",
              "      <td>False</td>\n",
              "      <td>False</td>\n",
              "      <td>True</td>\n",
              "      <td>False</td>\n",
              "      <td>False</td>\n",
              "      <td>False</td>\n",
              "      <td>True</td>\n",
              "      <td>False</td>\n",
              "    </tr>\n",
              "    <tr>\n",
              "      <th>1897</th>\n",
              "      <td>25</td>\n",
              "      <td>1.83</td>\n",
              "      <td>118.42</td>\n",
              "      <td>1.46</td>\n",
              "      <td>3.00</td>\n",
              "      <td>2.36</td>\n",
              "      <td>1.14</td>\n",
              "      <td>0.101</td>\n",
              "      <td>2</td>\n",
              "      <td>False</td>\n",
              "      <td>...</td>\n",
              "      <td>False</td>\n",
              "      <td>False</td>\n",
              "      <td>False</td>\n",
              "      <td>True</td>\n",
              "      <td>False</td>\n",
              "      <td>False</td>\n",
              "      <td>False</td>\n",
              "      <td>False</td>\n",
              "      <td>True</td>\n",
              "      <td>False</td>\n",
              "    </tr>\n",
              "    <tr>\n",
              "      <th>1898</th>\n",
              "      <td>23</td>\n",
              "      <td>1.65</td>\n",
              "      <td>94.79</td>\n",
              "      <td>2.00</td>\n",
              "      <td>3.00</td>\n",
              "      <td>1.49</td>\n",
              "      <td>0.65</td>\n",
              "      <td>1.000</td>\n",
              "      <td>4</td>\n",
              "      <td>False</td>\n",
              "      <td>...</td>\n",
              "      <td>False</td>\n",
              "      <td>False</td>\n",
              "      <td>False</td>\n",
              "      <td>False</td>\n",
              "      <td>True</td>\n",
              "      <td>False</td>\n",
              "      <td>False</td>\n",
              "      <td>False</td>\n",
              "      <td>True</td>\n",
              "      <td>False</td>\n",
              "    </tr>\n",
              "    <tr>\n",
              "      <th>1899</th>\n",
              "      <td>23</td>\n",
              "      <td>1.62</td>\n",
              "      <td>82.00</td>\n",
              "      <td>1.06</td>\n",
              "      <td>1.00</td>\n",
              "      <td>2.00</td>\n",
              "      <td>0.00</td>\n",
              "      <td>1.482</td>\n",
              "      <td>4</td>\n",
              "      <td>True</td>\n",
              "      <td>...</td>\n",
              "      <td>False</td>\n",
              "      <td>False</td>\n",
              "      <td>False</td>\n",
              "      <td>True</td>\n",
              "      <td>False</td>\n",
              "      <td>False</td>\n",
              "      <td>False</td>\n",
              "      <td>False</td>\n",
              "      <td>True</td>\n",
              "      <td>False</td>\n",
              "    </tr>\n",
              "  </tbody>\n",
              "</table>\n",
              "<p>1900 rows × 32 columns</p>\n",
              "</div>"
            ],
            "text/plain": [
              "      Age  Height  Weight  FCVC   NCP  CH2O   FAF    TUE  target_numeric  \\\n",
              "0      18    1.82  142.10  3.00  3.00  2.71  2.00  0.814               0   \n",
              "1      32    1.84   98.26  2.33  1.82  2.56  1.33  0.481               1   \n",
              "2      24    1.76  117.33  1.54  3.00  2.00  1.63  0.631               2   \n",
              "3      26    1.62  110.68  3.00  3.00  2.69  0.00  0.425               0   \n",
              "4      32    1.78  121.20  2.76  3.00  2.16  0.43  0.716               2   \n",
              "...   ...     ...     ...   ...   ...   ...   ...    ...             ...   \n",
              "1895   47    1.64   81.98  2.04  1.42  1.83  0.00  0.000               4   \n",
              "1896   24    1.61   99.96  3.00  1.42  1.00  1.19  1.384               2   \n",
              "1897   25    1.83  118.42  1.46  3.00  2.36  1.14  0.101               2   \n",
              "1898   23    1.65   94.79  2.00  3.00  1.49  0.65  1.000               4   \n",
              "1899   23    1.62   82.00  1.06  1.00  2.00  0.00  1.482               4   \n",
              "\n",
              "      Gender_Female  ...  SCC_yes  CALC_Always  CALC_Frequently  \\\n",
              "0              True  ...    False        False            False   \n",
              "1             False  ...    False        False            False   \n",
              "2             False  ...    False        False            False   \n",
              "3              True  ...    False        False            False   \n",
              "4             False  ...    False        False            False   \n",
              "...             ...  ...      ...          ...              ...   \n",
              "1895           True  ...    False        False            False   \n",
              "1896          False  ...    False        False            False   \n",
              "1897          False  ...    False        False            False   \n",
              "1898          False  ...    False        False            False   \n",
              "1899           True  ...    False        False            False   \n",
              "\n",
              "      CALC_Sometimes  CALC_no  MTRANS_Automobile  MTRANS_Bike  \\\n",
              "0               True    False              False        False   \n",
              "1               True    False               True        False   \n",
              "2              False    False              False        False   \n",
              "3              False    False              False        False   \n",
              "4              False    False               True        False   \n",
              "...              ...      ...                ...          ...   \n",
              "1895           False     True               True        False   \n",
              "1896           False     True              False        False   \n",
              "1897            True    False              False        False   \n",
              "1898           False     True              False        False   \n",
              "1899            True    False              False        False   \n",
              "\n",
              "      MTRANS_Motorbike  MTRANS_Public_Transportation  MTRANS_Walking  \n",
              "0                False                          True           False  \n",
              "1                False                         False           False  \n",
              "2                False                          True           False  \n",
              "3                False                          True           False  \n",
              "4                False                         False           False  \n",
              "...                ...                           ...             ...  \n",
              "1895             False                         False           False  \n",
              "1896             False                          True           False  \n",
              "1897             False                          True           False  \n",
              "1898             False                          True           False  \n",
              "1899             False                          True           False  \n",
              "\n",
              "[1900 rows x 32 columns]"
            ]
          },
          "execution_count": 112,
          "metadata": {},
          "output_type": "execute_result"
        }
      ],
      "source": [
        "# Convert target to numeric first\n",
        "target_mapping = {cat: i for i, cat in enumerate(train_df['NObeyesdad'].unique())}\n",
        "train_df['target_numeric'] = train_df['NObeyesdad'].map(target_mapping)\n",
        "\n",
        "# Handle categorical features\n",
        "data = train_df.copy()\n",
        "for col in data.select_dtypes(include=['object']).columns:\n",
        "    if col != 'NObeyesdad':\n",
        "        # Create dummy variables and drop the original\n",
        "        dummies = pd.get_dummies(data[col], prefix=col, drop_first=False)\n",
        "        data = pd.concat([data, dummies], axis=1)\n",
        "        data.drop(col, axis=1, inplace=True)\n",
        "\n",
        "# Drop the original target column\n",
        "if 'NObeyesdad' in data.columns:\n",
        "    data.drop('NObeyesdad', axis=1, inplace=True)\n",
        "\n",
        "# Calculate correlation with numeric target\n",
        "correlations = data.corr()['target_numeric'].drop('target_numeric').sort_values(ascending=False)\n",
        "\n",
        "# Plot\n",
        "plt.figure(figsize=(10, 8))\n",
        "sns.barplot(x=correlations.values[:15], y=correlations.index[:15])\n",
        "plt.title('Top Features Correlated with Obesity')\n",
        "plt.xlabel('Correlation')\n",
        "plt.tight_layout()\n",
        "plt.show()\n",
        "data"
      ]
    },
    {
      "cell_type": "code",
      "execution_count": 113,
      "metadata": {
        "colab": {
          "base_uri": "https://localhost:8080/"
        },
        "id": "B2fYAos6xvBa",
        "outputId": "952cb605-712b-4e22-ad71-ab0b3c831e0b"
      },
      "outputs": [
        {
          "data": {
            "image/png": "[encoded data removed]",
            "text/plain": [
              "<Figure size 600x400 with 1 Axes>"
            ]
          },
          "metadata": {},
          "output_type": "display_data"
        },
        {
          "name": "stdout",
          "output_type": "stream",
          "text": [
            "FCVC Skewness: -0.4312415617769585\n"
          ]
        }
      ],
      "source": [
        "# Simple FCVC plot for skewness check\n",
        "import matplotlib.pyplot as plt\n",
        "import seaborn as sns\n",
        "\n",
        "plt.figure(figsize=(6, 4))\n",
        "sns.histplot(train_df['FCVC'], kde=True)\n",
        "plt.title('FCVC Distribution')\n",
        "plt.show()\n",
        "\n",
        "# Print skewness value\n",
        "skew = train_df['FCVC'].skew()\n",
        "print(f\"FCVC Skewness: {skew}\")"
      ]
    },
    {
      "cell_type": "code",
      "execution_count": 114,
      "metadata": {
        "colab": {
          "base_uri": "https://localhost:8080/"
        },
        "id": "jBYFPp-0yWuN",
        "outputId": "09c5b115-f065-4798-a933-c0756720197c"
      },
      "outputs": [
        {
          "name": "stdout",
          "output_type": "stream",
          "text": [
            "Sum of test duplicates 0\n",
            "Sum of train duplicates 22\n"
          ]
        }
      ],
      "source": [
        "print(\"Sum of test duplicates\", test_df.duplicated().sum())\n",
        "print(\"Sum of train duplicates\", train_df.duplicated().sum())"
      ]
    },
    {
      "cell_type": "code",
      "execution_count": 115,
      "metadata": {
        "colab": {
          "base_uri": "https://localhost:8080/"
        },
        "id": "1fXRPgebylzT",
        "outputId": "7f9586a0-e749-403c-984a-f98e45ea823d"
      },
      "outputs": [
        {
          "name": "stdout",
          "output_type": "stream",
          "text": [
            "0\n"
          ]
        }
      ],
      "source": [
        "## Safely drop duplicates\n",
        "train_df_duplicates_handled = train_df.drop_duplicates()\n",
        "print(train_df_duplicates_handled.duplicated().sum())"
      ]
    },
    {
      "cell_type": "markdown",
      "metadata": {},
      "source": [
        " ### Filling FCVC"
      ]
    },
    {
      "cell_type": "code",
      "execution_count": 116,
      "metadata": {},
      "outputs": [
        {
          "name": "stdout",
          "output_type": "stream",
          "text": [
            "Gender                             0\n",
            "Age                                0\n",
            "Height                             0\n",
            "Weight                             0\n",
            "family_history_with_overweight     0\n",
            "FAVC                               0\n",
            "FCVC                               0\n",
            "NCP                                0\n",
            "CAEC                               0\n",
            "SMOKE                              0\n",
            "CH2O                               0\n",
            "SCC                                0\n",
            "FAF                                0\n",
            "TUE                                0\n",
            "CALC                              28\n",
            "MTRANS                             0\n",
            "NObeyesdad                         0\n",
            "target_numeric                     0\n",
            "dtype: int64\n"
          ]
        }
      ],
      "source": [
        "# Fill FCVC with mode and drop CALC\n",
        "mode_value = train_df_duplicates_handled['FCVC'].mode()[0]\n",
        "train_df_duplicates_handled_filled_FCVC = train_df_duplicates_handled.fillna({'FCVC': mode_value})\n",
        "print(train_df_duplicates_handled_filled_FCVC.isnull().sum())"
      ]
    },
    {
      "cell_type": "markdown",
      "metadata": {},
      "source": [
        "### Dropping CALC with missingness"
      ]
    },
    {
      "cell_type": "code",
      "execution_count": 117,
      "metadata": {},
      "outputs": [
        {
          "name": "stdout",
          "output_type": "stream",
          "text": [
            "-0.0208\n"
          ]
        }
      ],
      "source": [
        "import numpy as np\n",
        "calc_missing = train_df_duplicates_handled_filled_FCVC['CALC'].isnull().astype(int)\n",
        "\n",
        "# Convert target to numeric\n",
        "target_mapping = {cat: i for i, cat in enumerate(train_df_duplicates_handled_filled_FCVC['NObeyesdad'].unique())}\n",
        "target_numeric = train_df_duplicates_handled_filled_FCVC['NObeyesdad'].map(target_mapping)\n",
        "\n",
        "# Calculate correlation with target\n",
        "target_corr = np.corrcoef(calc_missing, target_numeric)[0, 1]\n",
        "\n",
        "# Print just the correlation number\n",
        "print(f\"{target_corr:.4f}\")"
      ]
    },
    {
      "cell_type": "code",
      "execution_count": 118,
      "metadata": {
        "id": "YAzzYGQCypcz"
      },
      "outputs": [
        {
          "data": {
            "text/plain": [
              "Gender                            0\n",
              "Age                               0\n",
              "Height                            0\n",
              "Weight                            0\n",
              "family_history_with_overweight    0\n",
              "FAVC                              0\n",
              "FCVC                              0\n",
              "NCP                               0\n",
              "CAEC                              0\n",
              "SMOKE                             0\n",
              "CH2O                              0\n",
              "SCC                               0\n",
              "FAF                               0\n",
              "TUE                               0\n",
              "CALC                              0\n",
              "MTRANS                            0\n",
              "NObeyesdad                        0\n",
              "target_numeric                    0\n",
              "dtype: int64"
            ]
          },
          "execution_count": 118,
          "metadata": {},
          "output_type": "execute_result"
        }
      ],
      "source": [
        "train_df_duplicates_handled_filled_FCVC_dropped_CALC = train_df_duplicates_handled_filled_FCVC.dropna()\n",
        "train_df_duplicates_handled_drop_missing = train_df_duplicates_handled_filled_FCVC_dropped_CALC\n",
        "train_df_duplicates_handled_drop_missing.isnull().sum()"
      ]
    },
    {
      "cell_type": "markdown",
      "metadata": {
        "id": "nBgy7jE-uH-e"
      },
      "source": [
        "### Engineered features\n"
      ]
    },
    {
      "cell_type": "markdown",
      "metadata": {
        "id": "-YHkbH2X1J05"
      },
      "source": [
        "train_df_duplicates_handled_drop_missing"
      ]
    },
    {
      "cell_type": "code",
      "execution_count": 119,
      "metadata": {
        "colab": {
          "base_uri": "https://localhost:8080/",
          "height": 538
        },
        "collapsed": true,
        "id": "NGSjKyzWz79W",
        "outputId": "b8b8d547-c07c-4fea-8810-9e0776280550"
      },
      "outputs": [
        {
          "name": "stderr",
          "output_type": "stream",
          "text": [
            "/tmp/ipykernel_52792/3292649639.py:1: SettingWithCopyWarning: \n",
            "A value is trying to be set on a copy of a slice from a DataFrame.\n",
            "Try using .loc[row_indexer,col_indexer] = value instead\n",
            "\n",
            "See the caveats in the documentation: https://pandas.pydata.org/pandas-docs/stable/user_guide/indexing.html#returning-a-view-versus-a-copy\n",
            "  train_df_duplicates_handled_drop_missing['BMI'] = train_df_duplicates_handled_drop_missing['Weight'] / (train_df_duplicates_handled_drop_missing['Height'] ** 2)\n",
            "/tmp/ipykernel_52792/3292649639.py:2: SettingWithCopyWarning: \n",
            "A value is trying to be set on a copy of a slice from a DataFrame.\n",
            "Try using .loc[row_indexer,col_indexer] = value instead\n",
            "\n",
            "See the caveats in the documentation: https://pandas.pydata.org/pandas-docs/stable/user_guide/indexing.html#returning-a-view-versus-a-copy\n",
            "  train_df_duplicates_handled_drop_missing['Hydration'] = train_df_duplicates_handled_drop_missing['CH2O'] / train_df_duplicates_handled_drop_missing['NCP']\n",
            "/tmp/ipykernel_52792/3292649639.py:3: SettingWithCopyWarning: \n",
            "A value is trying to be set on a copy of a slice from a DataFrame.\n",
            "Try using .loc[row_indexer,col_indexer] = value instead\n",
            "\n",
            "See the caveats in the documentation: https://pandas.pydata.org/pandas-docs/stable/user_guide/indexing.html#returning-a-view-versus-a-copy\n",
            "  train_df_duplicates_handled_drop_missing['CalorieBurnProxy'] = train_df_duplicates_handled_drop_missing['FAF'] * train_df_duplicates_handled_drop_missing['Weight']\n"
          ]
        },
        {
          "data": {
            "text/html": [
              "<div>\n",
              "<style scoped>\n",
              "    .dataframe tbody tr th:only-of-type {\n",
              "        vertical-align: middle;\n",
              "    }\n",
              "\n",
              "    .dataframe tbody tr th {\n",
              "        vertical-align: top;\n",
              "    }\n",
              "\n",
              "    .dataframe thead th {\n",
              "        text-align: right;\n",
              "    }\n",
              "</style>\n",
              "<table border=\"1\" class=\"dataframe\">\n",
              "  <thead>\n",
              "    <tr style=\"text-align: right;\">\n",
              "      <th></th>\n",
              "      <th>Gender</th>\n",
              "      <th>Age</th>\n",
              "      <th>Height</th>\n",
              "      <th>Weight</th>\n",
              "      <th>family_history_with_overweight</th>\n",
              "      <th>FAVC</th>\n",
              "      <th>FCVC</th>\n",
              "      <th>NCP</th>\n",
              "      <th>CAEC</th>\n",
              "      <th>SMOKE</th>\n",
              "      <th>...</th>\n",
              "      <th>SCC</th>\n",
              "      <th>FAF</th>\n",
              "      <th>TUE</th>\n",
              "      <th>CALC</th>\n",
              "      <th>MTRANS</th>\n",
              "      <th>NObeyesdad</th>\n",
              "      <th>target_numeric</th>\n",
              "      <th>BMI</th>\n",
              "      <th>Hydration</th>\n",
              "      <th>CalorieBurnProxy</th>\n",
              "    </tr>\n",
              "  </thead>\n",
              "  <tbody>\n",
              "    <tr>\n",
              "      <th>0</th>\n",
              "      <td>Female</td>\n",
              "      <td>18</td>\n",
              "      <td>1.82</td>\n",
              "      <td>142.10</td>\n",
              "      <td>yes</td>\n",
              "      <td>yes</td>\n",
              "      <td>3.00</td>\n",
              "      <td>3.00</td>\n",
              "      <td>Sometimes</td>\n",
              "      <td>no</td>\n",
              "      <td>...</td>\n",
              "      <td>no</td>\n",
              "      <td>2.00</td>\n",
              "      <td>0.814</td>\n",
              "      <td>Sometimes</td>\n",
              "      <td>Public_Transportation</td>\n",
              "      <td>Obesity_Type_III</td>\n",
              "      <td>0</td>\n",
              "      <td>42.899408</td>\n",
              "      <td>0.903333</td>\n",
              "      <td>284.2000</td>\n",
              "    </tr>\n",
              "    <tr>\n",
              "      <th>1</th>\n",
              "      <td>Male</td>\n",
              "      <td>32</td>\n",
              "      <td>1.84</td>\n",
              "      <td>98.26</td>\n",
              "      <td>yes</td>\n",
              "      <td>yes</td>\n",
              "      <td>2.33</td>\n",
              "      <td>1.82</td>\n",
              "      <td>Sometimes</td>\n",
              "      <td>no</td>\n",
              "      <td>...</td>\n",
              "      <td>no</td>\n",
              "      <td>1.33</td>\n",
              "      <td>0.481</td>\n",
              "      <td>Sometimes</td>\n",
              "      <td>Automobile</td>\n",
              "      <td>Overweight_Level_II</td>\n",
              "      <td>1</td>\n",
              "      <td>29.022921</td>\n",
              "      <td>1.406593</td>\n",
              "      <td>130.6858</td>\n",
              "    </tr>\n",
              "    <tr>\n",
              "      <th>10</th>\n",
              "      <td>Male</td>\n",
              "      <td>18</td>\n",
              "      <td>1.72</td>\n",
              "      <td>53.00</td>\n",
              "      <td>yes</td>\n",
              "      <td>yes</td>\n",
              "      <td>2.00</td>\n",
              "      <td>3.00</td>\n",
              "      <td>Sometimes</td>\n",
              "      <td>no</td>\n",
              "      <td>...</td>\n",
              "      <td>no</td>\n",
              "      <td>0.00</td>\n",
              "      <td>2.000</td>\n",
              "      <td>Sometimes</td>\n",
              "      <td>Public_Transportation</td>\n",
              "      <td>Insufficient_Weight</td>\n",
              "      <td>6</td>\n",
              "      <td>17.915089</td>\n",
              "      <td>0.666667</td>\n",
              "      <td>0.0000</td>\n",
              "    </tr>\n",
              "    <tr>\n",
              "      <th>11</th>\n",
              "      <td>Female</td>\n",
              "      <td>20</td>\n",
              "      <td>1.60</td>\n",
              "      <td>44.81</td>\n",
              "      <td>no</td>\n",
              "      <td>no</td>\n",
              "      <td>3.00</td>\n",
              "      <td>2.97</td>\n",
              "      <td>Frequently</td>\n",
              "      <td>no</td>\n",
              "      <td>...</td>\n",
              "      <td>yes</td>\n",
              "      <td>0.88</td>\n",
              "      <td>0.000</td>\n",
              "      <td>Sometimes</td>\n",
              "      <td>Public_Transportation</td>\n",
              "      <td>Insufficient_Weight</td>\n",
              "      <td>6</td>\n",
              "      <td>17.503906</td>\n",
              "      <td>0.387205</td>\n",
              "      <td>39.4328</td>\n",
              "    </tr>\n",
              "    <tr>\n",
              "      <th>12</th>\n",
              "      <td>Female</td>\n",
              "      <td>37</td>\n",
              "      <td>1.51</td>\n",
              "      <td>63.18</td>\n",
              "      <td>yes</td>\n",
              "      <td>yes</td>\n",
              "      <td>2.05</td>\n",
              "      <td>1.05</td>\n",
              "      <td>Sometimes</td>\n",
              "      <td>no</td>\n",
              "      <td>...</td>\n",
              "      <td>no</td>\n",
              "      <td>0.15</td>\n",
              "      <td>0.226</td>\n",
              "      <td>Sometimes</td>\n",
              "      <td>Automobile</td>\n",
              "      <td>Overweight_Level_I</td>\n",
              "      <td>5</td>\n",
              "      <td>27.709311</td>\n",
              "      <td>1.904762</td>\n",
              "      <td>9.4770</td>\n",
              "    </tr>\n",
              "  </tbody>\n",
              "</table>\n",
              "<p>5 rows × 21 columns</p>\n",
              "</div>"
            ],
            "text/plain": [
              "    Gender  Age  Height  Weight family_history_with_overweight FAVC  FCVC  \\\n",
              "0   Female   18    1.82  142.10                            yes  yes  3.00   \n",
              "1     Male   32    1.84   98.26                            yes  yes  2.33   \n",
              "10    Male   18    1.72   53.00                            yes  yes  2.00   \n",
              "11  Female   20    1.60   44.81                             no   no  3.00   \n",
              "12  Female   37    1.51   63.18                            yes  yes  2.05   \n",
              "\n",
              "     NCP        CAEC SMOKE  ...  SCC   FAF    TUE       CALC  \\\n",
              "0   3.00   Sometimes    no  ...   no  2.00  0.814  Sometimes   \n",
              "1   1.82   Sometimes    no  ...   no  1.33  0.481  Sometimes   \n",
              "10  3.00   Sometimes    no  ...   no  0.00  2.000  Sometimes   \n",
              "11  2.97  Frequently    no  ...  yes  0.88  0.000  Sometimes   \n",
              "12  1.05   Sometimes    no  ...   no  0.15  0.226  Sometimes   \n",
              "\n",
              "                   MTRANS           NObeyesdad target_numeric        BMI  \\\n",
              "0   Public_Transportation     Obesity_Type_III              0  42.899408   \n",
              "1              Automobile  Overweight_Level_II              1  29.022921   \n",
              "10  Public_Transportation  Insufficient_Weight              6  17.915089   \n",
              "11  Public_Transportation  Insufficient_Weight              6  17.503906   \n",
              "12             Automobile   Overweight_Level_I              5  27.709311   \n",
              "\n",
              "    Hydration  CalorieBurnProxy  \n",
              "0    0.903333          284.2000  \n",
              "1    1.406593          130.6858  \n",
              "10   0.666667            0.0000  \n",
              "11   0.387205           39.4328  \n",
              "12   1.904762            9.4770  \n",
              "\n",
              "[5 rows x 21 columns]"
            ]
          },
          "execution_count": 119,
          "metadata": {},
          "output_type": "execute_result"
        }
      ],
      "source": [
        "train_df_duplicates_handled_drop_missing['BMI'] = train_df_duplicates_handled_drop_missing['Weight'] / (train_df_duplicates_handled_drop_missing['Height'] ** 2)\n",
        "train_df_duplicates_handled_drop_missing['Hydration'] = train_df_duplicates_handled_drop_missing['CH2O'] / train_df_duplicates_handled_drop_missing['NCP']\n",
        "train_df_duplicates_handled_drop_missing['CalorieBurnProxy'] = train_df_duplicates_handled_drop_missing['FAF'] * train_df_duplicates_handled_drop_missing['Weight']\n",
        "train_df_duplicates_handled_drop_missing.head()\n"
      ]
    },
    {
      "cell_type": "code",
      "execution_count": 120,
      "metadata": {
        "id": "pkOmwcduz79X"
      },
      "outputs": [],
      "source": [
        "test_df['BMI'] = test_df['Weight'] / (test_df['Height'] ** 2)\n",
        "test_df['Hydration'] = test_df['CH2O'] / test_df['NCP']\n",
        "test_df['CalorieBurnProxy'] = test_df['FAF'] * test_df['Weight']\n",
        "\n"
      ]
    },
    {
      "cell_type": "code",
      "execution_count": 121,
      "metadata": {
        "id": "0e-qJDQQ3NrM"
      },
      "outputs": [],
      "source": [
        "features_numbers = ['Age','Height','Weight','BMI','Hydration','CalorieBurnProxy'] ## goes into standard scaling\n",
        "features_nominal = ['Gender','family_history_with_overweight','FAVC','SMOKE','SCC','MTRANS']\n",
        "feature_ordinal = ['FCVC','NCP','CH2O', 'CAEC', 'FAF','CALC', 'TUE', 'NObeyesdad' ]\n",
        "label_encoders = ['CAEC', 'CALC', 'NObeyesdad']\n",
        "hot_encoders = ['Gender','family_history_with_overweight','FAVC','SMOKE','SCC','MTRANS']\n",
        "scale_features = ['Age', 'Height', 'Weight', 'FCVC', 'NCP', 'CH2O', 'FAF', 'TUE', 'CAEC', 'CALC','BMI','Hydration','CalorieBurnProxy' ]"
      ]
    },
    {
      "cell_type": "code",
      "execution_count": 122,
      "metadata": {
        "id": "GqJhS8RP7LZF"
      },
      "outputs": [],
      "source": [
        "import pandas as pd"
      ]
    },
    {
      "cell_type": "markdown",
      "metadata": {
        "id": "jQ9CuYD-CCMr"
      },
      "source": [
        "Before Clipping Outliers:"
      ]
    },
    {
      "cell_type": "code",
      "execution_count": 123,
      "metadata": {
        "colab": {
          "base_uri": "https://localhost:8080/",
          "height": 481
        },
        "collapsed": true,
        "id": "2HKJKdI-B1ft",
        "outputId": "c8f71572-2dc3-4d31-8171-b2f5257a7206"
      },
      "outputs": [
        {
          "data": {
            "image/png": "[encoded data removed]",
            "text/plain": [
              "<Figure size 1500x1000 with 6 Axes>"
            ]
          },
          "metadata": {},
          "output_type": "display_data"
        }
      ],
      "source": [
        "plt.figure(figsize=(15, 10))\n",
        "for i, col in enumerate(features_numbers):\n",
        "    plt.subplot(3, 3, i+1)\n",
        "    sns.boxplot(y=train_df_duplicates_handled_drop_missing[col])\n",
        "    plt.title(col)\n",
        "plt.tight_layout()\n",
        "plt.show()"
      ]
    },
    {
      "cell_type": "markdown",
      "metadata": {
        "id": "glhJ_MroCHQG"
      },
      "source": [
        "After Clipping Outliers:\n"
      ]
    },
    {
      "cell_type": "code",
      "execution_count": 124,
      "metadata": {
        "colab": {
          "base_uri": "https://localhost:8080/"
        },
        "collapsed": true,
        "id": "eDzYRaPF1GLB",
        "outputId": "8fa07f70-8455-4ce5-ed5d-ef4d25950ac5"
      },
      "outputs": [
        {
          "name": "stderr",
          "output_type": "stream",
          "text": [
            "/tmp/ipykernel_52792/2445984840.py:10: SettingWithCopyWarning: \n",
            "A value is trying to be set on a copy of a slice from a DataFrame.\n",
            "Try using .loc[row_indexer,col_indexer] = value instead\n",
            "\n",
            "See the caveats in the documentation: https://pandas.pydata.org/pandas-docs/stable/user_guide/indexing.html#returning-a-view-versus-a-copy\n",
            "  train_df_duplicates_handled_drop_missing[col] = train_df_duplicates_handled_drop_missing[col].clip(lower=lower_bound, upper=upper_bound)\n",
            "/tmp/ipykernel_52792/2445984840.py:10: SettingWithCopyWarning: \n",
            "A value is trying to be set on a copy of a slice from a DataFrame.\n",
            "Try using .loc[row_indexer,col_indexer] = value instead\n",
            "\n",
            "See the caveats in the documentation: https://pandas.pydata.org/pandas-docs/stable/user_guide/indexing.html#returning-a-view-versus-a-copy\n",
            "  train_df_duplicates_handled_drop_missing[col] = train_df_duplicates_handled_drop_missing[col].clip(lower=lower_bound, upper=upper_bound)\n",
            "/tmp/ipykernel_52792/2445984840.py:10: SettingWithCopyWarning: \n",
            "A value is trying to be set on a copy of a slice from a DataFrame.\n",
            "Try using .loc[row_indexer,col_indexer] = value instead\n",
            "\n",
            "See the caveats in the documentation: https://pandas.pydata.org/pandas-docs/stable/user_guide/indexing.html#returning-a-view-versus-a-copy\n",
            "  train_df_duplicates_handled_drop_missing[col] = train_df_duplicates_handled_drop_missing[col].clip(lower=lower_bound, upper=upper_bound)\n",
            "/tmp/ipykernel_52792/2445984840.py:10: SettingWithCopyWarning: \n",
            "A value is trying to be set on a copy of a slice from a DataFrame.\n",
            "Try using .loc[row_indexer,col_indexer] = value instead\n",
            "\n",
            "See the caveats in the documentation: https://pandas.pydata.org/pandas-docs/stable/user_guide/indexing.html#returning-a-view-versus-a-copy\n",
            "  train_df_duplicates_handled_drop_missing[col] = train_df_duplicates_handled_drop_missing[col].clip(lower=lower_bound, upper=upper_bound)\n",
            "/tmp/ipykernel_52792/2445984840.py:10: SettingWithCopyWarning: \n",
            "A value is trying to be set on a copy of a slice from a DataFrame.\n",
            "Try using .loc[row_indexer,col_indexer] = value instead\n",
            "\n",
            "See the caveats in the documentation: https://pandas.pydata.org/pandas-docs/stable/user_guide/indexing.html#returning-a-view-versus-a-copy\n",
            "  train_df_duplicates_handled_drop_missing[col] = train_df_duplicates_handled_drop_missing[col].clip(lower=lower_bound, upper=upper_bound)\n",
            "/tmp/ipykernel_52792/2445984840.py:10: SettingWithCopyWarning: \n",
            "A value is trying to be set on a copy of a slice from a DataFrame.\n",
            "Try using .loc[row_indexer,col_indexer] = value instead\n",
            "\n",
            "See the caveats in the documentation: https://pandas.pydata.org/pandas-docs/stable/user_guide/indexing.html#returning-a-view-versus-a-copy\n",
            "  train_df_duplicates_handled_drop_missing[col] = train_df_duplicates_handled_drop_missing[col].clip(lower=lower_bound, upper=upper_bound)\n"
          ]
        }
      ],
      "source": [
        "for col in features_numbers:\n",
        "        if pd.api.types.is_numeric_dtype(train_df_duplicates_handled_drop_missing[col]):\n",
        "            Q1 = train_df_duplicates_handled_drop_missing[col].quantile(0.25)\n",
        "            Q3 = train_df_duplicates_handled_drop_missing[col].quantile(0.75)\n",
        "            IQR = Q3 - Q1\n",
        "            lower_bound = Q1 - 1.5 * IQR\n",
        "            upper_bound = Q3 + 1.5 * IQR\n",
        "\n",
        "            # Cap the outliers\n",
        "            train_df_duplicates_handled_drop_missing[col] = train_df_duplicates_handled_drop_missing[col].clip(lower=lower_bound, upper=upper_bound)\n",
        "            train_df=train_df_duplicates_handled_drop_missing[col]\n"
      ]
    },
    {
      "cell_type": "code",
      "execution_count": 125,
      "metadata": {
        "colab": {
          "base_uri": "https://localhost:8080/",
          "height": 702
        },
        "collapsed": true,
        "id": "fwK5M8ks8Zph",
        "outputId": "72138ce0-f3ca-409b-a9a9-622e313f40e0"
      },
      "outputs": [
        {
          "data": {
            "image/png": "[encoded data removed]",
            "text/plain": [
              "<Figure size 1500x1000 with 6 Axes>"
            ]
          },
          "metadata": {},
          "output_type": "display_data"
        }
      ],
      "source": [
        "\n",
        "\n",
        "# Create a grid of boxplots for each feature\n",
        "plt.figure(figsize=(15, 10))\n",
        "for i, col in enumerate(features_numbers):\n",
        "    plt.subplot(3, 3, i+1)\n",
        "    sns.boxplot(y=train_df_duplicates_handled_drop_missing[col])\n",
        "    plt.title(col)\n",
        "plt.tight_layout()\n",
        "plt.show()"
      ]
    },
    {
      "cell_type": "markdown",
      "metadata": {
        "id": "apDvAkMjfCsy"
      },
      "source": [
        "Class Distribution Plot"
      ]
    },
    {
      "cell_type": "code",
      "execution_count": 126,
      "metadata": {
        "colab": {
          "base_uri": "https://localhost:8080/",
          "height": 714
        },
        "collapsed": true,
        "id": "dFx4c5mOfCcY",
        "outputId": "1e87c944-7cd4-4a16-8a75-80443e22b44e"
      },
      "outputs": [
        {
          "name": "stderr",
          "output_type": "stream",
          "text": [
            "/tmp/ipykernel_52792/2251707430.py:3: FutureWarning: \n",
            "\n",
            "Passing `palette` without assigning `hue` is deprecated and will be removed in v0.14.0. Assign the `x` variable to `hue` and set `legend=False` for the same effect.\n",
            "\n",
            "  sns.countplot(x='NObeyesdad', data=train_df_duplicates_handled_drop_missing,\n"
          ]
        },
        {
          "data": {
            "image/png": "[encoded data removed]",
            "text/plain": [
              "<Figure size 1000x600 with 1 Axes>"
            ]
          },
          "metadata": {},
          "output_type": "display_data"
        }
      ],
      "source": [
        "# Class distribution plot\n",
        "plt.figure(figsize=(10, 6))\n",
        "sns.countplot(x='NObeyesdad', data=train_df_duplicates_handled_drop_missing,\n",
        "              order=train_df_duplicates_handled_drop_missing['NObeyesdad'].value_counts().index,\n",
        "              palette='Set2')\n",
        "plt.xticks(rotation=45)\n",
        "plt.title('Obesity Levels Distribution')\n",
        "plt.xlabel('Obesity Level')\n",
        "plt.ylabel('Count')\n",
        "plt.tight_layout()\n",
        "plt.show()"
      ]
    },
    {
      "cell_type": "markdown",
      "metadata": {
        "id": "3rMCEkz0fMTJ"
      },
      "source": [
        "Correlation Heatmap"
      ]
    },
    {
      "cell_type": "code",
      "execution_count": 127,
      "metadata": {
        "colab": {
          "base_uri": "https://localhost:8080/",
          "height": 775
        },
        "id": "i6c4pg3qfM5-",
        "outputId": "3a1bd70c-722b-45eb-e9e9-9d2b6e3ac6b9"
      },
      "outputs": [
        {
          "data": {
            "image/png": "[encoded data removed]",
            "text/plain": [
              "<Figure size 1200x800 with 2 Axes>"
            ]
          },
          "metadata": {},
          "output_type": "display_data"
        }
      ],
      "source": [
        "# Correlation heatmap for numeric features\n",
        "plt.figure(figsize=(12, 8))\n",
        "corr = train_df_duplicates_handled_drop_missing[features_numbers].corr()\n",
        "sns.heatmap(corr, annot=True, cmap='coolwarm', fmt=\".2f\")\n",
        "plt.title('Correlation Heatmap of Numerical Features')\n",
        "plt.tight_layout()\n",
        "plt.show()"
      ]
    },
    {
      "cell_type": "markdown",
      "metadata": {
        "id": "sqBrKMciDkUu"
      },
      "source": [
        "# Encoding:"
      ]
    },
    {
      "cell_type": "markdown",
      "metadata": {},
      "source": [
        "## Label Encoding Target"
      ]
    },
    {
      "cell_type": "code",
      "execution_count": 128,
      "metadata": {
        "colab": {
          "base_uri": "https://localhost:8080/"
        },
        "collapsed": true,
        "id": "kUktXoB7OWcU",
        "outputId": "1fe0382f-5cfb-490c-ee32-d7a7395f5ab6"
      },
      "outputs": [
        {
          "name": "stdout",
          "output_type": "stream",
          "text": [
            "\n",
            "Mapping for CAEC:\n",
            "Always → 0\n",
            "Frequently → 1\n",
            "Sometimes → 2\n",
            "no → 3\n",
            "\n",
            "Mapping for CALC:\n",
            "Always → 0\n",
            "Frequently → 1\n",
            "Sometimes → 2\n",
            "no → 3\n",
            "\n",
            "Mapping for NObeyesdad:\n",
            "Insufficient_Weight → 0\n",
            "Normal_Weight → 1\n",
            "Obesity_Type_I → 2\n",
            "Obesity_Type_II → 3\n",
            "Obesity_Type_III → 4\n",
            "Overweight_Level_I → 5\n",
            "Overweight_Level_II → 6\n"
          ]
        },
        {
          "name": "stderr",
          "output_type": "stream",
          "text": [
            "/tmp/ipykernel_52792/1030716610.py:14: SettingWithCopyWarning: \n",
            "A value is trying to be set on a copy of a slice from a DataFrame.\n",
            "Try using .loc[row_indexer,col_indexer] = value instead\n",
            "\n",
            "See the caveats in the documentation: https://pandas.pydata.org/pandas-docs/stable/user_guide/indexing.html#returning-a-view-versus-a-copy\n",
            "  train_df_duplicates_handled_drop_missing[feature] = encoders[feature].fit_transform(train_df_duplicates_handled_drop_missing[feature])\n",
            "/tmp/ipykernel_52792/1030716610.py:14: SettingWithCopyWarning: \n",
            "A value is trying to be set on a copy of a slice from a DataFrame.\n",
            "Try using .loc[row_indexer,col_indexer] = value instead\n",
            "\n",
            "See the caveats in the documentation: https://pandas.pydata.org/pandas-docs/stable/user_guide/indexing.html#returning-a-view-versus-a-copy\n",
            "  train_df_duplicates_handled_drop_missing[feature] = encoders[feature].fit_transform(train_df_duplicates_handled_drop_missing[feature])\n",
            "/tmp/ipykernel_52792/1030716610.py:14: SettingWithCopyWarning: \n",
            "A value is trying to be set on a copy of a slice from a DataFrame.\n",
            "Try using .loc[row_indexer,col_indexer] = value instead\n",
            "\n",
            "See the caveats in the documentation: https://pandas.pydata.org/pandas-docs/stable/user_guide/indexing.html#returning-a-view-versus-a-copy\n",
            "  train_df_duplicates_handled_drop_missing[feature] = encoders[feature].fit_transform(train_df_duplicates_handled_drop_missing[feature])\n"
          ]
        }
      ],
      "source": [
        "\n",
        "from sklearn.preprocessing import LabelEncoder\n",
        "\n",
        "label_encoders = ['CAEC', 'CALC', 'NObeyesdad']\n",
        "\n",
        "# Create a dictionary to store the label encoders\n",
        "encoders = {}\n",
        "\n",
        "# Iterate through each feature and encode it\n",
        "for feature in label_encoders:\n",
        "      # Create a new label encoder for each feature\n",
        "    encoders[feature] = LabelEncoder()\n",
        "\n",
        "    # Fit and transform the training data\n",
        "    train_df_duplicates_handled_drop_missing[feature] = encoders[feature].fit_transform(train_df_duplicates_handled_drop_missing[feature])\n",
        "\n",
        "    # Transform the test data using the same encoder\n",
        "    test_df[feature] = encoders[feature].transform(test_df[feature])\n",
        "\n",
        "    # Print the mapping for each feature\n",
        "    print(f\"\\nMapping for {feature}:\")\n",
        "    for i, label in enumerate(encoders[feature].classes_):\n",
        "        print(f\"{label} → {i}\")\n",
        "\n",
        "        train_df_duplicates_handled_drop_missing\n"
      ]
    },
    {
      "cell_type": "code",
      "execution_count": 129,
      "metadata": {
        "colab": {
          "base_uri": "https://localhost:8080/"
        },
        "collapsed": true,
        "id": "tECMh6ikOqts",
        "outputId": "ab529cf8-1f3a-4df5-b8fd-4510a354c48b"
      },
      "outputs": [
        {
          "name": "stdout",
          "output_type": "stream",
          "text": [
            "    Gender  Age  Height  Weight family_history_with_overweight FAVC  FCVC  \\\n",
            "0   Female   18    1.82  142.10                            yes  yes  3.00   \n",
            "1     Male   32    1.84   98.26                            yes  yes  2.33   \n",
            "10    Male   18    1.72   53.00                            yes  yes  2.00   \n",
            "11  Female   20    1.60   44.81                             no   no  3.00   \n",
            "12  Female   35    1.51   63.18                            yes  yes  2.05   \n",
            "\n",
            "     NCP  CAEC SMOKE  CH2O  SCC   FAF    TUE  CALC                 MTRANS  \\\n",
            "0   3.00     2    no  2.71   no  2.00  0.814     2  Public_Transportation   \n",
            "1   1.82     2    no  2.56   no  1.33  0.481     2             Automobile   \n",
            "10  3.00     2    no  2.00   no  0.00  2.000     2  Public_Transportation   \n",
            "11  2.97     1    no  1.15  yes  0.88  0.000     2  Public_Transportation   \n",
            "12  1.05     2    no  2.00   no  0.15  0.226     2             Automobile   \n",
            "\n",
            "    target_numeric        BMI  Hydration  CalorieBurnProxy  \n",
            "0                0  42.899408   0.903333          284.2000  \n",
            "1                1  29.022921   1.406593          130.6858  \n",
            "10               6  17.915089   0.666667            0.0000  \n",
            "11               6  17.503906   0.387205           39.4328  \n",
            "12               5  27.709311   1.566006            9.4770  \n",
            "0     4\n",
            "1     6\n",
            "10    0\n",
            "11    0\n",
            "12    5\n",
            "Name: NObeyesdad, dtype: int64\n",
            "  Gender  Age  Height  Weight family_history_with_overweight FAVC  FCVC  NCP  \\\n",
            "0   Male   35    1.71   84.72                            yes  yes  2.88  3.0   \n",
            "1   Male   19    1.75  100.00                            yes  yes  2.00  3.0   \n",
            "2   Male   19    1.85   65.00                            yes   no  2.00  3.0   \n",
            "3   Male   31    1.78  120.64                            yes  yes  2.50  3.0   \n",
            "4   Male   25    1.80  120.90                            yes  yes  2.20  3.0   \n",
            "\n",
            "   CAEC SMOKE  CH2O SCC   FAF    TUE  CALC                 MTRANS        BMI  \\\n",
            "0     2    no  3.00  no  2.00  0.832     3             Automobile  28.973017   \n",
            "1     1    no  2.00  no  2.00  0.000     3  Public_Transportation  32.653061   \n",
            "2     2    no  3.00  no  2.00  1.000     2                   Bike  18.991965   \n",
            "3     2    no  2.04  no  0.84  0.490     2             Automobile  38.076001   \n",
            "4     2    no  2.51  no  1.66  0.128     2  Public_Transportation  37.314815   \n",
            "\n",
            "   Hydration  CalorieBurnProxy  \n",
            "0   1.000000          169.4400  \n",
            "1   0.666667          200.0000  \n",
            "2   1.000000          130.0000  \n",
            "3   0.680000          101.3376  \n",
            "4   0.836667          200.6940  \n",
            "0    6\n",
            "1    2\n",
            "2    1\n",
            "3    3\n",
            "4    3\n",
            "Name: NObeyesdad, dtype: int64\n"
          ]
        }
      ],
      "source": [
        "x_train  = train_df_duplicates_handled_drop_missing.drop('NObeyesdad', axis=1)\n",
        "y_train = train_df_duplicates_handled_drop_missing['NObeyesdad']\n",
        "\n",
        "x_test = test_df.drop('NObeyesdad', axis=1)\n",
        "y_test = test_df['NObeyesdad']\n",
        "\n",
        "print(x_train.head())\n",
        "print(y_train.head())\n",
        "print(x_test.head())\n",
        "print(y_test.head())\n",
        "\n"
      ]
    },
    {
      "cell_type": "markdown",
      "metadata": {
        "id": "0Jv4y0o6z79a"
      },
      "source": [
        "## Hot Encoding for the rest of the features"
      ]
    },
    {
      "cell_type": "code",
      "execution_count": 130,
      "metadata": {
        "id": "aJHlIIhmz79a"
      },
      "outputs": [],
      "source": [
        "x_train_encoded = pd.get_dummies(x_train, columns=hot_encoders, drop_first=True)\n",
        "x_test_encoded = pd.get_dummies(x_test, columns=hot_encoders, drop_first=True)"
      ]
    },
    {
      "cell_type": "code",
      "execution_count": 131,
      "metadata": {
        "colab": {
          "base_uri": "https://localhost:8080/",
          "height": 255
        },
        "id": "GXNogX9DIWgi",
        "outputId": "3358e4ef-ae3d-4cf0-b8da-7e1a5d1441e1"
      },
      "outputs": [
        {
          "data": {
            "text/html": [
              "<div>\n",
              "<style scoped>\n",
              "    .dataframe tbody tr th:only-of-type {\n",
              "        vertical-align: middle;\n",
              "    }\n",
              "\n",
              "    .dataframe tbody tr th {\n",
              "        vertical-align: top;\n",
              "    }\n",
              "\n",
              "    .dataframe thead th {\n",
              "        text-align: right;\n",
              "    }\n",
              "</style>\n",
              "<table border=\"1\" class=\"dataframe\">\n",
              "  <thead>\n",
              "    <tr style=\"text-align: right;\">\n",
              "      <th></th>\n",
              "      <th>Age</th>\n",
              "      <th>Height</th>\n",
              "      <th>Weight</th>\n",
              "      <th>FCVC</th>\n",
              "      <th>NCP</th>\n",
              "      <th>CAEC</th>\n",
              "      <th>CH2O</th>\n",
              "      <th>FAF</th>\n",
              "      <th>TUE</th>\n",
              "      <th>CALC</th>\n",
              "      <th>...</th>\n",
              "      <th>CalorieBurnProxy</th>\n",
              "      <th>Gender_Male</th>\n",
              "      <th>family_history_with_overweight_yes</th>\n",
              "      <th>FAVC_yes</th>\n",
              "      <th>SMOKE_yes</th>\n",
              "      <th>SCC_yes</th>\n",
              "      <th>MTRANS_Bike</th>\n",
              "      <th>MTRANS_Motorbike</th>\n",
              "      <th>MTRANS_Public_Transportation</th>\n",
              "      <th>MTRANS_Walking</th>\n",
              "    </tr>\n",
              "  </thead>\n",
              "  <tbody>\n",
              "    <tr>\n",
              "      <th>0</th>\n",
              "      <td>18</td>\n",
              "      <td>1.82</td>\n",
              "      <td>142.10</td>\n",
              "      <td>3.00</td>\n",
              "      <td>3.00</td>\n",
              "      <td>2</td>\n",
              "      <td>2.71</td>\n",
              "      <td>2.00</td>\n",
              "      <td>0.814</td>\n",
              "      <td>2</td>\n",
              "      <td>...</td>\n",
              "      <td>284.2000</td>\n",
              "      <td>False</td>\n",
              "      <td>True</td>\n",
              "      <td>True</td>\n",
              "      <td>False</td>\n",
              "      <td>False</td>\n",
              "      <td>False</td>\n",
              "      <td>False</td>\n",
              "      <td>True</td>\n",
              "      <td>False</td>\n",
              "    </tr>\n",
              "    <tr>\n",
              "      <th>1</th>\n",
              "      <td>32</td>\n",
              "      <td>1.84</td>\n",
              "      <td>98.26</td>\n",
              "      <td>2.33</td>\n",
              "      <td>1.82</td>\n",
              "      <td>2</td>\n",
              "      <td>2.56</td>\n",
              "      <td>1.33</td>\n",
              "      <td>0.481</td>\n",
              "      <td>2</td>\n",
              "      <td>...</td>\n",
              "      <td>130.6858</td>\n",
              "      <td>True</td>\n",
              "      <td>True</td>\n",
              "      <td>True</td>\n",
              "      <td>False</td>\n",
              "      <td>False</td>\n",
              "      <td>False</td>\n",
              "      <td>False</td>\n",
              "      <td>False</td>\n",
              "      <td>False</td>\n",
              "    </tr>\n",
              "    <tr>\n",
              "      <th>10</th>\n",
              "      <td>18</td>\n",
              "      <td>1.72</td>\n",
              "      <td>53.00</td>\n",
              "      <td>2.00</td>\n",
              "      <td>3.00</td>\n",
              "      <td>2</td>\n",
              "      <td>2.00</td>\n",
              "      <td>0.00</td>\n",
              "      <td>2.000</td>\n",
              "      <td>2</td>\n",
              "      <td>...</td>\n",
              "      <td>0.0000</td>\n",
              "      <td>True</td>\n",
              "      <td>True</td>\n",
              "      <td>True</td>\n",
              "      <td>False</td>\n",
              "      <td>False</td>\n",
              "      <td>False</td>\n",
              "      <td>False</td>\n",
              "      <td>True</td>\n",
              "      <td>False</td>\n",
              "    </tr>\n",
              "    <tr>\n",
              "      <th>11</th>\n",
              "      <td>20</td>\n",
              "      <td>1.60</td>\n",
              "      <td>44.81</td>\n",
              "      <td>3.00</td>\n",
              "      <td>2.97</td>\n",
              "      <td>1</td>\n",
              "      <td>1.15</td>\n",
              "      <td>0.88</td>\n",
              "      <td>0.000</td>\n",
              "      <td>2</td>\n",
              "      <td>...</td>\n",
              "      <td>39.4328</td>\n",
              "      <td>False</td>\n",
              "      <td>False</td>\n",
              "      <td>False</td>\n",
              "      <td>False</td>\n",
              "      <td>True</td>\n",
              "      <td>False</td>\n",
              "      <td>False</td>\n",
              "      <td>True</td>\n",
              "      <td>False</td>\n",
              "    </tr>\n",
              "    <tr>\n",
              "      <th>12</th>\n",
              "      <td>35</td>\n",
              "      <td>1.51</td>\n",
              "      <td>63.18</td>\n",
              "      <td>2.05</td>\n",
              "      <td>1.05</td>\n",
              "      <td>2</td>\n",
              "      <td>2.00</td>\n",
              "      <td>0.15</td>\n",
              "      <td>0.226</td>\n",
              "      <td>2</td>\n",
              "      <td>...</td>\n",
              "      <td>9.4770</td>\n",
              "      <td>False</td>\n",
              "      <td>True</td>\n",
              "      <td>True</td>\n",
              "      <td>False</td>\n",
              "      <td>False</td>\n",
              "      <td>False</td>\n",
              "      <td>False</td>\n",
              "      <td>False</td>\n",
              "      <td>False</td>\n",
              "    </tr>\n",
              "  </tbody>\n",
              "</table>\n",
              "<p>5 rows × 23 columns</p>\n",
              "</div>"
            ],
            "text/plain": [
              "    Age  Height  Weight  FCVC   NCP  CAEC  CH2O   FAF    TUE  CALC  ...  \\\n",
              "0    18    1.82  142.10  3.00  3.00     2  2.71  2.00  0.814     2  ...   \n",
              "1    32    1.84   98.26  2.33  1.82     2  2.56  1.33  0.481     2  ...   \n",
              "10   18    1.72   53.00  2.00  3.00     2  2.00  0.00  2.000     2  ...   \n",
              "11   20    1.60   44.81  3.00  2.97     1  1.15  0.88  0.000     2  ...   \n",
              "12   35    1.51   63.18  2.05  1.05     2  2.00  0.15  0.226     2  ...   \n",
              "\n",
              "    CalorieBurnProxy  Gender_Male  family_history_with_overweight_yes  \\\n",
              "0           284.2000        False                                True   \n",
              "1           130.6858         True                                True   \n",
              "10            0.0000         True                                True   \n",
              "11           39.4328        False                               False   \n",
              "12            9.4770        False                                True   \n",
              "\n",
              "    FAVC_yes  SMOKE_yes  SCC_yes  MTRANS_Bike  MTRANS_Motorbike  \\\n",
              "0       True      False    False        False             False   \n",
              "1       True      False    False        False             False   \n",
              "10      True      False    False        False             False   \n",
              "11     False      False     True        False             False   \n",
              "12      True      False    False        False             False   \n",
              "\n",
              "    MTRANS_Public_Transportation  MTRANS_Walking  \n",
              "0                           True           False  \n",
              "1                          False           False  \n",
              "10                          True           False  \n",
              "11                          True           False  \n",
              "12                         False           False  \n",
              "\n",
              "[5 rows x 23 columns]"
            ]
          },
          "execution_count": 131,
          "metadata": {},
          "output_type": "execute_result"
        }
      ],
      "source": [
        "x_train_encoded.head()"
      ]
    },
    {
      "cell_type": "code",
      "execution_count": 132,
      "metadata": {
        "colab": {
          "base_uri": "https://localhost:8080/",
          "height": 255
        },
        "id": "Us2jW4HOz79b",
        "outputId": "d58afb25-0b60-42d9-b536-83a1c3733611"
      },
      "outputs": [
        {
          "data": {
            "text/html": [
              "<div>\n",
              "<style scoped>\n",
              "    .dataframe tbody tr th:only-of-type {\n",
              "        vertical-align: middle;\n",
              "    }\n",
              "\n",
              "    .dataframe tbody tr th {\n",
              "        vertical-align: top;\n",
              "    }\n",
              "\n",
              "    .dataframe thead th {\n",
              "        text-align: right;\n",
              "    }\n",
              "</style>\n",
              "<table border=\"1\" class=\"dataframe\">\n",
              "  <thead>\n",
              "    <tr style=\"text-align: right;\">\n",
              "      <th></th>\n",
              "      <th>Age</th>\n",
              "      <th>Height</th>\n",
              "      <th>Weight</th>\n",
              "      <th>FCVC</th>\n",
              "      <th>NCP</th>\n",
              "      <th>CAEC</th>\n",
              "      <th>CH2O</th>\n",
              "      <th>FAF</th>\n",
              "      <th>TUE</th>\n",
              "      <th>CALC</th>\n",
              "      <th>...</th>\n",
              "      <th>CalorieBurnProxy</th>\n",
              "      <th>Gender_Male</th>\n",
              "      <th>family_history_with_overweight_yes</th>\n",
              "      <th>FAVC_yes</th>\n",
              "      <th>SMOKE_yes</th>\n",
              "      <th>SCC_yes</th>\n",
              "      <th>MTRANS_Bike</th>\n",
              "      <th>MTRANS_Motorbike</th>\n",
              "      <th>MTRANS_Public_Transportation</th>\n",
              "      <th>MTRANS_Walking</th>\n",
              "    </tr>\n",
              "  </thead>\n",
              "  <tbody>\n",
              "    <tr>\n",
              "      <th>0</th>\n",
              "      <td>35</td>\n",
              "      <td>1.71</td>\n",
              "      <td>84.72</td>\n",
              "      <td>2.88</td>\n",
              "      <td>3.0</td>\n",
              "      <td>2</td>\n",
              "      <td>3.00</td>\n",
              "      <td>2.00</td>\n",
              "      <td>0.832</td>\n",
              "      <td>3</td>\n",
              "      <td>...</td>\n",
              "      <td>169.4400</td>\n",
              "      <td>True</td>\n",
              "      <td>True</td>\n",
              "      <td>True</td>\n",
              "      <td>False</td>\n",
              "      <td>False</td>\n",
              "      <td>False</td>\n",
              "      <td>False</td>\n",
              "      <td>False</td>\n",
              "      <td>False</td>\n",
              "    </tr>\n",
              "    <tr>\n",
              "      <th>1</th>\n",
              "      <td>19</td>\n",
              "      <td>1.75</td>\n",
              "      <td>100.00</td>\n",
              "      <td>2.00</td>\n",
              "      <td>3.0</td>\n",
              "      <td>1</td>\n",
              "      <td>2.00</td>\n",
              "      <td>2.00</td>\n",
              "      <td>0.000</td>\n",
              "      <td>3</td>\n",
              "      <td>...</td>\n",
              "      <td>200.0000</td>\n",
              "      <td>True</td>\n",
              "      <td>True</td>\n",
              "      <td>True</td>\n",
              "      <td>False</td>\n",
              "      <td>False</td>\n",
              "      <td>False</td>\n",
              "      <td>False</td>\n",
              "      <td>True</td>\n",
              "      <td>False</td>\n",
              "    </tr>\n",
              "    <tr>\n",
              "      <th>2</th>\n",
              "      <td>19</td>\n",
              "      <td>1.85</td>\n",
              "      <td>65.00</td>\n",
              "      <td>2.00</td>\n",
              "      <td>3.0</td>\n",
              "      <td>2</td>\n",
              "      <td>3.00</td>\n",
              "      <td>2.00</td>\n",
              "      <td>1.000</td>\n",
              "      <td>2</td>\n",
              "      <td>...</td>\n",
              "      <td>130.0000</td>\n",
              "      <td>True</td>\n",
              "      <td>True</td>\n",
              "      <td>False</td>\n",
              "      <td>False</td>\n",
              "      <td>False</td>\n",
              "      <td>True</td>\n",
              "      <td>False</td>\n",
              "      <td>False</td>\n",
              "      <td>False</td>\n",
              "    </tr>\n",
              "    <tr>\n",
              "      <th>3</th>\n",
              "      <td>31</td>\n",
              "      <td>1.78</td>\n",
              "      <td>120.64</td>\n",
              "      <td>2.50</td>\n",
              "      <td>3.0</td>\n",
              "      <td>2</td>\n",
              "      <td>2.04</td>\n",
              "      <td>0.84</td>\n",
              "      <td>0.490</td>\n",
              "      <td>2</td>\n",
              "      <td>...</td>\n",
              "      <td>101.3376</td>\n",
              "      <td>True</td>\n",
              "      <td>True</td>\n",
              "      <td>True</td>\n",
              "      <td>False</td>\n",
              "      <td>False</td>\n",
              "      <td>False</td>\n",
              "      <td>False</td>\n",
              "      <td>False</td>\n",
              "      <td>False</td>\n",
              "    </tr>\n",
              "    <tr>\n",
              "      <th>4</th>\n",
              "      <td>25</td>\n",
              "      <td>1.80</td>\n",
              "      <td>120.90</td>\n",
              "      <td>2.20</td>\n",
              "      <td>3.0</td>\n",
              "      <td>2</td>\n",
              "      <td>2.51</td>\n",
              "      <td>1.66</td>\n",
              "      <td>0.128</td>\n",
              "      <td>2</td>\n",
              "      <td>...</td>\n",
              "      <td>200.6940</td>\n",
              "      <td>True</td>\n",
              "      <td>True</td>\n",
              "      <td>True</td>\n",
              "      <td>False</td>\n",
              "      <td>False</td>\n",
              "      <td>False</td>\n",
              "      <td>False</td>\n",
              "      <td>True</td>\n",
              "      <td>False</td>\n",
              "    </tr>\n",
              "  </tbody>\n",
              "</table>\n",
              "<p>5 rows × 22 columns</p>\n",
              "</div>"
            ],
            "text/plain": [
              "   Age  Height  Weight  FCVC  NCP  CAEC  CH2O   FAF    TUE  CALC  ...  \\\n",
              "0   35    1.71   84.72  2.88  3.0     2  3.00  2.00  0.832     3  ...   \n",
              "1   19    1.75  100.00  2.00  3.0     1  2.00  2.00  0.000     3  ...   \n",
              "2   19    1.85   65.00  2.00  3.0     2  3.00  2.00  1.000     2  ...   \n",
              "3   31    1.78  120.64  2.50  3.0     2  2.04  0.84  0.490     2  ...   \n",
              "4   25    1.80  120.90  2.20  3.0     2  2.51  1.66  0.128     2  ...   \n",
              "\n",
              "   CalorieBurnProxy  Gender_Male  family_history_with_overweight_yes  \\\n",
              "0          169.4400         True                                True   \n",
              "1          200.0000         True                                True   \n",
              "2          130.0000         True                                True   \n",
              "3          101.3376         True                                True   \n",
              "4          200.6940         True                                True   \n",
              "\n",
              "   FAVC_yes  SMOKE_yes  SCC_yes  MTRANS_Bike  MTRANS_Motorbike  \\\n",
              "0      True      False    False        False             False   \n",
              "1      True      False    False        False             False   \n",
              "2     False      False    False         True             False   \n",
              "3      True      False    False        False             False   \n",
              "4      True      False    False        False             False   \n",
              "\n",
              "   MTRANS_Public_Transportation  MTRANS_Walking  \n",
              "0                         False           False  \n",
              "1                          True           False  \n",
              "2                         False           False  \n",
              "3                         False           False  \n",
              "4                          True           False  \n",
              "\n",
              "[5 rows x 22 columns]"
            ]
          },
          "execution_count": 132,
          "metadata": {},
          "output_type": "execute_result"
        }
      ],
      "source": [
        "x_test_encoded.head()"
      ]
    },
    {
      "cell_type": "code",
      "execution_count": 133,
      "metadata": {
        "colab": {
          "base_uri": "https://localhost:8080/",
          "height": 241
        },
        "id": "m70g4ib5z79b",
        "outputId": "8b764b22-b2c2-4db5-94a2-93bccfe00591"
      },
      "outputs": [
        {
          "data": {
            "text/plain": [
              "0    6\n",
              "1    2\n",
              "2    1\n",
              "3    3\n",
              "4    3\n",
              "Name: NObeyesdad, dtype: int64"
            ]
          },
          "execution_count": 133,
          "metadata": {},
          "output_type": "execute_result"
        }
      ],
      "source": [
        "y_test.head()"
      ]
    },
    {
      "cell_type": "code",
      "execution_count": 134,
      "metadata": {
        "colab": {
          "base_uri": "https://localhost:8080/",
          "height": 241
        },
        "id": "XTKKBolYz79b",
        "outputId": "d8a5b2df-c2ab-469a-93ab-68af0cdeab01"
      },
      "outputs": [
        {
          "data": {
            "text/plain": [
              "0     4\n",
              "1     6\n",
              "10    0\n",
              "11    0\n",
              "12    5\n",
              "Name: NObeyesdad, dtype: int64"
            ]
          },
          "execution_count": 134,
          "metadata": {},
          "output_type": "execute_result"
        }
      ],
      "source": [
        "y_train.head()"
      ]
    },
    {
      "cell_type": "markdown",
      "metadata": {
        "id": "rvoHJOL1z79b"
      },
      "source": [
        "### StandardScaler – zero mean, unit variance"
      ]
    },
    {
      "cell_type": "code",
      "execution_count": 135,
      "metadata": {
        "colab": {
          "base_uri": "https://localhost:8080/",
          "height": 255
        },
        "id": "v5trZAmSz79b",
        "outputId": "57abeebf-8b2d-4116-8098-b63c609725d3"
      },
      "outputs": [
        {
          "data": {
            "text/html": [
              "<div>\n",
              "<style scoped>\n",
              "    .dataframe tbody tr th:only-of-type {\n",
              "        vertical-align: middle;\n",
              "    }\n",
              "\n",
              "    .dataframe tbody tr th {\n",
              "        vertical-align: top;\n",
              "    }\n",
              "\n",
              "    .dataframe thead th {\n",
              "        text-align: right;\n",
              "    }\n",
              "</style>\n",
              "<table border=\"1\" class=\"dataframe\">\n",
              "  <thead>\n",
              "    <tr style=\"text-align: right;\">\n",
              "      <th></th>\n",
              "      <th>Age</th>\n",
              "      <th>Height</th>\n",
              "      <th>Weight</th>\n",
              "      <th>FCVC</th>\n",
              "      <th>NCP</th>\n",
              "      <th>CAEC</th>\n",
              "      <th>CH2O</th>\n",
              "      <th>FAF</th>\n",
              "      <th>TUE</th>\n",
              "      <th>CALC</th>\n",
              "      <th>...</th>\n",
              "      <th>CalorieBurnProxy</th>\n",
              "      <th>Gender_Male</th>\n",
              "      <th>family_history_with_overweight_yes</th>\n",
              "      <th>FAVC_yes</th>\n",
              "      <th>SMOKE_yes</th>\n",
              "      <th>SCC_yes</th>\n",
              "      <th>MTRANS_Bike</th>\n",
              "      <th>MTRANS_Motorbike</th>\n",
              "      <th>MTRANS_Public_Transportation</th>\n",
              "      <th>MTRANS_Walking</th>\n",
              "    </tr>\n",
              "  </thead>\n",
              "  <tbody>\n",
              "    <tr>\n",
              "      <th>0</th>\n",
              "      <td>-1.123747</td>\n",
              "      <td>1.276760</td>\n",
              "      <td>2.127176</td>\n",
              "      <td>1.073834</td>\n",
              "      <td>0.390978</td>\n",
              "      <td>0.318310</td>\n",
              "      <td>1.147598</td>\n",
              "      <td>1.158039</td>\n",
              "      <td>0.238300</td>\n",
              "      <td>-0.521828</td>\n",
              "      <td>...</td>\n",
              "      <td>2.584947</td>\n",
              "      <td>False</td>\n",
              "      <td>True</td>\n",
              "      <td>True</td>\n",
              "      <td>False</td>\n",
              "      <td>False</td>\n",
              "      <td>False</td>\n",
              "      <td>False</td>\n",
              "      <td>True</td>\n",
              "      <td>False</td>\n",
              "    </tr>\n",
              "    <tr>\n",
              "      <th>1</th>\n",
              "      <td>1.546195</td>\n",
              "      <td>1.492942</td>\n",
              "      <td>0.446797</td>\n",
              "      <td>-0.176370</td>\n",
              "      <td>-1.145015</td>\n",
              "      <td>0.318310</td>\n",
              "      <td>0.900398</td>\n",
              "      <td>0.376071</td>\n",
              "      <td>-0.310510</td>\n",
              "      <td>-0.521828</td>\n",
              "      <td>...</td>\n",
              "      <td>0.582487</td>\n",
              "      <td>True</td>\n",
              "      <td>True</td>\n",
              "      <td>True</td>\n",
              "      <td>False</td>\n",
              "      <td>False</td>\n",
              "      <td>False</td>\n",
              "      <td>False</td>\n",
              "      <td>False</td>\n",
              "      <td>False</td>\n",
              "    </tr>\n",
              "    <tr>\n",
              "      <th>10</th>\n",
              "      <td>-1.123747</td>\n",
              "      <td>0.195849</td>\n",
              "      <td>-1.288011</td>\n",
              "      <td>-0.792142</td>\n",
              "      <td>0.390978</td>\n",
              "      <td>0.318310</td>\n",
              "      <td>-0.022484</td>\n",
              "      <td>-1.176196</td>\n",
              "      <td>2.192921</td>\n",
              "      <td>-0.521828</td>\n",
              "      <td>...</td>\n",
              "      <td>-1.122196</td>\n",
              "      <td>True</td>\n",
              "      <td>True</td>\n",
              "      <td>True</td>\n",
              "      <td>False</td>\n",
              "      <td>False</td>\n",
              "      <td>False</td>\n",
              "      <td>False</td>\n",
              "      <td>True</td>\n",
              "      <td>False</td>\n",
              "    </tr>\n",
              "    <tr>\n",
              "      <th>11</th>\n",
              "      <td>-0.742326</td>\n",
              "      <td>-1.101243</td>\n",
              "      <td>-1.601932</td>\n",
              "      <td>1.073834</td>\n",
              "      <td>0.351928</td>\n",
              "      <td>-1.878976</td>\n",
              "      <td>-1.423287</td>\n",
              "      <td>-0.149132</td>\n",
              "      <td>-1.103236</td>\n",
              "      <td>-0.521828</td>\n",
              "      <td>...</td>\n",
              "      <td>-0.607829</td>\n",
              "      <td>False</td>\n",
              "      <td>False</td>\n",
              "      <td>False</td>\n",
              "      <td>False</td>\n",
              "      <td>True</td>\n",
              "      <td>False</td>\n",
              "      <td>False</td>\n",
              "      <td>True</td>\n",
              "      <td>False</td>\n",
              "    </tr>\n",
              "    <tr>\n",
              "      <th>12</th>\n",
              "      <td>2.118326</td>\n",
              "      <td>-2.074063</td>\n",
              "      <td>-0.897813</td>\n",
              "      <td>-0.698843</td>\n",
              "      <td>-2.147316</td>\n",
              "      <td>0.318310</td>\n",
              "      <td>-0.022484</td>\n",
              "      <td>-1.001128</td>\n",
              "      <td>-0.730770</td>\n",
              "      <td>-0.521828</td>\n",
              "      <td>...</td>\n",
              "      <td>-0.998576</td>\n",
              "      <td>False</td>\n",
              "      <td>True</td>\n",
              "      <td>True</td>\n",
              "      <td>False</td>\n",
              "      <td>False</td>\n",
              "      <td>False</td>\n",
              "      <td>False</td>\n",
              "      <td>False</td>\n",
              "      <td>False</td>\n",
              "    </tr>\n",
              "  </tbody>\n",
              "</table>\n",
              "<p>5 rows × 23 columns</p>\n",
              "</div>"
            ],
            "text/plain": [
              "         Age    Height    Weight      FCVC       NCP      CAEC      CH2O  \\\n",
              "0  -1.123747  1.276760  2.127176  1.073834  0.390978  0.318310  1.147598   \n",
              "1   1.546195  1.492942  0.446797 -0.176370 -1.145015  0.318310  0.900398   \n",
              "10 -1.123747  0.195849 -1.288011 -0.792142  0.390978  0.318310 -0.022484   \n",
              "11 -0.742326 -1.101243 -1.601932  1.073834  0.351928 -1.878976 -1.423287   \n",
              "12  2.118326 -2.074063 -0.897813 -0.698843 -2.147316  0.318310 -0.022484   \n",
              "\n",
              "         FAF       TUE      CALC  ...  CalorieBurnProxy  Gender_Male  \\\n",
              "0   1.158039  0.238300 -0.521828  ...          2.584947        False   \n",
              "1   0.376071 -0.310510 -0.521828  ...          0.582487         True   \n",
              "10 -1.176196  2.192921 -0.521828  ...         -1.122196         True   \n",
              "11 -0.149132 -1.103236 -0.521828  ...         -0.607829        False   \n",
              "12 -1.001128 -0.730770 -0.521828  ...         -0.998576        False   \n",
              "\n",
              "    family_history_with_overweight_yes  FAVC_yes  SMOKE_yes  SCC_yes  \\\n",
              "0                                 True      True      False    False   \n",
              "1                                 True      True      False    False   \n",
              "10                                True      True      False    False   \n",
              "11                               False     False      False     True   \n",
              "12                                True      True      False    False   \n",
              "\n",
              "    MTRANS_Bike  MTRANS_Motorbike  MTRANS_Public_Transportation  \\\n",
              "0         False             False                          True   \n",
              "1         False             False                         False   \n",
              "10        False             False                          True   \n",
              "11        False             False                          True   \n",
              "12        False             False                         False   \n",
              "\n",
              "    MTRANS_Walking  \n",
              "0            False  \n",
              "1            False  \n",
              "10           False  \n",
              "11           False  \n",
              "12           False  \n",
              "\n",
              "[5 rows x 23 columns]"
            ]
          },
          "execution_count": 135,
          "metadata": {},
          "output_type": "execute_result"
        }
      ],
      "source": [
        "from sklearn.preprocessing import StandardScaler\n",
        "\n",
        "scaler_std = StandardScaler()\n",
        "x_train_encoded_std = x_train_encoded.copy()\n",
        "x_test_encoded_std = x_test_encoded.copy()\n",
        "\n",
        "# Fit on train, transform train\n",
        "x_train_encoded_std[scale_features] = scaler_std.fit_transform(x_train_encoded[scale_features])\n",
        "# Transform test\n",
        "x_test_encoded_std[scale_features] = scaler_std.transform(x_test_encoded[scale_features])\n",
        "\n",
        "\n",
        "x_train_encoded_std.head()"
      ]
    },
    {
      "cell_type": "markdown",
      "metadata": {
        "id": "2IGYtS3xz79c"
      },
      "source": [
        "### MinMaxScaler – scale to range [0, 1]"
      ]
    },
    {
      "cell_type": "code",
      "execution_count": 136,
      "metadata": {
        "colab": {
          "base_uri": "https://localhost:8080/",
          "height": 255
        },
        "id": "SrGXIopez79c",
        "outputId": "2a059c86-0f6b-4d28-b2fb-309ed9535e27"
      },
      "outputs": [
        {
          "data": {
            "text/html": [
              "<div>\n",
              "<style scoped>\n",
              "    .dataframe tbody tr th:only-of-type {\n",
              "        vertical-align: middle;\n",
              "    }\n",
              "\n",
              "    .dataframe tbody tr th {\n",
              "        vertical-align: top;\n",
              "    }\n",
              "\n",
              "    .dataframe thead th {\n",
              "        text-align: right;\n",
              "    }\n",
              "</style>\n",
              "<table border=\"1\" class=\"dataframe\">\n",
              "  <thead>\n",
              "    <tr style=\"text-align: right;\">\n",
              "      <th></th>\n",
              "      <th>Age</th>\n",
              "      <th>Height</th>\n",
              "      <th>Weight</th>\n",
              "      <th>FCVC</th>\n",
              "      <th>NCP</th>\n",
              "      <th>CAEC</th>\n",
              "      <th>CH2O</th>\n",
              "      <th>FAF</th>\n",
              "      <th>TUE</th>\n",
              "      <th>CALC</th>\n",
              "      <th>...</th>\n",
              "      <th>CalorieBurnProxy</th>\n",
              "      <th>Gender_Male</th>\n",
              "      <th>family_history_with_overweight_yes</th>\n",
              "      <th>FAVC_yes</th>\n",
              "      <th>SMOKE_yes</th>\n",
              "      <th>SCC_yes</th>\n",
              "      <th>MTRANS_Bike</th>\n",
              "      <th>MTRANS_Motorbike</th>\n",
              "      <th>MTRANS_Public_Transportation</th>\n",
              "      <th>MTRANS_Walking</th>\n",
              "    </tr>\n",
              "  </thead>\n",
              "  <tbody>\n",
              "    <tr>\n",
              "      <th>0</th>\n",
              "      <td>0.190476</td>\n",
              "      <td>0.698113</td>\n",
              "      <td>0.795187</td>\n",
              "      <td>1.000</td>\n",
              "      <td>0.666667</td>\n",
              "      <td>0.666667</td>\n",
              "      <td>0.855</td>\n",
              "      <td>0.666667</td>\n",
              "      <td>0.4070</td>\n",
              "      <td>0.666667</td>\n",
              "      <td>...</td>\n",
              "      <td>0.876896</td>\n",
              "      <td>False</td>\n",
              "      <td>True</td>\n",
              "      <td>True</td>\n",
              "      <td>False</td>\n",
              "      <td>False</td>\n",
              "      <td>False</td>\n",
              "      <td>False</td>\n",
              "      <td>True</td>\n",
              "      <td>False</td>\n",
              "    </tr>\n",
              "    <tr>\n",
              "      <th>1</th>\n",
              "      <td>0.857143</td>\n",
              "      <td>0.735849</td>\n",
              "      <td>0.457059</td>\n",
              "      <td>0.665</td>\n",
              "      <td>0.273333</td>\n",
              "      <td>0.666667</td>\n",
              "      <td>0.780</td>\n",
              "      <td>0.443333</td>\n",
              "      <td>0.2405</td>\n",
              "      <td>0.666667</td>\n",
              "      <td>...</td>\n",
              "      <td>0.403230</td>\n",
              "      <td>True</td>\n",
              "      <td>True</td>\n",
              "      <td>True</td>\n",
              "      <td>False</td>\n",
              "      <td>False</td>\n",
              "      <td>False</td>\n",
              "      <td>False</td>\n",
              "      <td>False</td>\n",
              "      <td>False</td>\n",
              "    </tr>\n",
              "    <tr>\n",
              "      <th>10</th>\n",
              "      <td>0.190476</td>\n",
              "      <td>0.509434</td>\n",
              "      <td>0.107979</td>\n",
              "      <td>0.500</td>\n",
              "      <td>0.666667</td>\n",
              "      <td>0.666667</td>\n",
              "      <td>0.500</td>\n",
              "      <td>0.000000</td>\n",
              "      <td>1.0000</td>\n",
              "      <td>0.666667</td>\n",
              "      <td>...</td>\n",
              "      <td>0.000000</td>\n",
              "      <td>True</td>\n",
              "      <td>True</td>\n",
              "      <td>True</td>\n",
              "      <td>False</td>\n",
              "      <td>False</td>\n",
              "      <td>False</td>\n",
              "      <td>False</td>\n",
              "      <td>True</td>\n",
              "      <td>False</td>\n",
              "    </tr>\n",
              "    <tr>\n",
              "      <th>11</th>\n",
              "      <td>0.285714</td>\n",
              "      <td>0.283019</td>\n",
              "      <td>0.044811</td>\n",
              "      <td>1.000</td>\n",
              "      <td>0.656667</td>\n",
              "      <td>0.333333</td>\n",
              "      <td>0.075</td>\n",
              "      <td>0.293333</td>\n",
              "      <td>0.0000</td>\n",
              "      <td>0.666667</td>\n",
              "      <td>...</td>\n",
              "      <td>0.121669</td>\n",
              "      <td>False</td>\n",
              "      <td>False</td>\n",
              "      <td>False</td>\n",
              "      <td>False</td>\n",
              "      <td>True</td>\n",
              "      <td>False</td>\n",
              "      <td>False</td>\n",
              "      <td>True</td>\n",
              "      <td>False</td>\n",
              "    </tr>\n",
              "    <tr>\n",
              "      <th>12</th>\n",
              "      <td>1.000000</td>\n",
              "      <td>0.113208</td>\n",
              "      <td>0.186495</td>\n",
              "      <td>0.525</td>\n",
              "      <td>0.016667</td>\n",
              "      <td>0.666667</td>\n",
              "      <td>0.500</td>\n",
              "      <td>0.050000</td>\n",
              "      <td>0.1130</td>\n",
              "      <td>0.666667</td>\n",
              "      <td>...</td>\n",
              "      <td>0.029241</td>\n",
              "      <td>False</td>\n",
              "      <td>True</td>\n",
              "      <td>True</td>\n",
              "      <td>False</td>\n",
              "      <td>False</td>\n",
              "      <td>False</td>\n",
              "      <td>False</td>\n",
              "      <td>False</td>\n",
              "      <td>False</td>\n",
              "    </tr>\n",
              "  </tbody>\n",
              "</table>\n",
              "<p>5 rows × 23 columns</p>\n",
              "</div>"
            ],
            "text/plain": [
              "         Age    Height    Weight   FCVC       NCP      CAEC   CH2O       FAF  \\\n",
              "0   0.190476  0.698113  0.795187  1.000  0.666667  0.666667  0.855  0.666667   \n",
              "1   0.857143  0.735849  0.457059  0.665  0.273333  0.666667  0.780  0.443333   \n",
              "10  0.190476  0.509434  0.107979  0.500  0.666667  0.666667  0.500  0.000000   \n",
              "11  0.285714  0.283019  0.044811  1.000  0.656667  0.333333  0.075  0.293333   \n",
              "12  1.000000  0.113208  0.186495  0.525  0.016667  0.666667  0.500  0.050000   \n",
              "\n",
              "       TUE      CALC  ...  CalorieBurnProxy  Gender_Male  \\\n",
              "0   0.4070  0.666667  ...          0.876896        False   \n",
              "1   0.2405  0.666667  ...          0.403230         True   \n",
              "10  1.0000  0.666667  ...          0.000000         True   \n",
              "11  0.0000  0.666667  ...          0.121669        False   \n",
              "12  0.1130  0.666667  ...          0.029241        False   \n",
              "\n",
              "    family_history_with_overweight_yes  FAVC_yes  SMOKE_yes  SCC_yes  \\\n",
              "0                                 True      True      False    False   \n",
              "1                                 True      True      False    False   \n",
              "10                                True      True      False    False   \n",
              "11                               False     False      False     True   \n",
              "12                                True      True      False    False   \n",
              "\n",
              "    MTRANS_Bike  MTRANS_Motorbike  MTRANS_Public_Transportation  \\\n",
              "0         False             False                          True   \n",
              "1         False             False                         False   \n",
              "10        False             False                          True   \n",
              "11        False             False                          True   \n",
              "12        False             False                         False   \n",
              "\n",
              "    MTRANS_Walking  \n",
              "0            False  \n",
              "1            False  \n",
              "10           False  \n",
              "11           False  \n",
              "12           False  \n",
              "\n",
              "[5 rows x 23 columns]"
            ]
          },
          "execution_count": 136,
          "metadata": {},
          "output_type": "execute_result"
        }
      ],
      "source": [
        "from sklearn.preprocessing import MinMaxScaler\n",
        "\n",
        "scaler_minmax = MinMaxScaler()\n",
        "x_train_encoded_minmax = x_train_encoded.copy()\n",
        "x_test_encoded_minmax = x_test_encoded.copy()\n",
        "\n",
        "x_train_encoded_minmax[scale_features] = scaler_minmax.fit_transform(x_train_encoded[scale_features])\n",
        "x_test_encoded_minmax[scale_features] = scaler_minmax.transform(x_test_encoded[scale_features])\n",
        "\n",
        "x_train_encoded_minmax.head()\n"
      ]
    },
    {
      "cell_type": "code",
      "execution_count": 137,
      "metadata": {
        "colab": {
          "base_uri": "https://localhost:8080/",
          "height": 443
        },
        "id": "JfSKhHw4z79c",
        "outputId": "d90d5a5c-c9b5-4a96-9e72-89f3d15109e8"
      },
      "outputs": [
        {
          "data": {
            "text/html": [
              "<div>\n",
              "<style scoped>\n",
              "    .dataframe tbody tr th:only-of-type {\n",
              "        vertical-align: middle;\n",
              "    }\n",
              "\n",
              "    .dataframe tbody tr th {\n",
              "        vertical-align: top;\n",
              "    }\n",
              "\n",
              "    .dataframe thead th {\n",
              "        text-align: right;\n",
              "    }\n",
              "</style>\n",
              "<table border=\"1\" class=\"dataframe\">\n",
              "  <thead>\n",
              "    <tr style=\"text-align: right;\">\n",
              "      <th></th>\n",
              "      <th>Age</th>\n",
              "      <th>Height</th>\n",
              "      <th>Weight</th>\n",
              "      <th>FCVC</th>\n",
              "      <th>NCP</th>\n",
              "      <th>CAEC</th>\n",
              "      <th>CH2O</th>\n",
              "      <th>FAF</th>\n",
              "      <th>TUE</th>\n",
              "      <th>CALC</th>\n",
              "      <th>...</th>\n",
              "      <th>CalorieBurnProxy</th>\n",
              "      <th>Gender_Male</th>\n",
              "      <th>family_history_with_overweight_yes</th>\n",
              "      <th>FAVC_yes</th>\n",
              "      <th>SMOKE_yes</th>\n",
              "      <th>SCC_yes</th>\n",
              "      <th>MTRANS_Bike</th>\n",
              "      <th>MTRANS_Motorbike</th>\n",
              "      <th>MTRANS_Public_Transportation</th>\n",
              "      <th>MTRANS_Walking</th>\n",
              "    </tr>\n",
              "  </thead>\n",
              "  <tbody>\n",
              "    <tr>\n",
              "      <th>0</th>\n",
              "      <td>18</td>\n",
              "      <td>1.82</td>\n",
              "      <td>142.10</td>\n",
              "      <td>3.00</td>\n",
              "      <td>3.00</td>\n",
              "      <td>2</td>\n",
              "      <td>2.71</td>\n",
              "      <td>2.00</td>\n",
              "      <td>0.814</td>\n",
              "      <td>2</td>\n",
              "      <td>...</td>\n",
              "      <td>284.2000</td>\n",
              "      <td>False</td>\n",
              "      <td>True</td>\n",
              "      <td>True</td>\n",
              "      <td>False</td>\n",
              "      <td>False</td>\n",
              "      <td>False</td>\n",
              "      <td>False</td>\n",
              "      <td>True</td>\n",
              "      <td>False</td>\n",
              "    </tr>\n",
              "    <tr>\n",
              "      <th>1</th>\n",
              "      <td>32</td>\n",
              "      <td>1.84</td>\n",
              "      <td>98.26</td>\n",
              "      <td>2.33</td>\n",
              "      <td>1.82</td>\n",
              "      <td>2</td>\n",
              "      <td>2.56</td>\n",
              "      <td>1.33</td>\n",
              "      <td>0.481</td>\n",
              "      <td>2</td>\n",
              "      <td>...</td>\n",
              "      <td>130.6858</td>\n",
              "      <td>True</td>\n",
              "      <td>True</td>\n",
              "      <td>True</td>\n",
              "      <td>False</td>\n",
              "      <td>False</td>\n",
              "      <td>False</td>\n",
              "      <td>False</td>\n",
              "      <td>False</td>\n",
              "      <td>False</td>\n",
              "    </tr>\n",
              "    <tr>\n",
              "      <th>10</th>\n",
              "      <td>18</td>\n",
              "      <td>1.72</td>\n",
              "      <td>53.00</td>\n",
              "      <td>2.00</td>\n",
              "      <td>3.00</td>\n",
              "      <td>2</td>\n",
              "      <td>2.00</td>\n",
              "      <td>0.00</td>\n",
              "      <td>2.000</td>\n",
              "      <td>2</td>\n",
              "      <td>...</td>\n",
              "      <td>0.0000</td>\n",
              "      <td>True</td>\n",
              "      <td>True</td>\n",
              "      <td>True</td>\n",
              "      <td>False</td>\n",
              "      <td>False</td>\n",
              "      <td>False</td>\n",
              "      <td>False</td>\n",
              "      <td>True</td>\n",
              "      <td>False</td>\n",
              "    </tr>\n",
              "    <tr>\n",
              "      <th>11</th>\n",
              "      <td>20</td>\n",
              "      <td>1.60</td>\n",
              "      <td>44.81</td>\n",
              "      <td>3.00</td>\n",
              "      <td>2.97</td>\n",
              "      <td>1</td>\n",
              "      <td>1.15</td>\n",
              "      <td>0.88</td>\n",
              "      <td>0.000</td>\n",
              "      <td>2</td>\n",
              "      <td>...</td>\n",
              "      <td>39.4328</td>\n",
              "      <td>False</td>\n",
              "      <td>False</td>\n",
              "      <td>False</td>\n",
              "      <td>False</td>\n",
              "      <td>True</td>\n",
              "      <td>False</td>\n",
              "      <td>False</td>\n",
              "      <td>True</td>\n",
              "      <td>False</td>\n",
              "    </tr>\n",
              "    <tr>\n",
              "      <th>12</th>\n",
              "      <td>35</td>\n",
              "      <td>1.51</td>\n",
              "      <td>63.18</td>\n",
              "      <td>2.05</td>\n",
              "      <td>1.05</td>\n",
              "      <td>2</td>\n",
              "      <td>2.00</td>\n",
              "      <td>0.15</td>\n",
              "      <td>0.226</td>\n",
              "      <td>2</td>\n",
              "      <td>...</td>\n",
              "      <td>9.4770</td>\n",
              "      <td>False</td>\n",
              "      <td>True</td>\n",
              "      <td>True</td>\n",
              "      <td>False</td>\n",
              "      <td>False</td>\n",
              "      <td>False</td>\n",
              "      <td>False</td>\n",
              "      <td>False</td>\n",
              "      <td>False</td>\n",
              "    </tr>\n",
              "    <tr>\n",
              "      <th>...</th>\n",
              "      <td>...</td>\n",
              "      <td>...</td>\n",
              "      <td>...</td>\n",
              "      <td>...</td>\n",
              "      <td>...</td>\n",
              "      <td>...</td>\n",
              "      <td>...</td>\n",
              "      <td>...</td>\n",
              "      <td>...</td>\n",
              "      <td>...</td>\n",
              "      <td>...</td>\n",
              "      <td>...</td>\n",
              "      <td>...</td>\n",
              "      <td>...</td>\n",
              "      <td>...</td>\n",
              "      <td>...</td>\n",
              "      <td>...</td>\n",
              "      <td>...</td>\n",
              "      <td>...</td>\n",
              "      <td>...</td>\n",
              "      <td>...</td>\n",
              "    </tr>\n",
              "    <tr>\n",
              "      <th>1895</th>\n",
              "      <td>35</td>\n",
              "      <td>1.64</td>\n",
              "      <td>81.98</td>\n",
              "      <td>2.04</td>\n",
              "      <td>1.42</td>\n",
              "      <td>2</td>\n",
              "      <td>1.83</td>\n",
              "      <td>0.00</td>\n",
              "      <td>0.000</td>\n",
              "      <td>3</td>\n",
              "      <td>...</td>\n",
              "      <td>0.0000</td>\n",
              "      <td>False</td>\n",
              "      <td>True</td>\n",
              "      <td>True</td>\n",
              "      <td>False</td>\n",
              "      <td>False</td>\n",
              "      <td>False</td>\n",
              "      <td>False</td>\n",
              "      <td>False</td>\n",
              "      <td>False</td>\n",
              "    </tr>\n",
              "    <tr>\n",
              "      <th>1896</th>\n",
              "      <td>24</td>\n",
              "      <td>1.61</td>\n",
              "      <td>99.96</td>\n",
              "      <td>3.00</td>\n",
              "      <td>1.42</td>\n",
              "      <td>2</td>\n",
              "      <td>1.00</td>\n",
              "      <td>1.19</td>\n",
              "      <td>1.384</td>\n",
              "      <td>3</td>\n",
              "      <td>...</td>\n",
              "      <td>118.9524</td>\n",
              "      <td>True</td>\n",
              "      <td>True</td>\n",
              "      <td>True</td>\n",
              "      <td>False</td>\n",
              "      <td>False</td>\n",
              "      <td>False</td>\n",
              "      <td>False</td>\n",
              "      <td>True</td>\n",
              "      <td>False</td>\n",
              "    </tr>\n",
              "    <tr>\n",
              "      <th>1897</th>\n",
              "      <td>25</td>\n",
              "      <td>1.83</td>\n",
              "      <td>118.42</td>\n",
              "      <td>1.46</td>\n",
              "      <td>3.00</td>\n",
              "      <td>2</td>\n",
              "      <td>2.36</td>\n",
              "      <td>1.14</td>\n",
              "      <td>0.101</td>\n",
              "      <td>2</td>\n",
              "      <td>...</td>\n",
              "      <td>134.9988</td>\n",
              "      <td>True</td>\n",
              "      <td>True</td>\n",
              "      <td>True</td>\n",
              "      <td>False</td>\n",
              "      <td>False</td>\n",
              "      <td>False</td>\n",
              "      <td>False</td>\n",
              "      <td>True</td>\n",
              "      <td>False</td>\n",
              "    </tr>\n",
              "    <tr>\n",
              "      <th>1898</th>\n",
              "      <td>23</td>\n",
              "      <td>1.65</td>\n",
              "      <td>94.79</td>\n",
              "      <td>2.00</td>\n",
              "      <td>3.00</td>\n",
              "      <td>2</td>\n",
              "      <td>1.49</td>\n",
              "      <td>0.65</td>\n",
              "      <td>1.000</td>\n",
              "      <td>3</td>\n",
              "      <td>...</td>\n",
              "      <td>61.6135</td>\n",
              "      <td>True</td>\n",
              "      <td>True</td>\n",
              "      <td>True</td>\n",
              "      <td>False</td>\n",
              "      <td>False</td>\n",
              "      <td>False</td>\n",
              "      <td>False</td>\n",
              "      <td>True</td>\n",
              "      <td>False</td>\n",
              "    </tr>\n",
              "    <tr>\n",
              "      <th>1899</th>\n",
              "      <td>23</td>\n",
              "      <td>1.62</td>\n",
              "      <td>82.00</td>\n",
              "      <td>1.06</td>\n",
              "      <td>1.00</td>\n",
              "      <td>2</td>\n",
              "      <td>2.00</td>\n",
              "      <td>0.00</td>\n",
              "      <td>1.482</td>\n",
              "      <td>2</td>\n",
              "      <td>...</td>\n",
              "      <td>0.0000</td>\n",
              "      <td>False</td>\n",
              "      <td>True</td>\n",
              "      <td>True</td>\n",
              "      <td>False</td>\n",
              "      <td>False</td>\n",
              "      <td>False</td>\n",
              "      <td>False</td>\n",
              "      <td>True</td>\n",
              "      <td>False</td>\n",
              "    </tr>\n",
              "  </tbody>\n",
              "</table>\n",
              "<p>1850 rows × 23 columns</p>\n",
              "</div>"
            ],
            "text/plain": [
              "      Age  Height  Weight  FCVC   NCP  CAEC  CH2O   FAF    TUE  CALC  ...  \\\n",
              "0      18    1.82  142.10  3.00  3.00     2  2.71  2.00  0.814     2  ...   \n",
              "1      32    1.84   98.26  2.33  1.82     2  2.56  1.33  0.481     2  ...   \n",
              "10     18    1.72   53.00  2.00  3.00     2  2.00  0.00  2.000     2  ...   \n",
              "11     20    1.60   44.81  3.00  2.97     1  1.15  0.88  0.000     2  ...   \n",
              "12     35    1.51   63.18  2.05  1.05     2  2.00  0.15  0.226     2  ...   \n",
              "...   ...     ...     ...   ...   ...   ...   ...   ...    ...   ...  ...   \n",
              "1895   35    1.64   81.98  2.04  1.42     2  1.83  0.00  0.000     3  ...   \n",
              "1896   24    1.61   99.96  3.00  1.42     2  1.00  1.19  1.384     3  ...   \n",
              "1897   25    1.83  118.42  1.46  3.00     2  2.36  1.14  0.101     2  ...   \n",
              "1898   23    1.65   94.79  2.00  3.00     2  1.49  0.65  1.000     3  ...   \n",
              "1899   23    1.62   82.00  1.06  1.00     2  2.00  0.00  1.482     2  ...   \n",
              "\n",
              "      CalorieBurnProxy  Gender_Male  family_history_with_overweight_yes  \\\n",
              "0             284.2000        False                                True   \n",
              "1             130.6858         True                                True   \n",
              "10              0.0000         True                                True   \n",
              "11             39.4328        False                               False   \n",
              "12              9.4770        False                                True   \n",
              "...                ...          ...                                 ...   \n",
              "1895            0.0000        False                                True   \n",
              "1896          118.9524         True                                True   \n",
              "1897          134.9988         True                                True   \n",
              "1898           61.6135         True                                True   \n",
              "1899            0.0000        False                                True   \n",
              "\n",
              "      FAVC_yes  SMOKE_yes  SCC_yes  MTRANS_Bike  MTRANS_Motorbike  \\\n",
              "0         True      False    False        False             False   \n",
              "1         True      False    False        False             False   \n",
              "10        True      False    False        False             False   \n",
              "11       False      False     True        False             False   \n",
              "12        True      False    False        False             False   \n",
              "...        ...        ...      ...          ...               ...   \n",
              "1895      True      False    False        False             False   \n",
              "1896      True      False    False        False             False   \n",
              "1897      True      False    False        False             False   \n",
              "1898      True      False    False        False             False   \n",
              "1899      True      False    False        False             False   \n",
              "\n",
              "      MTRANS_Public_Transportation  MTRANS_Walking  \n",
              "0                             True           False  \n",
              "1                            False           False  \n",
              "10                            True           False  \n",
              "11                            True           False  \n",
              "12                           False           False  \n",
              "...                            ...             ...  \n",
              "1895                         False           False  \n",
              "1896                          True           False  \n",
              "1897                          True           False  \n",
              "1898                          True           False  \n",
              "1899                          True           False  \n",
              "\n",
              "[1850 rows x 23 columns]"
            ]
          },
          "execution_count": 137,
          "metadata": {},
          "output_type": "execute_result"
        }
      ],
      "source": [
        "x_train_encoded"
      ]
    },
    {
      "cell_type": "markdown",
      "metadata": {
        "id": "m2hN9-YPz79c"
      },
      "source": [
        "## Feature selection"
      ]
    },
    {
      "cell_type": "markdown",
      "metadata": {
        "id": "p7RO3JQnz79p"
      },
      "source": [
        "### 1. Pearson for KNN, SVM"
      ]
    },
    {
      "cell_type": "code",
      "execution_count": 138,
      "metadata": {
        "colab": {
          "base_uri": "https://localhost:8080/",
          "height": 443
        },
        "collapsed": true,
        "id": "nBNb8ad3z79p",
        "outputId": "be563569-79e8-4398-d8d2-42be9d391f65"
      },
      "outputs": [
        {
          "name": "stderr",
          "output_type": "stream",
          "text": [
            "/home/expygmalion/pytorch_env/lib/python3.13/site-packages/sklearn/feature_selection/_univariate_selection.py:112: RuntimeWarning: divide by zero encountered in divide\n",
            "  f = msb / msw\n"
          ]
        },
        {
          "ename": "ValueError",
          "evalue": "The feature names should match those that were passed during fit.\nFeature names seen at fit time, yet now missing:\n- target_numeric\n",
          "output_type": "error",
          "traceback": [
            "\u001b[0;31m---------------------------------------------------------------------------\u001b[0m",
            "\u001b[0;31mValueError\u001b[0m                                Traceback (most recent call last)",
            "Cell \u001b[0;32mIn[138], line 8\u001b[0m\n\u001b[1;32m      4\u001b[0m selector_pearson \u001b[38;5;241m=\u001b[39m SelectKBest(score_func\u001b[38;5;241m=\u001b[39mf_classif, k\u001b[38;5;241m=\u001b[39m\u001b[38;5;241m10\u001b[39m)\n\u001b[1;32m      7\u001b[0m x_train_pearson \u001b[38;5;241m=\u001b[39m selector_pearson\u001b[38;5;241m.\u001b[39mfit_transform(x_train_encoded_std, y_train)\n\u001b[0;32m----> 8\u001b[0m x_test_pearson \u001b[38;5;241m=\u001b[39m \u001b[43mselector_pearson\u001b[49m\u001b[38;5;241;43m.\u001b[39;49m\u001b[43mtransform\u001b[49m\u001b[43m(\u001b[49m\u001b[43mx_test_encoded_std\u001b[49m\u001b[43m)\u001b[49m\n\u001b[1;32m     10\u001b[0m \u001b[38;5;66;03m# Get the selected feature names\u001b[39;00m\n\u001b[1;32m     11\u001b[0m pearson_features \u001b[38;5;241m=\u001b[39m x_train_encoded_std\u001b[38;5;241m.\u001b[39mcolumns[selector_pearson\u001b[38;5;241m.\u001b[39mget_support()]\n",
            "File \u001b[0;32m~/pytorch_env/lib/python3.13/site-packages/sklearn/utils/_set_output.py:319\u001b[0m, in \u001b[0;36m_wrap_method_output.<locals>.wrapped\u001b[0;34m(self, X, *args, **kwargs)\u001b[0m\n\u001b[1;32m    317\u001b[0m \u001b[38;5;129m@wraps\u001b[39m(f)\n\u001b[1;32m    318\u001b[0m \u001b[38;5;28;01mdef\u001b[39;00m\u001b[38;5;250m \u001b[39m\u001b[38;5;21mwrapped\u001b[39m(\u001b[38;5;28mself\u001b[39m, X, \u001b[38;5;241m*\u001b[39margs, \u001b[38;5;241m*\u001b[39m\u001b[38;5;241m*\u001b[39mkwargs):\n\u001b[0;32m--> 319\u001b[0m     data_to_wrap \u001b[38;5;241m=\u001b[39m \u001b[43mf\u001b[49m\u001b[43m(\u001b[49m\u001b[38;5;28;43mself\u001b[39;49m\u001b[43m,\u001b[49m\u001b[43m \u001b[49m\u001b[43mX\u001b[49m\u001b[43m,\u001b[49m\u001b[43m \u001b[49m\u001b[38;5;241;43m*\u001b[39;49m\u001b[43margs\u001b[49m\u001b[43m,\u001b[49m\u001b[43m \u001b[49m\u001b[38;5;241;43m*\u001b[39;49m\u001b[38;5;241;43m*\u001b[39;49m\u001b[43mkwargs\u001b[49m\u001b[43m)\u001b[49m\n\u001b[1;32m    320\u001b[0m     \u001b[38;5;28;01mif\u001b[39;00m \u001b[38;5;28misinstance\u001b[39m(data_to_wrap, \u001b[38;5;28mtuple\u001b[39m):\n\u001b[1;32m    321\u001b[0m         \u001b[38;5;66;03m# only wrap the first output for cross decomposition\u001b[39;00m\n\u001b[1;32m    322\u001b[0m         return_tuple \u001b[38;5;241m=\u001b[39m (\n\u001b[1;32m    323\u001b[0m             _wrap_data_with_container(method, data_to_wrap[\u001b[38;5;241m0\u001b[39m], X, \u001b[38;5;28mself\u001b[39m),\n\u001b[1;32m    324\u001b[0m             \u001b[38;5;241m*\u001b[39mdata_to_wrap[\u001b[38;5;241m1\u001b[39m:],\n\u001b[1;32m    325\u001b[0m         )\n",
            "File \u001b[0;32m~/pytorch_env/lib/python3.13/site-packages/sklearn/feature_selection/_base.py:107\u001b[0m, in \u001b[0;36mSelectorMixin.transform\u001b[0;34m(self, X)\u001b[0m\n\u001b[1;32m    103\u001b[0m preserve_X \u001b[38;5;241m=\u001b[39m output_config_dense \u001b[38;5;241m!=\u001b[39m \u001b[38;5;124m\"\u001b[39m\u001b[38;5;124mdefault\u001b[39m\u001b[38;5;124m\"\u001b[39m \u001b[38;5;129;01mand\u001b[39;00m _is_pandas_df(X)\n\u001b[1;32m    105\u001b[0m \u001b[38;5;66;03m# note: we use get_tags instead of __sklearn_tags__ because this is a\u001b[39;00m\n\u001b[1;32m    106\u001b[0m \u001b[38;5;66;03m# public Mixin.\u001b[39;00m\n\u001b[0;32m--> 107\u001b[0m X \u001b[38;5;241m=\u001b[39m \u001b[43mvalidate_data\u001b[49m\u001b[43m(\u001b[49m\n\u001b[1;32m    108\u001b[0m \u001b[43m    \u001b[49m\u001b[38;5;28;43mself\u001b[39;49m\u001b[43m,\u001b[49m\n\u001b[1;32m    109\u001b[0m \u001b[43m    \u001b[49m\u001b[43mX\u001b[49m\u001b[43m,\u001b[49m\n\u001b[1;32m    110\u001b[0m \u001b[43m    \u001b[49m\u001b[43mdtype\u001b[49m\u001b[38;5;241;43m=\u001b[39;49m\u001b[38;5;28;43;01mNone\u001b[39;49;00m\u001b[43m,\u001b[49m\n\u001b[1;32m    111\u001b[0m \u001b[43m    \u001b[49m\u001b[43maccept_sparse\u001b[49m\u001b[38;5;241;43m=\u001b[39;49m\u001b[38;5;124;43m\"\u001b[39;49m\u001b[38;5;124;43mcsr\u001b[39;49m\u001b[38;5;124;43m\"\u001b[39;49m\u001b[43m,\u001b[49m\n\u001b[1;32m    112\u001b[0m \u001b[43m    \u001b[49m\u001b[43mensure_all_finite\u001b[49m\u001b[38;5;241;43m=\u001b[39;49m\u001b[38;5;129;43;01mnot\u001b[39;49;00m\u001b[43m \u001b[49m\u001b[43mget_tags\u001b[49m\u001b[43m(\u001b[49m\u001b[38;5;28;43mself\u001b[39;49m\u001b[43m)\u001b[49m\u001b[38;5;241;43m.\u001b[39;49m\u001b[43minput_tags\u001b[49m\u001b[38;5;241;43m.\u001b[39;49m\u001b[43mallow_nan\u001b[49m\u001b[43m,\u001b[49m\n\u001b[1;32m    113\u001b[0m \u001b[43m    \u001b[49m\u001b[43mskip_check_array\u001b[49m\u001b[38;5;241;43m=\u001b[39;49m\u001b[43mpreserve_X\u001b[49m\u001b[43m,\u001b[49m\n\u001b[1;32m    114\u001b[0m \u001b[43m    \u001b[49m\u001b[43mreset\u001b[49m\u001b[38;5;241;43m=\u001b[39;49m\u001b[38;5;28;43;01mFalse\u001b[39;49;00m\u001b[43m,\u001b[49m\n\u001b[1;32m    115\u001b[0m \u001b[43m\u001b[49m\u001b[43m)\u001b[49m\n\u001b[1;32m    116\u001b[0m \u001b[38;5;28;01mreturn\u001b[39;00m \u001b[38;5;28mself\u001b[39m\u001b[38;5;241m.\u001b[39m_transform(X)\n",
            "File \u001b[0;32m~/pytorch_env/lib/python3.13/site-packages/sklearn/utils/validation.py:2919\u001b[0m, in \u001b[0;36mvalidate_data\u001b[0;34m(_estimator, X, y, reset, validate_separately, skip_check_array, **check_params)\u001b[0m\n\u001b[1;32m   2835\u001b[0m \u001b[38;5;28;01mdef\u001b[39;00m\u001b[38;5;250m \u001b[39m\u001b[38;5;21mvalidate_data\u001b[39m(\n\u001b[1;32m   2836\u001b[0m     _estimator,\n\u001b[1;32m   2837\u001b[0m     \u001b[38;5;241m/\u001b[39m,\n\u001b[0;32m   (...)\u001b[0m\n\u001b[1;32m   2843\u001b[0m     \u001b[38;5;241m*\u001b[39m\u001b[38;5;241m*\u001b[39mcheck_params,\n\u001b[1;32m   2844\u001b[0m ):\n\u001b[1;32m   2845\u001b[0m \u001b[38;5;250m    \u001b[39m\u001b[38;5;124;03m\"\"\"Validate input data and set or check feature names and counts of the input.\u001b[39;00m\n\u001b[1;32m   2846\u001b[0m \n\u001b[1;32m   2847\u001b[0m \u001b[38;5;124;03m    This helper function should be used in an estimator that requires input\u001b[39;00m\n\u001b[0;32m   (...)\u001b[0m\n\u001b[1;32m   2917\u001b[0m \u001b[38;5;124;03m        validated.\u001b[39;00m\n\u001b[1;32m   2918\u001b[0m \u001b[38;5;124;03m    \"\"\"\u001b[39;00m\n\u001b[0;32m-> 2919\u001b[0m     \u001b[43m_check_feature_names\u001b[49m\u001b[43m(\u001b[49m\u001b[43m_estimator\u001b[49m\u001b[43m,\u001b[49m\u001b[43m \u001b[49m\u001b[43mX\u001b[49m\u001b[43m,\u001b[49m\u001b[43m \u001b[49m\u001b[43mreset\u001b[49m\u001b[38;5;241;43m=\u001b[39;49m\u001b[43mreset\u001b[49m\u001b[43m)\u001b[49m\n\u001b[1;32m   2920\u001b[0m     tags \u001b[38;5;241m=\u001b[39m get_tags(_estimator)\n\u001b[1;32m   2921\u001b[0m     \u001b[38;5;28;01mif\u001b[39;00m y \u001b[38;5;129;01mis\u001b[39;00m \u001b[38;5;28;01mNone\u001b[39;00m \u001b[38;5;129;01mand\u001b[39;00m tags\u001b[38;5;241m.\u001b[39mtarget_tags\u001b[38;5;241m.\u001b[39mrequired:\n",
            "File \u001b[0;32m~/pytorch_env/lib/python3.13/site-packages/sklearn/utils/validation.py:2777\u001b[0m, in \u001b[0;36m_check_feature_names\u001b[0;34m(estimator, X, reset)\u001b[0m\n\u001b[1;32m   2774\u001b[0m \u001b[38;5;28;01mif\u001b[39;00m \u001b[38;5;129;01mnot\u001b[39;00m missing_names \u001b[38;5;129;01mand\u001b[39;00m \u001b[38;5;129;01mnot\u001b[39;00m unexpected_names:\n\u001b[1;32m   2775\u001b[0m     message \u001b[38;5;241m+\u001b[39m\u001b[38;5;241m=\u001b[39m \u001b[38;5;124m\"\u001b[39m\u001b[38;5;124mFeature names must be in the same order as they were in fit.\u001b[39m\u001b[38;5;130;01m\\n\u001b[39;00m\u001b[38;5;124m\"\u001b[39m\n\u001b[0;32m-> 2777\u001b[0m \u001b[38;5;28;01mraise\u001b[39;00m \u001b[38;5;167;01mValueError\u001b[39;00m(message)\n",
            "\u001b[0;31mValueError\u001b[0m: The feature names should match those that were passed during fit.\nFeature names seen at fit time, yet now missing:\n- target_numeric\n"
          ]
        }
      ],
      "source": [
        "from sklearn.feature_selection import SelectKBest, f_classif\n",
        "\n",
        "# Use f_classif which relies on correlation and works for classification problems\n",
        "selector_pearson = SelectKBest(score_func=f_classif, k=10)\n",
        "\n",
        "\n",
        "x_train_pearson = selector_pearson.fit_transform(x_train_encoded_std, y_train)\n",
        "x_test_pearson = selector_pearson.transform(x_test_encoded_std)\n",
        "\n",
        "# Get the selected feature names\n",
        "pearson_features = x_train_encoded_std.columns[selector_pearson.get_support()]\n",
        "\n",
        "# Convert to DataFrame\n",
        "x_train_pearson = pd.DataFrame(x_train_pearson, columns=pearson_features)\n",
        "x_test_pearson = pd.DataFrame(x_test_pearson, columns=pearson_features)\n",
        "\n",
        "\n",
        "x_test_pearson\n"
      ]
    },
    {
      "cell_type": "code",
      "execution_count": null,
      "metadata": {
        "colab": {
          "base_uri": "https://localhost:8080/"
        },
        "id": "M_IogRluz79p",
        "outputId": "3c3bf42e-868a-40ca-bbd1-093cec7c2efc"
      },
      "outputs": [],
      "source": [
        "pearson_features"
      ]
    },
    {
      "cell_type": "markdown",
      "metadata": {
        "id": "oz9xUIZXz79p"
      },
      "source": [
        "### 2. Chi-squared for Logistic Regression"
      ]
    },
    {
      "cell_type": "code",
      "execution_count": null,
      "metadata": {
        "colab": {
          "base_uri": "https://localhost:8080/",
          "height": 443
        },
        "collapsed": true,
        "id": "1vLNLidUz79p",
        "outputId": "29e70a99-8609-40d1-ad8e-233e1e91ebda"
      },
      "outputs": [],
      "source": [
        "\n",
        "from sklearn.feature_selection import SelectKBest, chi2\n",
        "\n",
        "\n",
        "selector = SelectKBest(score_func=chi2, k=10)\n",
        "x_train_chi = selector.fit_transform(x_train_encoded_minmax, y_train)\n",
        "x_test_chi = selector.transform(x_test_encoded_minmax)\n",
        "\n",
        "# Get selected feature names\n",
        "chi_features = x_train_encoded_minmax.columns[selector.get_support()]\n",
        "\n",
        "# Create DataFrames for selected f\n",
        "# x_train_chieatures\n",
        "x_train_chi = pd.DataFrame(x_train_chi, columns=chi_features)\n",
        "x_test_chi = pd.DataFrame(x_test_chi, columns=chi_features)\n",
        "\n",
        "x_train_chi"
      ]
    },
    {
      "cell_type": "code",
      "execution_count": null,
      "metadata": {
        "colab": {
          "base_uri": "https://localhost:8080/"
        },
        "id": "dJUxAYyRz79p",
        "outputId": "7fbcf87a-0293-4187-b68b-d41a3bb3006a"
      },
      "outputs": [],
      "source": [
        "chi_features"
      ]
    },
    {
      "cell_type": "code",
      "execution_count": null,
      "metadata": {
        "id": "Pq1ItR6Az79p"
      },
      "outputs": [],
      "source": [
        "#  index after DataFrame transformations\n",
        "# To avoid index mismatches later in training/plotting:\n",
        "x_train_pearson.reset_index(drop=True, inplace=True)\n",
        "x_test_pearson.reset_index(drop=True, inplace=True)\n",
        "x_train_chi.reset_index(drop=True, inplace=True)\n",
        "x_test_chi.reset_index(drop=True, inplace=True)\n"
      ]
    },
    {
      "cell_type": "markdown",
      "metadata": {
        "id": "6JmZV4mbz79p"
      },
      "source": [
        "# Setting the features ready for modeling:\n"
      ]
    },
    {
      "cell_type": "markdown",
      "metadata": {
        "id": "J1j9nSXBz79p"
      },
      "source": [
        " We aim to validate the data's readiness for training by imposing checks and verifying some metrics relevant to each of the four select models we are to build (SVM, KNN,  Logistic).\n"
      ]
    },
    {
      "cell_type": "markdown",
      "metadata": {
        "id": "uBDw2_5Fz79p"
      },
      "source": [
        "## Feature Correlation check"
      ]
    },
    {
      "cell_type": "code",
      "execution_count": null,
      "metadata": {
        "colab": {
          "base_uri": "https://localhost:8080/"
        },
        "id": "qqvshEoEz79p",
        "outputId": "9d5db5a9-e807-48ef-a825-1532ce91ea97"
      },
      "outputs": [],
      "source": [
        "pearson_features"
      ]
    },
    {
      "cell_type": "code",
      "execution_count": null,
      "metadata": {
        "colab": {
          "base_uri": "https://localhost:8080/",
          "height": 915
        },
        "id": "byyXsZqoz79p",
        "outputId": "216f69cc-c440-45ef-cc69-c0c6d7e9960d"
      },
      "outputs": [],
      "source": [
        "import numpy as np\n",
        "plt.figure(figsize=(12,10))\n",
        "mask = np.triu(np.ones_like(x_train_pearson[pearson_features].corr(), dtype=bool))\n",
        "sns.heatmap(x_train_pearson[pearson_features].corr(),\n",
        "            annot=True,\n",
        "            fmt=\".2f\",\n",
        "            cmap='coolwarm',\n",
        "            vmin=-1, vmax=1,\n",
        "            mask=mask,\n",
        "            square=True)\n",
        "plt.title(\"Pearson-Selected Feature Correlation (Upper Triangle)\", pad=20)\n",
        "plt.xticks(rotation=45, ha='right')\n",
        "plt.tight_layout()\n",
        "plt.show()"
      ]
    },
    {
      "cell_type": "code",
      "execution_count": null,
      "metadata": {
        "colab": {
          "base_uri": "https://localhost:8080/"
        },
        "id": "6_LhGZMwz79q",
        "outputId": "0d1b67c0-2812-4aaf-e138-ea5eb2fbdb7a"
      },
      "outputs": [],
      "source": [
        "x_train_pearson.drop('Weight', axis=1, inplace=True)\n",
        "x_test_pearson.drop('Weight', axis=1, inplace=True)\n",
        "pearson_features = pearson_features.drop('Weight')\n",
        "\n",
        "\n",
        "pearson_features"
      ]
    },
    {
      "cell_type": "code",
      "execution_count": null,
      "metadata": {
        "colab": {
          "base_uri": "https://localhost:8080/"
        },
        "id": "lft2OI81z79q",
        "outputId": "9e0b6ed3-e2ec-482f-c3c1-b2105153101d"
      },
      "outputs": [],
      "source": [
        "chi_features"
      ]
    },
    {
      "cell_type": "code",
      "execution_count": null,
      "metadata": {
        "colab": {
          "base_uri": "https://localhost:8080/",
          "height": 915
        },
        "id": "sRVv2BQGz79q",
        "outputId": "4f574c05-63d4-4f27-8b19-1def2c9ed3de"
      },
      "outputs": [],
      "source": [
        "import numpy as np\n",
        "plt.figure(figsize=(12,10))\n",
        "mask = np.triu(np.ones_like(x_train_chi[chi_features].corr(), dtype=bool))\n",
        "sns.heatmap(x_train_chi[chi_features].corr(),\n",
        "            annot=True,\n",
        "            fmt=\".2f\",\n",
        "            cmap='coolwarm',\n",
        "            vmin=-1, vmax=1,\n",
        "            mask=mask,\n",
        "            square=True)\n",
        "plt.title(\"Chi-Square Selected Feature Correlation (Upper Triangle)\", pad=20)\n",
        "plt.xticks(rotation=45, ha='right')\n",
        "plt.tight_layout()\n",
        "plt.show()"
      ]
    },
    {
      "cell_type": "code",
      "execution_count": null,
      "metadata": {
        "colab": {
          "base_uri": "https://localhost:8080/"
        },
        "id": "ODHCc2y6z79q",
        "outputId": "51e8ee67-3c66-4320-c99d-b4a7180db431"
      },
      "outputs": [],
      "source": [
        "x_train_chi.drop('Weight', axis=1, inplace=True)\n",
        "x_test_chi.drop('Weight', axis=1, inplace=True)\n",
        "chi_features= chi_features.drop('Weight')\n",
        "\n",
        "\n",
        "pearson_features"
      ]
    },
    {
      "cell_type": "markdown",
      "metadata": {
        "id": "OVySzVTVz79q"
      },
      "source": [
        "## Distance Check for KNN"
      ]
    },
    {
      "cell_type": "code",
      "execution_count": null,
      "metadata": {
        "colab": {
          "base_uri": "https://localhost:8080/",
          "height": 452
        },
        "collapsed": true,
        "id": "SZv_ep28z79q",
        "outputId": "3d24fb1f-a15e-45d4-e7db-e7129c3fc6ca"
      },
      "outputs": [],
      "source": [
        "from scipy.spatial.distance import pdist, squareform\n",
        "dists = pdist(x_train_pearson.values, metric='euclidean')\n",
        "plt.hist(dists, bins=50)\n",
        "plt.title(\"Pairwise Euclidean Distances\")\n",
        "plt.show()\n"
      ]
    },
    {
      "cell_type": "markdown",
      "metadata": {
        "id": "EZCNtm36z79q"
      },
      "source": [
        "Observation: Bell shaped, no narrow peak."
      ]
    },
    {
      "cell_type": "markdown",
      "metadata": {
        "id": "Z73MUijwz79q"
      },
      "source": [
        "## Class Balance Check\n",
        "We check for imbalanced classes that would potentially bias model's prediction."
      ]
    },
    {
      "cell_type": "code",
      "execution_count": null,
      "metadata": {
        "colab": {
          "base_uri": "https://localhost:8080/",
          "height": 461
        },
        "id": "Fq2Pxe80z79q",
        "outputId": "02d0d78d-ec6c-4cbd-f0de-cef362110759"
      },
      "outputs": [],
      "source": [
        "y_train.value_counts(normalize=True).plot(kind='bar')"
      ]
    },
    {
      "cell_type": "markdown",
      "metadata": {
        "id": "vcAV8-fiz79q"
      },
      "source": [
        " Observation: All classes have < 10–15% class weights."
      ]
    },
    {
      "cell_type": "markdown",
      "metadata": {
        "id": "frg8LYYyz79q"
      },
      "source": [
        "## Scaling check"
      ]
    },
    {
      "cell_type": "code",
      "execution_count": null,
      "metadata": {
        "colab": {
          "base_uri": "https://localhost:8080/",
          "height": 457
        },
        "id": "SA6S-XsXz79q",
        "outputId": "273db333-239d-4e8d-9437-28d637762740"
      },
      "outputs": [],
      "source": [
        "x_train_encoded_std[scale_features].describe().T[['mean', 'std']]"
      ]
    },
    {
      "cell_type": "markdown",
      "metadata": {
        "id": "Pu5M2kFvz79q"
      },
      "source": [
        "Observation: All means close to 0, all stds are ~1."
      ]
    },
    {
      "cell_type": "markdown",
      "metadata": {
        "id": "xU5tEJH7z79r"
      },
      "source": [
        " ## Skewness Check\n"
      ]
    },
    {
      "cell_type": "code",
      "execution_count": null,
      "metadata": {
        "colab": {
          "base_uri": "https://localhost:8080/",
          "height": 492
        },
        "id": "L0PSqSzKz79r",
        "outputId": "6c13ffb4-fa45-4933-d90e-5813f27c8e36"
      },
      "outputs": [],
      "source": [
        "x_train_encoded_std[scale_features].skew()\n"
      ]
    },
    {
      "cell_type": "markdown",
      "metadata": {
        "id": "eKVaJZXRz79r"
      },
      "source": [
        "# Formalizing:"
      ]
    },
    {
      "cell_type": "markdown",
      "metadata": {
        "id": "Khm6cFPi0lqF"
      },
      "source": [
        "\n",
        "### DataFrames ready for modeling:\n",
        "# \n",
        " - `x_train_pearson`, `x_test_pearson`: Features selected using Pearson correlation (f_classif) after StandardScaler and handling high correlation. Suitable for SVM and KNN.\n",
        "\n",
        " \n",
        " - `x_train_chi`, `x_test_chi`: Features selected using Chi-squared after MinMaxScaler and handling high correlation. Suitable for Logistic Regression.\n"
      ]
    },
    {
      "cell_type": "code",
      "execution_count": null,
      "metadata": {
        "id": "WXJaSxTb0EDw"
      },
      "outputs": [],
      "source": [
        "from sklearn.metrics import accuracy_score\n",
        "from sklearn.metrics import precision_score\n",
        "from sklearn.metrics import recall_score\n",
        "from sklearn.metrics import f1_score\n",
        "from sklearn.metrics import confusion_matrix\n",
        "from sklearn.metrics import classification_report"
      ]
    },
    {
      "cell_type": "markdown",
      "metadata": {
        "id": "Qy-oDd0-Nu0C"
      },
      "source": [
        "# **XGBoost**"
      ]
    },
    {
      "cell_type": "code",
      "execution_count": null,
      "metadata": {
        "id": "ed9GvCFpByp4"
      },
      "outputs": [],
      "source": [
        "from xgboost import XGBClassifier\n",
        "from sklearn.model_selection import RandomizedSearchCV"
      ]
    },
    {
      "cell_type": "markdown",
      "metadata": {
        "id": "37RUH2uEN6Ks"
      },
      "source": [
        "RandomizedSearchCV  \n",
        "//used RandomizedSearchCV because GridSearchCV was slow\n"
      ]
    },
    {
      "cell_type": "code",
      "execution_count": null,
      "metadata": {
        "colab": {
          "base_uri": "https://localhost:8080/",
          "height": 165
        },
        "id": "5DLuJfUiPYLX",
        "outputId": "8292521c-6455-46f4-e2fd-e2b52430a9cc"
      },
      "outputs": [],
      "source": [
        "param_grid_xgb = {\n",
        "    'n_estimators': [50, 100, 150],\n",
        "    'max_depth': [3, 4, 5],\n",
        "    'learning_rate': [0.01, 0.1, 0.2]\n",
        "}\n",
        "\n",
        "random_xgb = RandomizedSearchCV(\n",
        "    estimator=XGBClassifier(random_state=2021, eval_metric='mlogloss'),\n",
        "    param_distributions=param_grid_xgb,\n",
        "    cv=5\n",
        ")\n",
        "\n",
        "# Fit on training data\n",
        "random_xgb.fit(x_train_encoded, y_train)\n"
      ]
    },
    {
      "cell_type": "markdown",
      "metadata": {
        "id": "OeibIvIXwagn"
      },
      "source": [
        "XGB Accuracy\n"
      ]
    },
    {
      "cell_type": "code",
      "execution_count": null,
      "metadata": {
        "colab": {
          "base_uri": "https://localhost:8080/"
        },
        "id": "kRmZS_8lyR24",
        "outputId": "30d32f3e-4724-46b3-bbab-2bde622beab4"
      },
      "outputs": [],
      "source": [
        "XGB_train_accuracy=accuracy_score(y_train,random_xgb.predict(x_train_encoded))\n",
        "print(\"XGB Train Accuracy:\",round(XGB_train_accuracy*100,2),\"%\")\n",
        "\n",
        "XGB_test_accuracy=accuracy_score(y_test,random_xgb.predict(x_test_encoded))\n",
        "print(\"XGB Test Accuracy:\",round(XGB_test_accuracy*100,2),\"%\")"
      ]
    },
    {
      "cell_type": "markdown",
      "metadata": {
        "id": "ScWeArxk0D9l"
      },
      "source": [
        "XGB Precision"
      ]
    },
    {
      "cell_type": "code",
      "execution_count": null,
      "metadata": {
        "colab": {
          "base_uri": "https://localhost:8080/"
        },
        "id": "FxR_ChKe1tWu",
        "outputId": "4229ab22-4809-418e-f46f-93017cb8f6a8"
      },
      "outputs": [],
      "source": [
        "XGB_precision_train=precision_score(y_train,random_xgb.predict(x_train_encoded),average='weighted')\n",
        "print(\"XGB Train Precision:\",round(XGB_precision_train*100,2),\"%\")\n",
        "\n",
        "XGB_precision_test=precision_score(y_test,random_xgb.predict(x_test_encoded),average='weighted')\n",
        "print(\"XGB Test Precision:\",round(XGB_precision_test*100,2),\"%\")"
      ]
    },
    {
      "cell_type": "markdown",
      "metadata": {
        "id": "FHKgU0s34AW7"
      },
      "source": [
        "XGB recall\n"
      ]
    },
    {
      "cell_type": "code",
      "execution_count": null,
      "metadata": {
        "colab": {
          "base_uri": "https://localhost:8080/"
        },
        "id": "9CDnz4TO4FkN",
        "outputId": "b94b56fd-88ee-4062-a862-f67d709b486d"
      },
      "outputs": [],
      "source": [
        "XGB_recall_train=recall_score(y_train,random_xgb.predict(x_train_encoded),average='weighted')\n",
        "print(\"XGB Train Recall:\",round(XGB_recall_train*100,2),\"%\")\n",
        "\n",
        "XGB_recall_test=recall_score(y_test,random_xgb.predict(x_test_encoded),average='weighted')\n",
        "print(\"XGB Test Recall:\",round(XGB_recall_test*100,2),\"%\")"
      ]
    },
    {
      "cell_type": "markdown",
      "metadata": {
        "id": "O_otfSYw41_X"
      },
      "source": [
        "XGB F1-score"
      ]
    },
    {
      "cell_type": "code",
      "execution_count": null,
      "metadata": {
        "colab": {
          "base_uri": "https://localhost:8080/"
        },
        "id": "0PDzHPvL49NL",
        "outputId": "b41b35f3-c938-41ac-9493-7cdaca83a762"
      },
      "outputs": [],
      "source": [
        "XGB_f1_train=f1_score(y_train,random_xgb.predict(x_train_encoded),average='weighted')\n",
        "print(\"XGB Train F1-score:\",round(XGB_f1_train*100,2),\"%\")\n",
        "\n",
        "XGB_f1_test=f1_score(y_test,random_xgb.predict(x_test_encoded),average='weighted')\n",
        "print(\"XGB Test F1-score:\",round(XGB_f1_test*100,2),\"%\")"
      ]
    },
    {
      "cell_type": "markdown",
      "metadata": {
        "id": "M3HPNmrC5iqU"
      },
      "source": [
        "XGB confusion matrix"
      ]
    },
    {
      "cell_type": "code",
      "execution_count": 139,
      "metadata": {
        "colab": {
          "base_uri": "https://localhost:8080/"
        },
        "id": "wzYbw1ij6Wf_",
        "outputId": "4e062d7a-f989-41fc-ced9-52fc8cebaea2"
      },
      "outputs": [
        {
          "ename": "NameError",
          "evalue": "name 'confusion_matrix' is not defined",
          "output_type": "error",
          "traceback": [
            "\u001b[0;31m---------------------------------------------------------------------------\u001b[0m",
            "\u001b[0;31mNameError\u001b[0m                                 Traceback (most recent call last)",
            "Cell \u001b[0;32mIn[139], line 1\u001b[0m\n\u001b[0;32m----> 1\u001b[0m XGB_confusion_matrix\u001b[38;5;241m=\u001b[39m\u001b[43mconfusion_matrix\u001b[49m(y_test,random_xgb\u001b[38;5;241m.\u001b[39mpredict(x_test_encoded))\n\u001b[1;32m      2\u001b[0m \u001b[38;5;28mprint\u001b[39m(\u001b[38;5;124m\"\u001b[39m\u001b[38;5;124mXGB Confusion Matrix:\u001b[39m\u001b[38;5;124m\"\u001b[39m,XGB_confusion_matrix)\n",
            "\u001b[0;31mNameError\u001b[0m: name 'confusion_matrix' is not defined"
          ]
        }
      ],
      "source": [
        "XGB_confusion_matrix=confusion_matrix(y_test,random_xgb.predict(x_test_encoded))\n",
        "print(\"XGB Confusion Matrix:\",XGB_confusion_matrix)"
      ]
    },
    {
      "cell_type": "code",
      "execution_count": null,
      "metadata": {},
      "outputs": [],
      "source": []
    },
    {
      "cell_type": "markdown",
      "metadata": {
        "id": "23JgI__PPX1I"
      },
      "source": [
        "## SVM"
      ]
    },
    {
      "cell_type": "code",
      "execution_count": null,
      "metadata": {
        "id": "AS_7QFu_YZVY"
      },
      "outputs": [],
      "source": [
        "from sklearn.svm import SVC\n",
        "from sklearn.model_selection import GridSearchCV"
      ]
    },
    {
      "cell_type": "code",
      "execution_count": null,
      "metadata": {
        "colab": {
          "base_uri": "https://localhost:8080/",
          "height": 165
        },
        "id": "Mc16Jv2AYjEI",
        "outputId": "2e4cbed3-f9ad-46e5-c2f2-5996193a0e22"
      },
      "outputs": [],
      "source": [
        "param_grid_svc = {\n",
        "    'C': [0.1, 1, 10],\n",
        "    'kernel': ['linear', 'rbf'],\n",
        "    'gamma': ['scale', 'auto']\n",
        "}\n",
        "grid_svc = GridSearchCV(SVC(random_state=2021), param_grid_svc, cv=5)\n",
        "grid_svc.fit(x_train_pearson, y_train)"
      ]
    },
    {
      "cell_type": "markdown",
      "metadata": {
        "id": "sNC-mDKW76Ql"
      },
      "source": [
        "SVM accuarcy"
      ]
    },
    {
      "cell_type": "code",
      "execution_count": null,
      "metadata": {
        "colab": {
          "base_uri": "https://localhost:8080/"
        },
        "id": "RgkvQRZd7-Q-",
        "outputId": "5e4f6ed6-b093-4e98-baff-c0ba3b94858d"
      },
      "outputs": [],
      "source": [
        "SVM_train_accuracy=accuracy_score(y_train,grid_svc.predict(x_train_pearson))\n",
        "print(\"SVM Train Accuracy:\",round(SVM_train_accuracy*100,2),\"%\")\n",
        "\n",
        "SVM_test_accuracy=accuracy_score(y_test,grid_svc.predict(x_test_pearson))\n",
        "print(\"SVM Test Accuracy:\",round(SVM_test_accuracy*100,2),\"%\")"
      ]
    },
    {
      "cell_type": "markdown",
      "metadata": {
        "id": "aUXBlGQq8Kkd"
      },
      "source": [
        "SVM precision"
      ]
    },
    {
      "cell_type": "code",
      "execution_count": null,
      "metadata": {
        "colab": {
          "base_uri": "https://localhost:8080/"
        },
        "id": "W8jewdf68Gus",
        "outputId": "0589b850-af6b-41a5-868b-5e00d2fd3c01"
      },
      "outputs": [],
      "source": [
        "SVM_precision_train=precision_score(y_train,grid_svc.predict(x_train_pearson),average='weighted')\n",
        "print(\"SVM Train Precision:\",round(SVM_precision_train*100,2),\"%\")\n",
        "\n",
        "SVM_precision_test=precision_score(y_test,grid_svc.predict(x_test_pearson),average='weighted')\n",
        "print(\"SVM Test Precision:\",round(SVM_precision_test*100,2),\"%\")"
      ]
    },
    {
      "cell_type": "markdown",
      "metadata": {
        "id": "ODPkyOoV8b9e"
      },
      "source": [
        "SVM recall"
      ]
    },
    {
      "cell_type": "code",
      "execution_count": null,
      "metadata": {
        "colab": {
          "base_uri": "https://localhost:8080/"
        },
        "id": "IOw3cmSx8e1i",
        "outputId": "4d701af2-dae3-4652-eb5b-6a20373ecffc"
      },
      "outputs": [],
      "source": [
        "SVM_recall_train=recall_score(y_train,grid_svc.predict(x_train_pearson),average='weighted')\n",
        "print(\"SVM Train Recall:\",round(SVM_recall_train*100,2),\"%\")\n",
        "\n",
        "SVM_recall_test=recall_score(y_test,grid_svc.predict(x_test_pearson),average='weighted')\n",
        "print(\"SVM Test Recall:\",round(SVM_recall_test*100,2),\"%\")"
      ]
    },
    {
      "cell_type": "markdown",
      "metadata": {
        "id": "3LiaP0MG8kwI"
      },
      "source": [
        "SVM F-1 score"
      ]
    },
    {
      "cell_type": "code",
      "execution_count": null,
      "metadata": {
        "colab": {
          "base_uri": "https://localhost:8080/"
        },
        "id": "nYzqLgPy8bKk",
        "outputId": "c3b4e2e4-a3b6-4eb6-914c-91df5af4bdf0"
      },
      "outputs": [],
      "source": [
        "SVM_F1_train=f1_score(y_train,grid_svc.predict(x_train_pearson),average='weighted')\n",
        "print(\"SVM Train F1-score:\",round(SVM_F1_train*100,2),\"%\")\n",
        "\n",
        "SVM_F1_test=f1_score(y_test,grid_svc.predict(x_test_pearson),average='weighted')\n",
        "print(\"SVM Test F1-score:\",round(SVM_F1_test*100,2),\"%\")"
      ]
    },
    {
      "cell_type": "markdown",
      "metadata": {
        "id": "b13hXwXd82Y-"
      },
      "source": [
        "SVM confsion matrix"
      ]
    },
    {
      "cell_type": "code",
      "execution_count": null,
      "metadata": {
        "colab": {
          "base_uri": "https://localhost:8080/"
        },
        "id": "opaey5-A8yUp",
        "outputId": "9408c6ba-863e-4a2a-f847-2cb230ca28fc"
      },
      "outputs": [],
      "source": [
        "SVM_confusion_matrix=confusion_matrix(y_test,grid_svc.predict(x_test_pearson))\n",
        "print(\"SVM Confusion Matrix:\",SVM_confusion_matrix)"
      ]
    },
    {
      "cell_type": "markdown",
      "metadata": {
        "id": "gSPJIRhNxUp3"
      },
      "source": []
    },
    {
      "cell_type": "markdown",
      "metadata": {
        "id": "Q8o0ZoUMbDwE"
      },
      "source": [
        "## Logistic Regression\n"
      ]
    },
    {
      "cell_type": "code",
      "execution_count": null,
      "metadata": {
        "id": "FBm_XPV1bPtG"
      },
      "outputs": [],
      "source": [
        "# Import necessary libraries for modeling and evaluation\n",
        "from sklearn.linear_model import LogisticRegression\n",
        "from sklearn.preprocessing import PolynomialFeatures\n",
        "from sklearn.metrics import accuracy_score, precision_score, recall_score, f1_score, confusion_matrix"
      ]
    },
    {
      "cell_type": "markdown",
      "metadata": {
        "id": "j-GafqnF4cQ6"
      },
      "source": [
        "Generate Polynomial Features (Degree 2):"
      ]
    },
    {
      "cell_type": "code",
      "execution_count": null,
      "metadata": {
        "id": "jYHC9nu94fsI"
      },
      "outputs": [],
      "source": [
        "# Create polynomial features to allow Logistic Regression to model nonlinear relationships\n",
        "# degree=2 means we include squared terms and interaction terms between features\n",
        "poly = PolynomialFeatures(degree=2, include_bias=False)\n",
        "\n",
        "# Fit polynomial transformer on training data and transform it\n",
        "x_train_poly = poly.fit_transform(x_train_chi)\n",
        "\n",
        "# Transform test data using the same polynomial transformer (do NOT fit again)\n",
        "x_test_poly = poly.transform(x_test_chi)"
      ]
    },
    {
      "cell_type": "markdown",
      "metadata": {
        "id": "IPS7Q0lh4kMK"
      },
      "source": [
        " Initialize Logistic Regression Model with Increased Max Iterations"
      ]
    },
    {
      "cell_type": "code",
      "execution_count": null,
      "metadata": {
        "id": "8o22i18x4mnX"
      },
      "outputs": [],
      "source": [
        "# Initialize Logistic Regression model with a fixed random state for reproducibility\n",
        "# max_iter=1000 ensures the solver has enough iterations to converge on complex data\n",
        "model_LR = LogisticRegression(random_state=2021, max_iter=1000)"
      ]
    },
    {
      "cell_type": "markdown",
      "metadata": {
        "id": "ikBe21qL4orH"
      },
      "source": [
        "Train the Model on Polynomial Features"
      ]
    },
    {
      "cell_type": "code",
      "execution_count": null,
      "metadata": {
        "colab": {
          "base_uri": "https://localhost:8080/",
          "height": 80
        },
        "id": "R5nGLvZJ4ri9",
        "outputId": "eeff311f-fbfa-44a1-cfb9-44f55198a30e"
      },
      "outputs": [],
      "source": [
        "# Train the Logistic Regression model using the transformed training data\n",
        "model_LR.fit(x_train_poly, y_train)"
      ]
    },
    {
      "cell_type": "markdown",
      "metadata": {
        "id": "YDIwyGFy4u4R"
      },
      "source": [
        "Make Predictions on Train and Test Data"
      ]
    },
    {
      "cell_type": "code",
      "execution_count": null,
      "metadata": {
        "id": "_IXa1v9F4vrD"
      },
      "outputs": [],
      "source": [
        "# Predict target labels on the training set (for evaluating training performance)\n",
        "train_preds = model_LR.predict(x_train_poly)\n",
        "# Predict target labels on the test set (for evaluating generalization performance)\n",
        "test_preds = model_LR.predict(x_test_poly)"
      ]
    },
    {
      "cell_type": "markdown",
      "metadata": {
        "id": "HY3z2XsL4zeT"
      },
      "source": [
        "Evaluate Model Performance Metrics"
      ]
    },
    {
      "cell_type": "code",
      "execution_count": null,
      "metadata": {
        "colab": {
          "base_uri": "https://localhost:8080/"
        },
        "id": "d6Ghd3w6uYew",
        "outputId": "8470e6ff-3494-4718-e976-cc41e0b702a0"
      },
      "outputs": [],
      "source": [
        "# Calculate and print the accuracy score for train and test data\n",
        "LR_train_accuracy = accuracy_score(y_train, train_preds)\n",
        "print(\"LR Train Accuracy:\", round(LR_train_accuracy * 100, 2), \"%\")\n",
        "\n",
        "LR_test_accuracy = accuracy_score(y_test, test_preds)\n",
        "print(\"LR Test Accuracy:\", round(LR_test_accuracy * 100, 2), \"%\")\n",
        "\n",
        "# Calculate and print weighted precision scores\n",
        "LR_precision_train = precision_score(y_train, train_preds, average='weighted')\n",
        "print(\"LR Train Precision:\", round(LR_precision_train * 100, 2), \"%\")\n",
        "\n",
        "LR_precision_test = precision_score(y_test, test_preds, average='weighted')\n",
        "print(\"LR Test Precision:\", round(LR_precision_test * 100, 2), \"%\")\n"
      ]
    },
    {
      "cell_type": "code",
      "execution_count": null,
      "metadata": {
        "colab": {
          "base_uri": "https://localhost:8080/"
        },
        "id": "Ypfw_z-j5T_A",
        "outputId": "e1067601-e9df-4d59-ef63-f57c511cfa1d"
      },
      "outputs": [],
      "source": [
        "\n",
        "# Calculate and print weighted recall scores\n",
        "LR_recall_train = recall_score(y_train, train_preds, average='weighted')\n",
        "print(\"LR Train Recall:\", round(LR_recall_train * 100, 2), \"%\")\n",
        "\n",
        "LR_recall_test = recall_score(y_test, test_preds, average='weighted')\n",
        "print(\"LR Test Recall:\", round(LR_recall_test * 100, 2), \"%\")\n",
        "\n",
        "# Calculate and print weighted F1 scores\n",
        "LR_F1_train = f1_score(y_train, train_preds, average='weighted')\n",
        "print(\"LR Train F1-score:\", round(LR_F1_train * 100, 2), \"%\")\n",
        "\n",
        "LR_F1_test = f1_score(y_test, test_preds, average='weighted')\n",
        "print(\"LR Test F1-score:\", round(LR_F1_test * 100, 2), \"%\")"
      ]
    },
    {
      "cell_type": "markdown",
      "metadata": {
        "id": "SQqJm5g744h-"
      },
      "source": [
        " Display Confusion Matrix for Test Data"
      ]
    },
    {
      "cell_type": "code",
      "execution_count": null,
      "metadata": {
        "colab": {
          "base_uri": "https://localhost:8080/"
        },
        "id": "_QBSPmnk9g3O",
        "outputId": "e9a92a3b-9d03-42b0-a8d6-6384b02772a2"
      },
      "outputs": [],
      "source": [
        "\n",
        "LR_confusion_matrix = confusion_matrix(y_test, test_preds)\n",
        "print(\"LR Confusion Matrix:\\n\", LR_confusion_matrix)"
      ]
    },
    {
      "cell_type": "markdown",
      "metadata": {
        "id": "8PNwlZtigOih"
      },
      "source": [
        "##KNN"
      ]
    },
    {
      "cell_type": "code",
      "execution_count": null,
      "metadata": {
        "id": "rV6MlM4UgQyx"
      },
      "outputs": [],
      "source": [
        "from sklearn.neighbors import KNeighborsClassifier"
      ]
    },
    {
      "cell_type": "code",
      "execution_count": null,
      "metadata": {
        "colab": {
          "base_uri": "https://localhost:8080/",
          "height": 379
        },
        "id": "bdlfD0e8yFVT",
        "outputId": "dca6fc88-f0fb-4889-e89a-2bffe6ad7b89"
      },
      "outputs": [],
      "source": [
        "param_grid_KNN = {\n",
        "    'n_neighbors': [3, 5, 7, 9],\n",
        "    'weights': ['uniform', 'distance'],\n",
        "    'p': [1, 2]  # 1 for Manhattan distance, 2 for Euclidean distance\n",
        "}\n",
        "grid_KNN= GridSearchCV(KNeighborsClassifier(), param_grid_KNN, cv=5)\n",
        "grid_KNN.fit(x_train_pearson, y_train)"
      ]
    },
    {
      "cell_type": "markdown",
      "metadata": {
        "id": "mdMosWhP-Kmw"
      },
      "source": [
        "KNN Accuracy"
      ]
    },
    {
      "cell_type": "code",
      "execution_count": null,
      "metadata": {
        "colab": {
          "base_uri": "https://localhost:8080/"
        },
        "id": "YSJBmEjR-skm",
        "outputId": "04cc265a-cfde-445b-e497-c07ff5186b90"
      },
      "outputs": [],
      "source": [
        "KNN_accuracy_train=accuracy_score(y_train,grid_KNN.predict(x_train_pearson))\n",
        "print(\"KNN Train Accuracy:\",round(KNN_accuracy_train*100,2),\"%\")\n",
        "\n",
        "KNN_accuracy_test=accuracy_score(y_test,grid_KNN.predict(x_test_pearson))\n",
        "print(\"KNN Test Accuracy:\",round(KNN_accuracy_test*100,2),\"%\")"
      ]
    },
    {
      "cell_type": "markdown",
      "metadata": {
        "id": "xxkg4YEB-Lf0"
      },
      "source": [
        "KNN Precision"
      ]
    },
    {
      "cell_type": "code",
      "execution_count": null,
      "metadata": {
        "colab": {
          "base_uri": "https://localhost:8080/"
        },
        "id": "s6i8yFQ_-tYg",
        "outputId": "e71acb55-df8b-43b6-9a36-63a09110cc33"
      },
      "outputs": [],
      "source": [
        "KNN_precision_train=precision_score(y_train,grid_KNN.predict(x_train_pearson),average='weighted')\n",
        "print(\"KNN Train Precision:\",round(KNN_precision_train*100,2),\"%\")\n",
        "\n",
        "KNN_precision_test=precision_score(y_test,grid_KNN.predict(x_test_pearson),average='weighted')\n",
        "print(\"KNN Test Precision:\",round(KNN_precision_test*100,2),\"%\")"
      ]
    },
    {
      "cell_type": "markdown",
      "metadata": {
        "id": "gYafu5ww-MKq"
      },
      "source": [
        "KNN recall"
      ]
    },
    {
      "cell_type": "code",
      "execution_count": null,
      "metadata": {
        "colab": {
          "base_uri": "https://localhost:8080/"
        },
        "id": "mbi6dGWi-u0V",
        "outputId": "5998f3a5-cae6-477a-e187-0f6bab3827a2"
      },
      "outputs": [],
      "source": [
        "KNN_recall_train=recall_score(y_train,grid_KNN.predict(x_train_pearson),average='weighted')\n",
        "print(\"KNN Train Recall:\",round(KNN_recall_train*100,2),\"%\")\n",
        "\n",
        "KNN_recall_test=recall_score(y_test,grid_KNN.predict(x_test_pearson),average='weighted')\n",
        "print(\"KNN Test Recall:\",round(KNN_recall_test*100,2),\"%\")"
      ]
    },
    {
      "cell_type": "markdown",
      "metadata": {
        "id": "tsSipFzY-Mp1"
      },
      "source": [
        "KNN F1-score"
      ]
    },
    {
      "cell_type": "code",
      "execution_count": null,
      "metadata": {
        "colab": {
          "base_uri": "https://localhost:8080/"
        },
        "id": "tqQIMl7v-vtM",
        "outputId": "930d5fc2-2132-4ef6-c64c-bb2b8bbe71eb"
      },
      "outputs": [],
      "source": [
        "KNN_F1_train=f1_score(y_train,grid_KNN.predict(x_train_pearson),average='weighted')\n",
        "print(\"KNN Train F1-score:\",round(KNN_F1_train*100,2),\"%\")\n",
        "\n",
        "KNN_F1_test=f1_score(y_test,grid_KNN.predict(x_test_pearson),average='weighted')\n",
        "print(\"KNN Test F1-score:\",round(KNN_F1_test*100,2),\"%\")"
      ]
    },
    {
      "cell_type": "markdown",
      "metadata": {
        "id": "A7gxYT8Z-NcS"
      },
      "source": [
        "KNN_confusion_matrix"
      ]
    },
    {
      "cell_type": "code",
      "execution_count": null,
      "metadata": {
        "colab": {
          "base_uri": "https://localhost:8080/"
        },
        "id": "ElEh7N4K-wpB",
        "outputId": "45873aa6-f4e3-4035-81e3-f6e258273b47"
      },
      "outputs": [],
      "source": [
        "KNN_confusion_matrix=confusion_matrix(y_test,grid_KNN.predict(x_test_pearson))\n",
        "print(\"KNN Confusion Matrix:\",KNN_confusion_matrix)"
      ]
    },
    {
      "cell_type": "markdown",
      "metadata": {
        "id": "ugGic111_I1j"
      },
      "source": [
        "##RANDOM FOREST"
      ]
    },
    {
      "cell_type": "code",
      "execution_count": null,
      "metadata": {
        "colab": {
          "base_uri": "https://localhost:8080/",
          "height": 165
        },
        "id": "M7jSh5SS_Nx0",
        "outputId": "f08306f6-a94d-47bd-c5cf-373fc6074854"
      },
      "outputs": [],
      "source": [
        "from sklearn.ensemble import RandomForestClassifier\n",
        "param_grid_rf = {\n",
        "    'n_estimators': [100, 200],\n",
        "    'max_depth': [None, 10, 20],\n",
        "    'min_samples_split': [2, 5]\n",
        "}\n",
        "grid_rf = GridSearchCV(RandomForestClassifier(random_state=2021), param_grid_rf, cv=5)\n",
        "grid_rf.fit(x_train_encoded, y_train)"
      ]
    },
    {
      "cell_type": "markdown",
      "metadata": {
        "id": "wfO2VaEiAL5V"
      },
      "source": [
        "RF accuracy"
      ]
    },
    {
      "cell_type": "code",
      "execution_count": null,
      "metadata": {
        "colab": {
          "base_uri": "https://localhost:8080/"
        },
        "id": "Y6arbZVOAgFZ",
        "outputId": "af720395-48a7-42a0-a688-bc671dfe4fe3"
      },
      "outputs": [],
      "source": [
        "RF_accuracy_train=accuracy_score(y_train,grid_rf.predict(x_train_encoded))\n",
        "print(\"RF Train Accuracy:\",round(RF_accuracy_train*100,2),\"%\")\n",
        "\n",
        "RF_accuracy_test=accuracy_score(y_test,grid_rf.predict(x_test_encoded))\n",
        "print(\"RF Test Accuracy:\",round(RF_accuracy_test*100,2),\"%\")"
      ]
    },
    {
      "cell_type": "markdown",
      "metadata": {
        "id": "WVZn4qFvALog"
      },
      "source": [
        "RF precision\n"
      ]
    },
    {
      "cell_type": "code",
      "execution_count": null,
      "metadata": {
        "colab": {
          "base_uri": "https://localhost:8080/"
        },
        "id": "EH3ct_VnAgyR",
        "outputId": "62de4271-83cc-4599-8926-55f53736f289"
      },
      "outputs": [],
      "source": [
        "RF_precision_train=precision_score(y_train,grid_rf.predict(x_train_encoded),average='weighted')\n",
        "print(\"RF Train Precision:\",round(RF_precision_train*100,2),\"%\")\n",
        "\n",
        "RF_precision_test=precision_score(y_test,grid_rf.predict(x_test_encoded),average='weighted')\n",
        "print(\"RF Test Precision:\",round(RF_precision_test*100,2),\"%\")"
      ]
    },
    {
      "cell_type": "markdown",
      "metadata": {
        "id": "bbHVPBZNALW-"
      },
      "source": [
        "RF recall"
      ]
    },
    {
      "cell_type": "code",
      "execution_count": null,
      "metadata": {
        "colab": {
          "base_uri": "https://localhost:8080/"
        },
        "id": "X5nSrTx6Ai7y",
        "outputId": "ef926b2f-f0fb-496f-bda4-68938aa039c8"
      },
      "outputs": [],
      "source": [
        "RF_recall_train=recall_score(y_train,grid_rf.predict(x_train_encoded),average='weighted')\n",
        "print(\"RF Train Recall:\",round(RF_recall_train*100,2),\"%\")\n",
        "\n",
        "RF_recall_test=recall_score(y_test,grid_rf.predict(x_test_encoded),average='weighted')\n",
        "print(\"RF Test Recall:\",round(RF_recall_test*100,2),\"%\")"
      ]
    },
    {
      "cell_type": "markdown",
      "metadata": {
        "id": "mHleOauYALHZ"
      },
      "source": [
        "RF F1-score"
      ]
    },
    {
      "cell_type": "code",
      "execution_count": null,
      "metadata": {
        "colab": {
          "base_uri": "https://localhost:8080/"
        },
        "id": "21FkZOf6AiTR",
        "outputId": "0929e0f3-87b7-41bc-ab88-9ff527e4e7b9"
      },
      "outputs": [],
      "source": [
        "RF_F1_train=f1_score(y_train,grid_rf.predict(x_train_encoded),average='weighted')\n",
        "print(\"RF Train F1-score:\",round(RF_F1_train*100,2),\"%\")\n",
        "\n",
        "RF_F1_test=f1_score(y_test,grid_rf.predict(x_test_encoded),average='weighted')\n",
        "print(\"RF Test F1-score:\",round(RF_F1_test*100,2),\"%\")"
      ]
    },
    {
      "cell_type": "markdown",
      "metadata": {
        "id": "qgtFb6elAK0N"
      },
      "source": [
        "RF confusion matrix"
      ]
    },
    {
      "cell_type": "code",
      "execution_count": null,
      "metadata": {
        "colab": {
          "base_uri": "https://localhost:8080/"
        },
        "id": "9btXXjkjAjz8",
        "outputId": "3d538b5b-0e5b-4675-9a41-5c3a2886005f"
      },
      "outputs": [],
      "source": [
        "RF_confusion_matrix=confusion_matrix(y_test,grid_rf.predict(x_test_encoded))\n",
        "print(\"RF Confusion Matrix:\",RF_confusion_matrix)"
      ]
    },
    {
      "cell_type": "markdown",
      "metadata": {
        "id": "1RsDECQCfl81"
      },
      "source": [
        "## Final Conclusion\n",
        "\n",
        "In this project, we aimed to predict obesity levels based on lifestyle habits, family history, and physical attributes using machine learning models.\n",
        "\n",
        "### Best Performing Model\n",
        "After training and evaluating multiple models (Logistic Regression, KNN, SVM, and Random Forest), the **Random Forest classifier** delivered the best overall performance. It achieved the highest accuracy, precision, recall, and F1-score on both the training and test datasets after hyperparameter tuning.\n",
        "\n",
        "### Key Features Impacting Obesity\n",
        "- **BMI (Body Mass Index)**: A derived feature that strongly correlates with obesity categories.\n",
        "- **Family History of Overweight**: A major contributing factor to obesity risk.\n",
        "- **Physical Activity (FAF)**: Lower activity levels were clearly associated with higher obesity.\n",
        "- **High-Calorie Food Consumption (FAVC)** and **Water Intake (CH2O)**: Both significantly impacted obesity likelihood.\n",
        "- **Vegetable Consumption (FCVC)** and **Calorie Monitoring (SCC)** also showed meaningful influence.\n",
        "\n",
        "### Prevention Insights\n",
        "- Promoting physical activity and reducing screen time can help reduce obesity risk.\n",
        "- Encouraging regular water intake and balanced meals is essential.\n",
        "- Education around family history and early intervention may help individuals take preventive measures sooner.\n",
        "- Behavioral changes like reducing high-calorie snacks and increasing vegetable intake are crucial for maintaining healthy weight.\n",
        "\n",
        "The developed system can assist in early detection and intervention strategies by evaluating individual lifestyle data and predicting obesity risk with confidence."
      ]
    },
    {
      "cell_type": "code",
      "execution_count": null,
      "metadata": {
        "id": "LtmGyU6jfxAj"
      },
      "outputs": [],
      "source": []
    }
  ],
  "metadata": {
    "colab": {
      "provenance": []
    },
    "kernelspec": {
      "display_name": "pytorch_env",
      "language": "python",
      "name": "python3"
    },
    "language_info": {
      "codemirror_mode": {
        "name": "ipython",
        "version": 3
      },
      "file_extension": ".py",
      "mimetype": "text/x-python",
      "name": "python",
      "nbconvert_exporter": "python",
      "pygments_lexer": "ipython3",
      "version": "3.13.3"
    }
  },
  "nbformat": 4,
  "nbformat_minor": 0
}
